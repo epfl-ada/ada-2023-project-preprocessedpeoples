{
 "cells": [
  {
   "cell_type": "code",
   "execution_count": 1,
   "metadata": {},
   "outputs": [],
   "source": [
    "from tools.wikidata import get_imdbid,get_additional_data"
   ]
  },
  {
   "cell_type": "markdown",
   "metadata": {},
   "source": [
    "### Usage of `WikiData` Tools\n",
    "\n",
    "Ex:\n",
    "\n",
    "\n",
    "**Film:** Raiders of the Lost Ark \n",
    "\n",
    "\n",
    "**Freebase ID:** /m/0f4yh"
   ]
  },
  {
   "cell_type": "markdown",
   "metadata": {},
   "source": [
    "Use method ``get_imdbid(<freebase_id>)`` to retrieve IMDB ID for a given movie"
   ]
  },
  {
   "cell_type": "code",
   "execution_count": 2,
   "metadata": {},
   "outputs": [
    {
     "data": {
      "text/plain": [
       "'tt0082971'"
      ]
     },
     "execution_count": 2,
     "metadata": {},
     "output_type": "execute_result"
    }
   ],
   "source": [
    "get_imdbid(\"/m/0f4yh\")"
   ]
  },
  {
   "cell_type": "markdown",
   "metadata": {},
   "source": [
    "Use method ``get_additional_data(<freebase_id>)`` to retrieve director, screenwriter and assessment data for a given movie"
   ]
  },
  {
   "cell_type": "code",
   "execution_count": 3,
   "metadata": {},
   "outputs": [
    {
     "data": {
      "text/plain": [
       "{'directors': {'Steven Spielberg'},\n",
       " 'screenwriters': {'George Lucas', 'Lawrence Kasdan', 'Philip Kaufman'},\n",
       " 'assessments': {('Bechdel test', 'fails'),\n",
       "  ('Bechdel test', 'passes'),\n",
       "  ('reverse Bechdel Test', 'passes')}}"
      ]
     },
     "execution_count": 3,
     "metadata": {},
     "output_type": "execute_result"
    }
   ],
   "source": [
    "get_additional_data(\"/m/0f4yh\")"
   ]
  }
 ],
 "metadata": {
  "kernelspec": {
   "display_name": "base",
   "language": "python",
   "name": "python3"
  },
  "language_info": {
   "codemirror_mode": {
    "name": "ipython",
    "version": 3
   },
   "file_extension": ".py",
   "mimetype": "text/x-python",
   "name": "python",
   "nbconvert_exporter": "python",
   "pygments_lexer": "ipython3",
   "version": "3.9.13"
  }
 },
 "nbformat": 4,
 "nbformat_minor": 2
}
