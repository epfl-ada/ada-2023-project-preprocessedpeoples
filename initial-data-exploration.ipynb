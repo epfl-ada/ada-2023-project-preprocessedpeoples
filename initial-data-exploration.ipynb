{
 "cells": [
  {
   "cell_type": "markdown",
   "metadata": {},
   "source": [
    "# CMU movie data set initial data exploration\n",
    "In this notebook we seek to find general trends in the available data without performing in depth analysis. We seek to find high level trends which we can further explore"
   ]
  },
  {
   "cell_type": "code",
   "execution_count": 1,
   "metadata": {},
   "outputs": [],
   "source": [
    "import matplotlib.pyplot as plt\n",
    "import numpy as np\n",
    "import pandas as pd\n",
    "import os\n",
    "import json"
   ]
  },
  {
   "cell_type": "markdown",
   "metadata": {},
   "source": [
    "## Import the data"
   ]
  },
  {
   "cell_type": "code",
   "execution_count": 41,
   "metadata": {},
   "outputs": [],
   "source": [
    "character_df = pd.read_csv(\"dataset/MovieSummaries/character.metadata.tsv\", sep=\"\\t\", header=None)\n",
    "movies_df = pd.read_csv(\"dataset/MovieSummaries/movie.metadata.tsv\", sep=\"\\t\", header=None)"
   ]
  },
  {
   "cell_type": "markdown",
   "metadata": {},
   "source": [
    "### Relabel the columns"
   ]
  },
  {
   "cell_type": "code",
   "execution_count": 42,
   "metadata": {},
   "outputs": [],
   "source": [
    "# relabel the columns \n",
    "character_df.columns = [\n",
    "    \"Wikipedia movie ID\",\n",
    "    \"Freebase movie ID\",\n",
    "    \"Movie release date\",\n",
    "    \"Character name\",\n",
    "    \"Actor date of birth\",\n",
    "    \"Actor gender\",\n",
    "    \"Actor height (in meters)\",\n",
    "    \"Actor ethnicity (Freebase ID)\",\n",
    "    \"Actor name\",\n",
    "    \"Actor age at movie release\",\n",
    "    \"Freebase character/actor map ID\",\n",
    "    \"Freebase character ID\",\n",
    "    \"Freebase actor ID\"\n",
    "]\n",
    "\n",
    "# relabel the movie columns \n",
    "movies_df.columns = [\n",
    "    \"Wikipedia movie ID\",\n",
    "    \"Freebase movie ID\",\n",
    "    \"Movie name\",\n",
    "    \"Movie release date\",\n",
    "    \"Movie box office revenue\",\n",
    "    \"Movie runtime\",\n",
    "    \"Movie languages (Freebase ID:name tuples)\",\n",
    "    \"Movie countries (Freebase ID:name tuples)\",\n",
    "    \"Movie genres (Freebase ID:name tuples)\"\n",
    "]"
   ]
  },
  {
   "cell_type": "markdown",
   "metadata": {},
   "source": [
    "## Helper function to convert the json columns\n",
    "Converts to json columns (language, country, genre) into a more workable format"
   ]
  },
  {
   "cell_type": "code",
   "execution_count": 43,
   "metadata": {},
   "outputs": [],
   "source": [
    "# Helper function to clean up the columns which are stored as a json.\n",
    "def convert_json_cols_(df, id_cols, convert_col, new_col_name):\n",
    "    _df = df.loc[:, id_cols + [convert_col]]\n",
    "\n",
    "    # create a new data frame based on just the movie genres\n",
    "    _df[\"_dict\"] = _df.apply(\n",
    "        lambda row : json.loads(row[convert_col]), axis = 1)\n",
    "\n",
    "    # get the values as a list\n",
    "    _df[new_col_name] = _df.apply(\n",
    "        lambda row : list(row[\"_dict\"].values()), axis = 1)\n",
    "\n",
    "    # make a long data frame where each genre of a film is replicated as a row. \n",
    "    # If a film has two genres, it will have two rows. \n",
    "    columns_to_drop = [convert_col, \"_dict\"]\n",
    "    _df_long = _df.drop(columns=columns_to_drop).explode(column=new_col_name)\n",
    "    return _df_long.reset_index(drop=True)"
   ]
  },
  {
   "cell_type": "markdown",
   "metadata": {},
   "source": [
    "## Clean up the json columns\n",
    "Make the columns easier to use"
   ]
  },
  {
   "cell_type": "code",
   "execution_count": 44,
   "metadata": {},
   "outputs": [],
   "source": [
    "# more workable genre df\n",
    "genre_df = convert_json_cols_(\n",
    "    movies_df, \n",
    "    id_cols=[\"Wikipedia movie ID\", \"Freebase movie ID\"],\n",
    "    convert_col=\"Movie genres (Freebase ID:name tuples)\",\n",
    "    new_col_name=\"Genre\"\n",
    "    )\n",
    "\n",
    "# more workable language df\n",
    "language_df = convert_json_cols_(\n",
    "    movies_df, \n",
    "    id_cols=[\"Wikipedia movie ID\", \"Freebase movie ID\"],\n",
    "    convert_col=\"Movie languages (Freebase ID:name tuples)\",\n",
    "    new_col_name=\"Language\"\n",
    "    )\n",
    "\n",
    "# more workable language df\n",
    "country_df = convert_json_cols_(\n",
    "    movies_df, \n",
    "    id_cols=[\"Wikipedia movie ID\", \"Freebase movie ID\"],\n",
    "    convert_col=\"Movie countries (Freebase ID:name tuples)\",\n",
    "    new_col_name=\"Country\"\n",
    "    )"
   ]
  },
  {
   "cell_type": "markdown",
   "metadata": {},
   "source": [
    "### Clean up the revenue column"
   ]
  },
  {
   "cell_type": "code",
   "execution_count": 45,
   "metadata": {},
   "outputs": [],
   "source": [
    "# remove all the na revenue rows\n",
    "revenue_df = movies_df.loc[:, [\"Wikipedia movie ID\", \"Freebase movie ID\", \"Movie box office revenue\"]].dropna(subset=[\"Movie box office revenue\"])"
   ]
  },
  {
   "cell_type": "code",
   "execution_count": 46,
   "metadata": {},
   "outputs": [],
   "source": [
    "na_revenue_bool_ = movies_df.loc[:, \"Movie box office revenue\"].isna()\n",
    "na_revenue_df = movies_df.loc[na_revenue_bool_, :]"
   ]
  },
  {
   "cell_type": "code",
   "execution_count": 124,
   "metadata": {},
   "outputs": [],
   "source": [
    "movies_df[\"Release_year\"] = movies_df.loc[:, \"Movie release date\"].str.slice(0, 4)\n",
    "year_df = movies_df.loc[:, [\"Wikipedia movie ID\", \"Freebase movie ID\", \"Release_year\"]]"
   ]
  },
  {
   "cell_type": "markdown",
   "metadata": {},
   "source": [
    "## Inspect the movie release year"
   ]
  },
  {
   "cell_type": "code",
   "execution_count": 145,
   "metadata": {},
   "outputs": [
    {
     "data": {
      "text/html": [
       "<div>\n",
       "<style scoped>\n",
       "    .dataframe tbody tr th:only-of-type {\n",
       "        vertical-align: middle;\n",
       "    }\n",
       "\n",
       "    .dataframe tbody tr th {\n",
       "        vertical-align: top;\n",
       "    }\n",
       "\n",
       "    .dataframe thead th {\n",
       "        text-align: right;\n",
       "    }\n",
       "</style>\n",
       "<table border=\"1\" class=\"dataframe\">\n",
       "  <thead>\n",
       "    <tr style=\"text-align: right;\">\n",
       "      <th></th>\n",
       "      <th>Wikipedia movie ID</th>\n",
       "      <th>Freebase movie ID</th>\n",
       "      <th>Movie name</th>\n",
       "      <th>Movie release date</th>\n",
       "      <th>Movie box office revenue</th>\n",
       "      <th>Movie runtime</th>\n",
       "      <th>Movie languages (Freebase ID:name tuples)</th>\n",
       "      <th>Movie countries (Freebase ID:name tuples)</th>\n",
       "      <th>Movie genres (Freebase ID:name tuples)</th>\n",
       "      <th>Release_year</th>\n",
       "    </tr>\n",
       "  </thead>\n",
       "  <tbody>\n",
       "    <tr>\n",
       "      <th>62836</th>\n",
       "      <td>29666067</td>\n",
       "      <td>/m/0fphzrf</td>\n",
       "      <td>Hunting Season</td>\n",
       "      <td>1010-12-02</td>\n",
       "      <td>12160978.0</td>\n",
       "      <td>140.0</td>\n",
       "      <td>{\"/m/02hwyss\": \"Turkish Language\", \"/m/02h40lc...</td>\n",
       "      <td>{\"/m/01znc_\": \"Turkey\"}</td>\n",
       "      <td>{\"/m/0lsxr\": \"Crime Fiction\", \"/m/02n4kr\": \"My...</td>\n",
       "      <td>1010</td>\n",
       "    </tr>\n",
       "  </tbody>\n",
       "</table>\n",
       "</div>"
      ],
      "text/plain": [
       "       Wikipedia movie ID Freebase movie ID      Movie name  \\\n",
       "62836            29666067        /m/0fphzrf  Hunting Season   \n",
       "\n",
       "      Movie release date  Movie box office revenue  Movie runtime  \\\n",
       "62836         1010-12-02                12160978.0          140.0   \n",
       "\n",
       "               Movie languages (Freebase ID:name tuples)  \\\n",
       "62836  {\"/m/02hwyss\": \"Turkish Language\", \"/m/02h40lc...   \n",
       "\n",
       "      Movie countries (Freebase ID:name tuples)  \\\n",
       "62836                   {\"/m/01znc_\": \"Turkey\"}   \n",
       "\n",
       "                  Movie genres (Freebase ID:name tuples) Release_year  \n",
       "62836  {\"/m/0lsxr\": \"Crime Fiction\", \"/m/02n4kr\": \"My...         1010  "
      ]
     },
     "execution_count": 145,
     "metadata": {},
     "output_type": "execute_result"
    }
   ],
   "source": [
    "movies_df.loc[year_df.loc[:, \"Release_year\"]==\"1010\", :]"
   ]
  },
  {
   "cell_type": "code",
   "execution_count": 146,
   "metadata": {},
   "outputs": [
    {
     "data": {
      "text/html": [
       "<div>\n",
       "<style scoped>\n",
       "    .dataframe tbody tr th:only-of-type {\n",
       "        vertical-align: middle;\n",
       "    }\n",
       "\n",
       "    .dataframe tbody tr th {\n",
       "        vertical-align: top;\n",
       "    }\n",
       "\n",
       "    .dataframe thead th {\n",
       "        text-align: right;\n",
       "    }\n",
       "</style>\n",
       "<table border=\"1\" class=\"dataframe\">\n",
       "  <thead>\n",
       "    <tr style=\"text-align: right;\">\n",
       "      <th></th>\n",
       "      <th>Wikipedia movie ID</th>\n",
       "      <th>Freebase movie ID</th>\n",
       "      <th>Movie name</th>\n",
       "      <th>Movie release date</th>\n",
       "      <th>Movie box office revenue</th>\n",
       "      <th>Movie runtime</th>\n",
       "      <th>Movie languages (Freebase ID:name tuples)</th>\n",
       "      <th>Movie countries (Freebase ID:name tuples)</th>\n",
       "      <th>Movie genres (Freebase ID:name tuples)</th>\n",
       "      <th>Release_year</th>\n",
       "    </tr>\n",
       "  </thead>\n",
       "  <tbody>\n",
       "    <tr>\n",
       "      <th>57963</th>\n",
       "      <td>1082508</td>\n",
       "      <td>/m/044ggd</td>\n",
       "      <td>Roundhay Garden Scene</td>\n",
       "      <td>1888</td>\n",
       "      <td>NaN</td>\n",
       "      <td>0.03</td>\n",
       "      <td>{\"/m/06ppq\": \"Silent film\"}</td>\n",
       "      <td>{\"/m/07ssc\": \"United Kingdom\"}</td>\n",
       "      <td>{\"/m/02hmvc\": \"Short Film\", \"/m/06ppq\": \"Silen...</td>\n",
       "      <td>1888</td>\n",
       "    </tr>\n",
       "  </tbody>\n",
       "</table>\n",
       "</div>"
      ],
      "text/plain": [
       "       Wikipedia movie ID Freebase movie ID             Movie name  \\\n",
       "57963             1082508         /m/044ggd  Roundhay Garden Scene   \n",
       "\n",
       "      Movie release date  Movie box office revenue  Movie runtime  \\\n",
       "57963               1888                       NaN           0.03   \n",
       "\n",
       "      Movie languages (Freebase ID:name tuples)  \\\n",
       "57963               {\"/m/06ppq\": \"Silent film\"}   \n",
       "\n",
       "      Movie countries (Freebase ID:name tuples)  \\\n",
       "57963            {\"/m/07ssc\": \"United Kingdom\"}   \n",
       "\n",
       "                  Movie genres (Freebase ID:name tuples) Release_year  \n",
       "57963  {\"/m/02hmvc\": \"Short Film\", \"/m/06ppq\": \"Silen...         1888  "
      ]
     },
     "execution_count": 146,
     "metadata": {},
     "output_type": "execute_result"
    }
   ],
   "source": [
    "movies_df.loc[year_df.loc[:, \"Release_year\"]==\"1888\", :]"
   ]
  },
  {
   "cell_type": "code",
   "execution_count": 148,
   "metadata": {},
   "outputs": [
    {
     "data": {
      "text/plain": [
       "array(['2001', '2000', '1988', '1987', '1983', '1913', '2002', '1938',\n",
       "       '1974', '1960', '1930', '1997', '1989', '1986', nan, '1984',\n",
       "       '1964', '1967', '1992', '1999', '2009', '1962', '1931', '1935',\n",
       "       '1959', '2007', '1979', '1958', '1943', '1940', '2010', '1955',\n",
       "       '1990', '2011', '1982', '2006', '1914', '1980', '2008', '1917',\n",
       "       '1918', '1977', '1996', '1961', '1911', '1993', '1939', '1945',\n",
       "       '1994', '2003', '1976', '1949', '1975', '1991', '1995', '1923',\n",
       "       '1954', '1957', '1921', '1951', '1968', '1920', '1969', '2005',\n",
       "       '1915', '1973', '1972', '1956', '1947', '1963', '2004', '1929',\n",
       "       '2012', '1985', '1978', '1936', '1934', '1916', '1998', '1926',\n",
       "       '1953', '1950', '1971', '1966', '1910', '1928', '1927', '1932',\n",
       "       '1970', '1948', '1933', '1952', '1981', '1942', '1944', '1965',\n",
       "       '1922', '1901', '2013', '1924', '1919', '1941', '1937', '1903',\n",
       "       '1900', '1925', '1946', '1912', '1896', '1908', '1902', '1909',\n",
       "       '1906', '1898', '2014', '1907', '1895', '1905', '1904', '1891',\n",
       "       '2015', '1897', '1894', '1892', '1899', '1893', '2016', '1889',\n",
       "       '1890', '1888', '1010'], dtype=object)"
      ]
     },
     "execution_count": 148,
     "metadata": {},
     "output_type": "execute_result"
    }
   ],
   "source": [
    "movies_df.loc[:, \"Release_year\"].unique()"
   ]
  },
  {
   "cell_type": "markdown",
   "metadata": {},
   "source": [
    "### Plots to plot\n",
    "- Avg. num of female actors in film as a time series\n",
    "    - subdivide by genre\n",
    "    - subdivide by country\n",
    "    - subdivide by language\n",
    "- boxplots of genre and avg. num of female actors\n",
    "- instead of avg. num female actors, could look at proportion of actors who are female to scale for the number of characters in a film. \n",
    "- Avg. num of female actors above age 40 as a temporal analysis\n",
    "- Compare the boxplots of the age of male actors and female actors. See if the young and beautiful standards are perpetuated in female actresses. \n",
    "- repeat all the above with female actors above age 40. \n"
   ]
  },
  {
   "cell_type": "markdown",
   "metadata": {},
   "source": [
    "## Create some of the plots"
   ]
  },
  {
   "cell_type": "code",
   "execution_count": 48,
   "metadata": {},
   "outputs": [],
   "source": [
    "from scipy.stats import ttest_ind\n",
    "import seaborn as sns"
   ]
  },
  {
   "cell_type": "code",
   "execution_count": 49,
   "metadata": {},
   "outputs": [
    {
     "data": {
      "text/plain": [
       "<Axes: xlabel='Actor gender', ylabel='Actor age at movie release'>"
      ]
     },
     "execution_count": 49,
     "metadata": {},
     "output_type": "execute_result"
    },
    {
     "data": {
      "image/png": "[encoded data removed]",
      "text/plain": [
       "<Figure size 640x480 with 1 Axes>"
      ]
     },
     "metadata": {},
     "output_type": "display_data"
    }
   ],
   "source": [
    "character_df_ = character_df.dropna(subset=[\"Actor gender\", \"Actor age at movie release\"])\n",
    "character_df_ = character_df_.loc[character_df_.loc[:, \"Actor age at movie release\"]>0, :]\n",
    "\n",
    "sns.boxplot(x=\"Actor gender\", y=\"Actor age at movie release\", data=character_df_, palette=\"PRGn\")"
   ]
  },
  {
   "cell_type": "code",
   "execution_count": 52,
   "metadata": {},
   "outputs": [
    {
     "name": "stdout",
     "output_type": "stream",
     "text": [
      "Number of female characters with valid age: 99100\n",
      "Number of male characters with valid age: 191249\n"
     ]
    }
   ],
   "source": [
    "female_characters = character_df_.loc[:, \"Actor gender\"] == \"F\"\n",
    "male_characters = character_df_.loc[:, \"Actor gender\"] == \"M\"\n",
    "\n",
    "print(\"Number of female characters with valid age:\", np.sum(female_characters))\n",
    "print(\"Number of male characters with valid age:\", np.sum(male_characters))"
   ]
  },
  {
   "cell_type": "markdown",
   "metadata": {},
   "source": [
    "**Note** Here we do not perform a statistical test since the number of samples is too large. Any p-value calculated with this number of samples will end up being close to 0. Which is the case here."
   ]
  },
  {
   "cell_type": "markdown",
   "metadata": {},
   "source": [
    "## Temporal analysis of the average number of female casts vs male casts"
   ]
  },
  {
   "cell_type": "code",
   "execution_count": 53,
   "metadata": {},
   "outputs": [],
   "source": [
    "from scipy.stats import norm"
   ]
  },
  {
   "cell_type": "code",
   "execution_count": 54,
   "metadata": {},
   "outputs": [],
   "source": [
    "character_df_filter_year = character_df.dropna(subset=[\"Release_year\"])"
   ]
  },
  {
   "cell_type": "code",
   "execution_count": 68,
   "metadata": {},
   "outputs": [],
   "source": [
    "# for every movie, count the number of female and male actors \n",
    "gender_count_per_movie = character_df_filter_year.groupby(\n",
    "    by=[\"Wikipedia movie ID\"]).value_counts(subset=[\"Actor gender\"]).reset_index()"
   ]
  },
  {
   "cell_type": "code",
   "execution_count": 114,
   "metadata": {},
   "outputs": [
    {
     "data": {
      "text/html": [
       "<div>\n",
       "<style scoped>\n",
       "    .dataframe tbody tr th:only-of-type {\n",
       "        vertical-align: middle;\n",
       "    }\n",
       "\n",
       "    .dataframe tbody tr th {\n",
       "        vertical-align: top;\n",
       "    }\n",
       "\n",
       "    .dataframe thead th {\n",
       "        text-align: right;\n",
       "    }\n",
       "</style>\n",
       "<table border=\"1\" class=\"dataframe\">\n",
       "  <thead>\n",
       "    <tr style=\"text-align: right;\">\n",
       "      <th></th>\n",
       "      <th>Wikipedia movie ID</th>\n",
       "      <th>F</th>\n",
       "      <th>M</th>\n",
       "    </tr>\n",
       "  </thead>\n",
       "  <tbody>\n",
       "    <tr>\n",
       "      <th>0</th>\n",
       "      <td>330</td>\n",
       "      <td>4</td>\n",
       "      <td>0</td>\n",
       "    </tr>\n",
       "    <tr>\n",
       "      <th>1</th>\n",
       "      <td>3217</td>\n",
       "      <td>3</td>\n",
       "      <td>10</td>\n",
       "    </tr>\n",
       "    <tr>\n",
       "      <th>2</th>\n",
       "      <td>3333</td>\n",
       "      <td>6</td>\n",
       "      <td>8</td>\n",
       "    </tr>\n",
       "    <tr>\n",
       "      <th>3</th>\n",
       "      <td>3746</td>\n",
       "      <td>3</td>\n",
       "      <td>11</td>\n",
       "    </tr>\n",
       "    <tr>\n",
       "      <th>4</th>\n",
       "      <td>3837</td>\n",
       "      <td>2</td>\n",
       "      <td>18</td>\n",
       "    </tr>\n",
       "    <tr>\n",
       "      <th>...</th>\n",
       "      <td>...</td>\n",
       "      <td>...</td>\n",
       "      <td>...</td>\n",
       "    </tr>\n",
       "    <tr>\n",
       "      <th>59963</th>\n",
       "      <td>37322106</td>\n",
       "      <td>2</td>\n",
       "      <td>1</td>\n",
       "    </tr>\n",
       "    <tr>\n",
       "      <th>59964</th>\n",
       "      <td>37373877</td>\n",
       "      <td>3</td>\n",
       "      <td>3</td>\n",
       "    </tr>\n",
       "    <tr>\n",
       "      <th>59965</th>\n",
       "      <td>37476824</td>\n",
       "      <td>4</td>\n",
       "      <td>6</td>\n",
       "    </tr>\n",
       "    <tr>\n",
       "      <th>59966</th>\n",
       "      <td>37478048</td>\n",
       "      <td>1</td>\n",
       "      <td>3</td>\n",
       "    </tr>\n",
       "    <tr>\n",
       "      <th>59967</th>\n",
       "      <td>37501922</td>\n",
       "      <td>1</td>\n",
       "      <td>1</td>\n",
       "    </tr>\n",
       "  </tbody>\n",
       "</table>\n",
       "<p>59968 rows × 3 columns</p>\n",
       "</div>"
      ],
      "text/plain": [
       "       Wikipedia movie ID  F   M\n",
       "0                     330  4   0\n",
       "1                    3217  3  10\n",
       "2                    3333  6   8\n",
       "3                    3746  3  11\n",
       "4                    3837  2  18\n",
       "...                   ... ..  ..\n",
       "59963            37322106  2   1\n",
       "59964            37373877  3   3\n",
       "59965            37476824  4   6\n",
       "59966            37478048  1   3\n",
       "59967            37501922  1   1\n",
       "\n",
       "[59968 rows x 3 columns]"
      ]
     },
     "execution_count": 114,
     "metadata": {},
     "output_type": "execute_result"
    }
   ],
   "source": [
    "pivoted_table = gender_count_per_movie.pivot_table(\n",
    "    index = [\"Wikipedia movie ID\"], \n",
    "    columns=\"Actor gender\", \n",
    "    values=\"count\",\n",
    "    fill_value=0).reset_index()\n",
    "pivoted_table.rename_axis(None, axis=1)"
   ]
  },
  {
   "cell_type": "code",
   "execution_count": 117,
   "metadata": {},
   "outputs": [],
   "source": [
    "pivoted_table.loc[:, \"total\"] = pivoted_table.loc[:, \"F\"] + pivoted_table.loc[:, \"M\"] \n",
    "pivoted_table.loc[:, \"M_percentage\"] = 100 * pivoted_table.loc[:, \"M\"] / pivoted_table.loc[:, \"total\"]\n",
    "pivoted_table.loc[:, \"F_percentage\"] = 100 * pivoted_table.loc[:, \"F\"] / pivoted_table.loc[:, \"total\"]"
   ]
  },
  {
   "cell_type": "code",
   "execution_count": 127,
   "metadata": {},
   "outputs": [],
   "source": [
    "pivoted_table = pd.merge(pivoted_table, year_df,left_on=\"Wikipedia movie ID\", right_on=\"Wikipedia movie ID\")"
   ]
  },
  {
   "cell_type": "code",
   "execution_count": 129,
   "metadata": {},
   "outputs": [],
   "source": [
    "melted_table = pd.melt(\n",
    "    pivoted_table, \n",
    "    id_vars=[\"Wikipedia movie ID\", \"Release_year\"], \n",
    "    value_vars=[\"M_percentage\", \"F_percentage\"],\n",
    "    value_name=\"percentage\")"
   ]
  },
  {
   "cell_type": "code",
   "execution_count": 167,
   "metadata": {},
   "outputs": [],
   "source": [
    "from scipy.stats import norm\n",
    "\n",
    "confidence_level=0.95\n",
    "z_score_position = (1 + confidence_level)/2\n",
    "# Find the Z-score for a 95% confidence interval\n",
    "Z = norm.ppf(z_score_position)\n",
    "\n",
    "stats_ = melted_table.groupby(by=[\"Release_year\", 'variable'])[\"percentage\"].aggregate([np.mean, np.std, len]).reset_index()"
   ]
  },
  {
   "cell_type": "code",
   "execution_count": 168,
   "metadata": {},
   "outputs": [
    {
     "data": {
      "text/html": [
       "<div>\n",
       "<style scoped>\n",
       "    .dataframe tbody tr th:only-of-type {\n",
       "        vertical-align: middle;\n",
       "    }\n",
       "\n",
       "    .dataframe tbody tr th {\n",
       "        vertical-align: top;\n",
       "    }\n",
       "\n",
       "    .dataframe thead th {\n",
       "        text-align: right;\n",
       "    }\n",
       "</style>\n",
       "<table border=\"1\" class=\"dataframe\">\n",
       "  <thead>\n",
       "    <tr style=\"text-align: right;\">\n",
       "      <th></th>\n",
       "      <th>Release_year</th>\n",
       "      <th>count</th>\n",
       "    </tr>\n",
       "  </thead>\n",
       "  <tbody>\n",
       "    <tr>\n",
       "      <th>120</th>\n",
       "      <td>2015</td>\n",
       "      <td>4</td>\n",
       "    </tr>\n",
       "    <tr>\n",
       "      <th>121</th>\n",
       "      <td>1891</td>\n",
       "      <td>3</td>\n",
       "    </tr>\n",
       "    <tr>\n",
       "      <th>122</th>\n",
       "      <td>1892</td>\n",
       "      <td>3</td>\n",
       "    </tr>\n",
       "    <tr>\n",
       "      <th>123</th>\n",
       "      <td>2016</td>\n",
       "      <td>3</td>\n",
       "    </tr>\n",
       "    <tr>\n",
       "      <th>124</th>\n",
       "      <td>1890</td>\n",
       "      <td>2</td>\n",
       "    </tr>\n",
       "    <tr>\n",
       "      <th>125</th>\n",
       "      <td>1904</td>\n",
       "      <td>1</td>\n",
       "    </tr>\n",
       "    <tr>\n",
       "      <th>126</th>\n",
       "      <td>1893</td>\n",
       "      <td>1</td>\n",
       "    </tr>\n",
       "    <tr>\n",
       "      <th>127</th>\n",
       "      <td>1889</td>\n",
       "      <td>1</td>\n",
       "    </tr>\n",
       "    <tr>\n",
       "      <th>128</th>\n",
       "      <td>1888</td>\n",
       "      <td>1</td>\n",
       "    </tr>\n",
       "    <tr>\n",
       "      <th>129</th>\n",
       "      <td>1010</td>\n",
       "      <td>1</td>\n",
       "    </tr>\n",
       "  </tbody>\n",
       "</table>\n",
       "</div>"
      ],
      "text/plain": [
       "    Release_year  count\n",
       "120         2015      4\n",
       "121         1891      3\n",
       "122         1892      3\n",
       "123         2016      3\n",
       "124         1890      2\n",
       "125         1904      1\n",
       "126         1893      1\n",
       "127         1889      1\n",
       "128         1888      1\n",
       "129         1010      1"
      ]
     },
     "execution_count": 168,
     "metadata": {},
     "output_type": "execute_result"
    }
   ],
   "source": [
    "# some years don't have enough movies. We set an abitrary cut-off of 10 movies for further testing\n",
    "movies_df.loc[:, \"Release_year\"].value_counts().reset_index().tail(10)\n",
    "stats_ = stats_.loc[stats_.loc[:, \"len\"] >= 10, :]"
   ]
  },
  {
   "cell_type": "markdown",
   "metadata": {},
   "source": [
    "## Plot the temporal change of percentage of male and female actors"
   ]
  },
  {
   "cell_type": "code",
   "execution_count": 195,
   "metadata": {},
   "outputs": [
    {
     "data": {
      "text/plain": [
       "Text(0.5, 1.0, 'Average percentage of Male and Female in films')"
      ]
     },
     "execution_count": 195,
     "metadata": {},
     "output_type": "execute_result"
    },
    {
     "data": {
      "image/png": "[encoded data removed]",
      "text/plain": [
       "<Figure size 640x480 with 1 Axes>"
      ]
     },
     "metadata": {},
     "output_type": "display_data"
    }
   ],
   "source": [
    "stats_.loc[:, \"Release_year\"] = pd.to_numeric(stats_.loc[:, \"Release_year\"])\n",
    "\n",
    "stats_f = stats_.loc[stats_.loc[:, \"variable\"]==\"F_percentage\", :]\n",
    "stats_m = stats_.loc[stats_.loc[:, \"variable\"]==\"M_percentage\", :]\n",
    "\n",
    "# Plotting for Left-Handed Pitchers\n",
    "plt.plot(stats_f.loc[:, \"Release_year\"], stats_f.loc[:, \"mean\"],\n",
    "        marker='o', linestyle='-', color='green', label='Left-Handed')\n",
    "plt.fill_between(\n",
    "    stats_f.loc[:, \"Release_year\"].astype(float), \n",
    "    stats_f.loc[:, \"mean\"] - stats_f.loc[:, \"std\"],\n",
    "    stats_f.loc[:, \"mean\"] + stats_f.loc[:, \"std\"], color='green', alpha=0.1)\n",
    "\n",
    "plt.errorbar(stats_m.loc[:, \"Release_year\"], stats_m.loc[:, \"mean\"],\n",
    "            marker='o', linestyle='-', color='black', label='Left-Handed')\n",
    "plt.fill_between(\n",
    "    stats_m.loc[:, \"Release_year\"].astype(float), \n",
    "    stats_m.loc[:, \"mean\"] - stats_m.loc[:, \"std\"],\n",
    "    stats_m.loc[:, \"mean\"] + stats_m.loc[:, \"std\"], color='black', alpha=0.1)\n",
    "\n",
    "plt.title(\"Average percentage of Male and Female in films\")"
   ]
  },
  {
   "cell_type": "markdown",
   "metadata": {},
   "source": [
    "**Observation** We see a constantly low percentage of female actresses in movies in every year. We have a large overlap in the confidence intervals, however, the percentage is low in every year for female except for one year. \n",
    "\n",
    "We have a constant under-representation of women across all the years. \n",
    "\n",
    "The reason we opt not to perform a statistical test here is because of the number of films in each year. Most years have upwards of hundreds to thousands of films. Because of these high numbers, we will alway get a very small p-value. "
   ]
  },
  {
   "cell_type": "code",
   "execution_count": 197,
   "metadata": {},
   "outputs": [
    {
     "data": {
      "text/plain": [
       "Text(0.5, 1.0, 'Average percentage of Male and Female in films')"
      ]
     },
     "execution_count": 197,
     "metadata": {},
     "output_type": "execute_result"
    },
    {
     "data": {
      "image/png": "[encoded data removed]",
      "text/plain": [
       "<Figure size 640x480 with 1 Axes>"
      ]
     },
     "metadata": {},
     "output_type": "display_data"
    }
   ],
   "source": [
    "stats_.loc[:, \"Release_year\"] = pd.to_numeric(stats_.loc[:, \"Release_year\"])\n",
    "\n",
    "stats_f = stats_.loc[stats_.loc[:, \"variable\"]==\"F_percentage\", :]\n",
    "stats_m = stats_.loc[stats_.loc[:, \"variable\"]==\"M_percentage\", :]\n",
    "\n",
    "# Plotting for Left-Handed Pitchers\n",
    "plt.plot(stats_f.loc[:, \"Release_year\"], stats_f.loc[:, \"mean\"],\n",
    "        marker='o', linestyle='-', color='green', label='Left-Handed')\n",
    "plt.fill_between(\n",
    "    stats_f.loc[:, \"Release_year\"].astype(float), \n",
    "    stats_f.loc[:, \"mean\"] - stats_f.loc[:, \"std\"],\n",
    "    stats_f.loc[:, \"mean\"] + stats_f.loc[:, \"std\"], color='green', alpha=0.1)\n",
    "\n",
    "plt.errorbar(stats_m.loc[:, \"Release_year\"], stats_m.loc[:, \"mean\"],\n",
    "            marker='o', linestyle='-', color='black', label='Left-Handed')\n",
    "plt.fill_between(\n",
    "    stats_m.loc[:, \"Release_year\"].astype(float), \n",
    "    stats_m.loc[:, \"mean\"] - stats_m.loc[:, \"std\"],\n",
    "    stats_m.loc[:, \"mean\"] + stats_m.loc[:, \"std\"], color='black', alpha=0.1)\n",
    "\n",
    "plt.xlim([2000, 2014])\n",
    "\n",
    "plt.title(\"Average percentage of Male and Female in films\")"
   ]
  },
  {
   "cell_type": "markdown",
   "metadata": {},
   "source": [
    "In fact, until the 2014, we do not see a sizeable increase in the proportion of female actors in films."
   ]
  },
  {
   "cell_type": "markdown",
   "metadata": {},
   "source": [
    "## Compare the mean of the mean proportions of male and female actors"
   ]
  },
  {
   "cell_type": "markdown",
   "metadata": {},
   "source": [
    "We can treat each year as a sample and study the mean proportions of each year. From LLN, we know that the mean proportions will have a normal distribution, hence a t-test is a suitable statistical test. "
   ]
  },
  {
   "cell_type": "code",
   "execution_count": 202,
   "metadata": {},
   "outputs": [
    {
     "data": {
      "text/plain": [
       "Text(0.5, 1.0, 'Boxplot of mean of mean proportions across years')"
      ]
     },
     "execution_count": 202,
     "metadata": {},
     "output_type": "execute_result"
    },
    {
     "data": {
      "image/png": "[encoded data removed]",
      "text/plain": [
       "<Figure size 640x480 with 1 Axes>"
      ]
     },
     "metadata": {},
     "output_type": "display_data"
    }
   ],
   "source": [
    "sns.boxplot(x=\"variable\", y=\"mean\", data=stats_, palette=\"PRGn\")\n",
    "plt.title(\"Boxplot of mean of mean proportions across years\")\n",
    "# ie. the dots are each year"
   ]
  },
  {
   "cell_type": "code",
   "execution_count": 203,
   "metadata": {},
   "outputs": [
    {
     "data": {
      "text/plain": [
       "TtestResult(statistic=-67.75775688081019, pvalue=1.2535649552504637e-145, df=212.0)"
      ]
     },
     "execution_count": 203,
     "metadata": {},
     "output_type": "execute_result"
    }
   ],
   "source": [
    "ttest_ind(\n",
    "    stats_f.loc[:, \"mean\"], \n",
    "    stats_m.loc[:, \"mean\"])"
   ]
  },
  {
   "cell_type": "markdown",
   "metadata": {},
   "source": [
    "**p-value** We obtain a pvalue of very close to 0. Meaning the difference in mean proportion of female actors and male actors across the years, is statistically significant. The male proportion is significantly higher than that of the female proportions. "
   ]
  },
  {
   "cell_type": "markdown",
   "metadata": {},
   "source": [
    "## Seeing if there is a correlation between box office revenue and proportion of female actors"
   ]
  },
  {
   "cell_type": "code",
   "execution_count": 225,
   "metadata": {},
   "outputs": [],
   "source": [
    "cols_to_use = list(year_df.columns.difference(revenue_df.columns))\n",
    "revenue_per_year_df = pd.merge(\n",
    "    revenue_df, \n",
    "    year_df.loc[:, cols_to_use + [\"Wikipedia movie ID\"]], \n",
    "    left_on=\"Wikipedia movie ID\", \n",
    "    right_on=\"Wikipedia movie ID\")"
   ]
  },
  {
   "cell_type": "code",
   "execution_count": 226,
   "metadata": {},
   "outputs": [],
   "source": [
    "cols_to_use = list(revenue_per_year_df.columns.difference(pivoted_table.columns))\n",
    "gender_revenue_per_year_df = pd.merge(\n",
    "    pivoted_table, \n",
    "    revenue_per_year_df.loc[:, cols_to_use + [\"Wikipedia movie ID\"]],\n",
    "    left_on=\"Wikipedia movie ID\", \n",
    "    right_on=\"Wikipedia movie ID\")"
   ]
  },
  {
   "cell_type": "code",
   "execution_count": 229,
   "metadata": {},
   "outputs": [
    {
     "data": {
      "text/html": [
       "<div>\n",
       "<style scoped>\n",
       "    .dataframe tbody tr th:only-of-type {\n",
       "        vertical-align: middle;\n",
       "    }\n",
       "\n",
       "    .dataframe tbody tr th {\n",
       "        vertical-align: top;\n",
       "    }\n",
       "\n",
       "    .dataframe thead th {\n",
       "        text-align: right;\n",
       "    }\n",
       "</style>\n",
       "<table border=\"1\" class=\"dataframe\">\n",
       "  <thead>\n",
       "    <tr style=\"text-align: right;\">\n",
       "      <th></th>\n",
       "      <th>Wikipedia movie ID</th>\n",
       "      <th>F</th>\n",
       "      <th>M</th>\n",
       "      <th>total</th>\n",
       "      <th>M_percentage</th>\n",
       "      <th>F_percentage</th>\n",
       "      <th>Freebase movie ID</th>\n",
       "      <th>Release_year</th>\n",
       "      <th>Movie box office revenue</th>\n",
       "    </tr>\n",
       "  </thead>\n",
       "  <tbody>\n",
       "    <tr>\n",
       "      <th>0</th>\n",
       "      <td>3217</td>\n",
       "      <td>3</td>\n",
       "      <td>10</td>\n",
       "      <td>13</td>\n",
       "      <td>76.923077</td>\n",
       "      <td>23.076923</td>\n",
       "      <td>/m/014hr</td>\n",
       "      <td>1992</td>\n",
       "      <td>21502796.0</td>\n",
       "    </tr>\n",
       "    <tr>\n",
       "      <th>1</th>\n",
       "      <td>3333</td>\n",
       "      <td>6</td>\n",
       "      <td>8</td>\n",
       "      <td>14</td>\n",
       "      <td>57.142857</td>\n",
       "      <td>42.857143</td>\n",
       "      <td>/m/0151l</td>\n",
       "      <td>1915</td>\n",
       "      <td>50000000.0</td>\n",
       "    </tr>\n",
       "    <tr>\n",
       "      <th>2</th>\n",
       "      <td>3746</td>\n",
       "      <td>3</td>\n",
       "      <td>11</td>\n",
       "      <td>14</td>\n",
       "      <td>78.571429</td>\n",
       "      <td>21.428571</td>\n",
       "      <td>/m/017n9</td>\n",
       "      <td>1982</td>\n",
       "      <td>33139618.0</td>\n",
       "    </tr>\n",
       "    <tr>\n",
       "      <th>3</th>\n",
       "      <td>3837</td>\n",
       "      <td>2</td>\n",
       "      <td>18</td>\n",
       "      <td>20</td>\n",
       "      <td>90.000000</td>\n",
       "      <td>10.000000</td>\n",
       "      <td>/m/018f8</td>\n",
       "      <td>1974</td>\n",
       "      <td>119500000.0</td>\n",
       "    </tr>\n",
       "    <tr>\n",
       "      <th>4</th>\n",
       "      <td>3947</td>\n",
       "      <td>5</td>\n",
       "      <td>10</td>\n",
       "      <td>15</td>\n",
       "      <td>66.666667</td>\n",
       "      <td>33.333333</td>\n",
       "      <td>/m/0191n</td>\n",
       "      <td>1986</td>\n",
       "      <td>8551228.0</td>\n",
       "    </tr>\n",
       "    <tr>\n",
       "      <th>...</th>\n",
       "      <td>...</td>\n",
       "      <td>...</td>\n",
       "      <td>...</td>\n",
       "      <td>...</td>\n",
       "      <td>...</td>\n",
       "      <td>...</td>\n",
       "      <td>...</td>\n",
       "      <td>...</td>\n",
       "      <td>...</td>\n",
       "    </tr>\n",
       "    <tr>\n",
       "      <th>8142</th>\n",
       "      <td>36354224</td>\n",
       "      <td>1</td>\n",
       "      <td>1</td>\n",
       "      <td>2</td>\n",
       "      <td>50.000000</td>\n",
       "      <td>50.000000</td>\n",
       "      <td>/m/09rz62m</td>\n",
       "      <td>1953</td>\n",
       "      <td>1000000.0</td>\n",
       "    </tr>\n",
       "    <tr>\n",
       "      <th>8143</th>\n",
       "      <td>36361189</td>\n",
       "      <td>0</td>\n",
       "      <td>2</td>\n",
       "      <td>2</td>\n",
       "      <td>100.000000</td>\n",
       "      <td>0.000000</td>\n",
       "      <td>/m/0k3jyh6</td>\n",
       "      <td>1951</td>\n",
       "      <td>1025000.0</td>\n",
       "    </tr>\n",
       "    <tr>\n",
       "      <th>8144</th>\n",
       "      <td>36745727</td>\n",
       "      <td>2</td>\n",
       "      <td>2</td>\n",
       "      <td>4</td>\n",
       "      <td>50.000000</td>\n",
       "      <td>50.000000</td>\n",
       "      <td>/m/0l8h5rw</td>\n",
       "      <td>2012</td>\n",
       "      <td>8666941.0</td>\n",
       "    </tr>\n",
       "    <tr>\n",
       "      <th>8145</th>\n",
       "      <td>36814246</td>\n",
       "      <td>4</td>\n",
       "      <td>2</td>\n",
       "      <td>6</td>\n",
       "      <td>33.333333</td>\n",
       "      <td>66.666667</td>\n",
       "      <td>/m/027jhb</td>\n",
       "      <td>1977</td>\n",
       "      <td>7000000.0</td>\n",
       "    </tr>\n",
       "    <tr>\n",
       "      <th>8146</th>\n",
       "      <td>36956792</td>\n",
       "      <td>5</td>\n",
       "      <td>22</td>\n",
       "      <td>27</td>\n",
       "      <td>81.481481</td>\n",
       "      <td>18.518519</td>\n",
       "      <td>/m/0d_2fb</td>\n",
       "      <td>2007</td>\n",
       "      <td>103071443.0</td>\n",
       "    </tr>\n",
       "  </tbody>\n",
       "</table>\n",
       "<p>8147 rows × 9 columns</p>\n",
       "</div>"
      ],
      "text/plain": [
       "      Wikipedia movie ID  F   M  total  M_percentage  F_percentage  \\\n",
       "0                   3217  3  10     13     76.923077     23.076923   \n",
       "1                   3333  6   8     14     57.142857     42.857143   \n",
       "2                   3746  3  11     14     78.571429     21.428571   \n",
       "3                   3837  2  18     20     90.000000     10.000000   \n",
       "4                   3947  5  10     15     66.666667     33.333333   \n",
       "...                  ... ..  ..    ...           ...           ...   \n",
       "8142            36354224  1   1      2     50.000000     50.000000   \n",
       "8143            36361189  0   2      2    100.000000      0.000000   \n",
       "8144            36745727  2   2      4     50.000000     50.000000   \n",
       "8145            36814246  4   2      6     33.333333     66.666667   \n",
       "8146            36956792  5  22     27     81.481481     18.518519   \n",
       "\n",
       "     Freebase movie ID Release_year  Movie box office revenue  \n",
       "0             /m/014hr         1992                21502796.0  \n",
       "1             /m/0151l         1915                50000000.0  \n",
       "2             /m/017n9         1982                33139618.0  \n",
       "3             /m/018f8         1974               119500000.0  \n",
       "4             /m/0191n         1986                 8551228.0  \n",
       "...                ...          ...                       ...  \n",
       "8142        /m/09rz62m         1953                 1000000.0  \n",
       "8143        /m/0k3jyh6         1951                 1025000.0  \n",
       "8144        /m/0l8h5rw         2012                 8666941.0  \n",
       "8145         /m/027jhb         1977                 7000000.0  \n",
       "8146         /m/0d_2fb         2007               103071443.0  \n",
       "\n",
       "[8147 rows x 9 columns]"
      ]
     },
     "execution_count": 229,
     "metadata": {},
     "output_type": "execute_result"
    }
   ],
   "source": [
    "gender_revenue_per_year_df"
   ]
  },
  {
   "cell_type": "code",
   "execution_count": null,
   "metadata": {},
   "outputs": [],
   "source": []
  }
 ],
 "metadata": {
  "kernelspec": {
   "display_name": "ada",
   "language": "python",
   "name": "python3"
  },
  "language_info": {
   "codemirror_mode": {
    "name": "ipython",
    "version": 3
   },
   "file_extension": ".py",
   "mimetype": "text/x-python",
   "name": "python",
   "nbconvert_exporter": "python",
   "pygments_lexer": "ipython3",
   "version": "3.9.18"
  }
 },
 "nbformat": 4,
 "nbformat_minor": 2
}
