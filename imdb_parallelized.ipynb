{
 "cells": [
  {
   "cell_type": "code",
   "execution_count": 25,
   "metadata": {},
   "outputs": [],
   "source": [
    "import pandas as pd\n",
    "from imdb import Cinemagoer\n",
    "from tools.imdb_multproc import *"
   ]
  },
  {
   "cell_type": "code",
   "execution_count": 26,
   "metadata": {},
   "outputs": [],
   "source": [
    "movies=pd.read_csv(\"dataset/movie.metadata.tsv\",sep=\"\\t\",names=[\"Wikipedia movie ID\",\n",
    "                                                                \"Freebase movie ID\",\n",
    "                                                                \"Movie name\",\n",
    "                                                                \"Movie release date\",\n",
    "                                                                \"Movie box office revenue\",\n",
    "                                                                \"Movie runtime\",\n",
    "                                                                \"Movie languages\",\n",
    "                                                                \"Movie countries\",\n",
    "                                                                \"Movie genres\"])"
   ]
  },
  {
   "cell_type": "code",
   "execution_count": 27,
   "metadata": {},
   "outputs": [
    {
     "name": "stderr",
     "output_type": "stream",
     "text": [
      "2023-11-13 12:24:20,381 CRITICAL [imdbpy] /Users/berkeargin/opt/anaconda3/lib/python3.9/site-packages/imdb/_exceptions.py:32: IMDbDataAccessError exception raised; args: ({'errcode': None, 'errmsg': 'None', 'url': 'https://www.imdb.com/find/?q=Runaway+Match+%281903%29&s=tt', 'proxy': '', 'exception type': 'IOError', 'original exception': <HTTPError 405: 'Not Allowed'>},); kwds: {}\n",
      "Traceback (most recent call last):\n",
      "  File \"/Users/berkeargin/opt/anaconda3/lib/python3.9/site-packages/imdb/parser/http/__init__.py\", line 233, in retrieve_unicode\n",
      "    response = uopener.open(url)\n",
      "  File \"/Users/berkeargin/opt/anaconda3/lib/python3.9/urllib/request.py\", line 523, in open\n",
      "    response = meth(req, response)\n",
      "  File \"/Users/berkeargin/opt/anaconda3/lib/python3.9/urllib/request.py\", line 632, in http_response\n",
      "    response = self.parent.error(\n",
      "  File \"/Users/berkeargin/opt/anaconda3/lib/python3.9/urllib/request.py\", line 561, in error\n",
      "    return self._call_chain(*args)\n",
      "  File \"/Users/berkeargin/opt/anaconda3/lib/python3.9/urllib/request.py\", line 494, in _call_chain\n",
      "    result = func(*args)\n",
      "  File \"/Users/berkeargin/opt/anaconda3/lib/python3.9/urllib/request.py\", line 641, in http_error_default\n",
      "    raise HTTPError(req.full_url, code, msg, hdrs, fp)\n",
      "urllib.error.HTTPError: HTTP Error 405: Not Allowed\n",
      "2023-11-13 12:24:34,455 CRITICAL [imdbpy] /Users/berkeargin/opt/anaconda3/lib/python3.9/site-packages/imdb/_exceptions.py:32: IMDbDataAccessError exception raised; args: ({'errcode': None, 'errmsg': 'None', 'url': 'https://www.imdb.com/find/?q=The+Tango+Player+%281991%29&s=tt', 'proxy': '', 'exception type': 'IOError', 'original exception': <HTTPError 500: 'Internal Server Error'>},); kwds: {}\n",
      "Traceback (most recent call last):\n",
      "  File \"/Users/berkeargin/opt/anaconda3/lib/python3.9/site-packages/imdb/parser/http/__init__.py\", line 233, in retrieve_unicode\n",
      "    response = uopener.open(url)\n",
      "  File \"/Users/berkeargin/opt/anaconda3/lib/python3.9/urllib/request.py\", line 523, in open\n",
      "    response = meth(req, response)\n",
      "  File \"/Users/berkeargin/opt/anaconda3/lib/python3.9/urllib/request.py\", line 632, in http_response\n",
      "    response = self.parent.error(\n",
      "  File \"/Users/berkeargin/opt/anaconda3/lib/python3.9/urllib/request.py\", line 561, in error\n",
      "    return self._call_chain(*args)\n",
      "  File \"/Users/berkeargin/opt/anaconda3/lib/python3.9/urllib/request.py\", line 494, in _call_chain\n",
      "    result = func(*args)\n",
      "  File \"/Users/berkeargin/opt/anaconda3/lib/python3.9/urllib/request.py\", line 641, in http_error_default\n",
      "    raise HTTPError(req.full_url, code, msg, hdrs, fp)\n",
      "urllib.error.HTTPError: HTTP Error 500: Internal Server Error\n"
     ]
    }
   ],
   "source": [
    "#Selected only first 1000 for demo -> takes around ~3min\n",
    "responses=ret_imdb_data_parallel(10,movies.iloc[:1000])"
   ]
  },
  {
   "cell_type": "code",
   "execution_count": 31,
   "metadata": {},
   "outputs": [],
   "source": [
    "responses=pd.read_pickle(\"imdb_responses.pkl\")"
   ]
  },
  {
   "cell_type": "code",
   "execution_count": null,
   "metadata": {},
   "outputs": [],
   "source": [
    "responses"
   ]
  },
  {
   "cell_type": "code",
   "execution_count": 45,
   "metadata": {},
   "outputs": [],
   "source": [
    "ids=[r if type(r)==str else r.movieID for r in responses]"
   ]
  }
 ],
 "metadata": {
  "kernelspec": {
   "display_name": "base",
   "language": "python",
   "name": "python3"
  },
  "language_info": {
   "codemirror_mode": {
    "name": "ipython",
    "version": 3
   },
   "file_extension": ".py",
   "mimetype": "text/x-python",
   "name": "python",
   "nbconvert_exporter": "python",
   "pygments_lexer": "ipython3",
   "version": "3.9.13"
  }
 },
 "nbformat": 4,
 "nbformat_minor": 2
}
