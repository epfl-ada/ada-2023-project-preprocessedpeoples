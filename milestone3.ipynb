{
 "cells": [
  {
   "cell_type": "markdown",
   "metadata": {},
   "source": [
    "# **CinemaScope: Lens on Gender Shifts**"
   ]
  },
  {
   "cell_type": "markdown",
   "metadata": {},
   "source": [
    "**Content of the Project**\n",
    "\n",
    "\n",
    "Movies offer viewers the opportunity to share different experiences and emotions. While doing this, films generally focus on the emotions like sorrows and joys, serving as reflections of society. Despite its power and reach, it struggles with a long-standing issue of gender bias. It is believed by some people that there is gender bias in the movie industry. There are many arguments in this gender bias scope, such as stereotypical portrayal of male and female characters and underrepresentation of women.\n",
    "\n",
    "In this project, it is aimed to perform qualitative and quantitative analysis comprehensively to explore the multifaceted dimensions of gender representation in movies.This study examines whether the representation of female in the movie industry has improved in time to better understand the extent of female under-representation and stereotyping. \n",
    "\n",
    "TODO: ADD SOME METHODOLOGY INFO IN"
   ]
  },
  {
   "cell_type": "markdown",
   "metadata": {},
   "source": [
    "**Load the CMU movie dataset**\n",
    "\n",
    "\n",
    "In this project, our main dataset is CMU movie dataset which is taken from [CMU movie dataset](https://www.cs.cmu.edu/~ark/personas/)\n",
    ". All of the data taken from the website is collected under /dataset folder in the project.\n"
   ]
  },
  {
   "cell_type": "code",
   "execution_count": 29,
   "metadata": {},
   "outputs": [],
   "source": [
    "import json\n",
    "import os\n",
    "import ast  \n",
    "import pandas as pd\n",
    "import matplotlib.pyplot as plt\n",
    "import numpy as np\n",
    "import matplotlib.patches as mpatches\n",
    "import seaborn as sns\n",
    "import ast  \n",
    "\n",
    "# Disable SettingWithCopyWarning\n",
    "pd.options.mode.chained_assignment = None "
   ]
  },
  {
   "cell_type": "code",
   "execution_count": 30,
   "metadata": {},
   "outputs": [],
   "source": [
    "#folder_path= \"dataset\"\n",
    "folder_path=\".\\MovieSummaries\"\n",
    "character_metadata_path = os.path.join(folder_path, \"character.metadata.tsv\")\n",
    "movie_metadata_path = os.path.join(folder_path, \"movie.metadata.tsv\")\n",
    "\n",
    "tvtropes_path = os.path.join(folder_path, 'tvtropes.clusters.txt')\n",
    "name_clusters_path = os.path.join(folder_path, 'name.clusters.txt')\n",
    "plot_summary_path = os.path.join(folder_path, 'plot_summaries.txt')\n"
   ]
  },
  {
   "cell_type": "code",
   "execution_count": 31,
   "metadata": {},
   "outputs": [],
   "source": [
    "character_df=pd.read_csv(character_metadata_path,sep=\"\\t\",names=[\n",
    "    \"Wikipedia movie ID\",\n",
    "    \"Freebase movie ID\",\n",
    "    \"Movie release date\",\n",
    "    \"Character name\",\n",
    "    \"Actor date of birth\",\n",
    "    \"Actor gender\",\n",
    "    \"Actor height (in meters)\",\n",
    "    \"Actor ethnicity (Freebase ID)\",\n",
    "    \"Actor name\",\n",
    "    \"Actor age at movie release\",\n",
    "    \"Freebase character/actor map ID\",\n",
    "    \"Freebase character ID\",\n",
    "    \"Freebase actor ID\"\n",
    "])\n",
    "movie_df=pd.read_csv(movie_metadata_path,sep=\"\\t\",names=[\"Wikipedia movie ID\",\n",
    "                                                                \"Freebase movie ID\",\n",
    "                                                                \"Movie name\",\n",
    "                                                                \"Movie release date\",\n",
    "                                                                \"Movie box office revenue\",\n",
    "                                                                \"Movie runtime\",\n",
    "                                                                \"Movie languages\",\n",
    "                                                                \"Movie countries\",\n",
    "                                                                \"Movie genres\"])\n",
    "\n",
    "\n",
    "# Read tvtropes.clusters.txt and create a dataframe\n",
    "tvtropes_data = pd.read_csv(tvtropes_path, sep='\\t', header=None)\n",
    "tvtropes_data.columns = ['Character Type', 'Info']\n",
    "\n",
    "# Read name.clusters.txt and create a dataframe\n",
    "name_data = pd.read_csv(name_clusters_path, sep='\\t', header=None)\n",
    "name_data.columns = ['Character Name', 'ID']\n",
    "\n",
    "\n",
    "# Read plot_summaries.txt and create a dataframe\n",
    "summary_data = pd.read_csv(plot_summary_path, sep='\\t', header=None)\n",
    "summary_data.columns = ['ID', 'summary']"
   ]
  },
  {
   "cell_type": "markdown",
   "metadata": {},
   "source": [
    "**Preprocessing the data**\n",
    "\n",
    "In this section:\n",
    "\n",
    "*  we have extracted the values in columns which are in dictionary format to seperate columns\n",
    "*  proper naming for the columns\n",
    "*  handling missing data"
   ]
  },
  {
   "cell_type": "code",
   "execution_count": 32,
   "metadata": {},
   "outputs": [
    {
     "data": {
      "text/html": [
       "<div>\n",
       "<style scoped>\n",
       "    .dataframe tbody tr th:only-of-type {\n",
       "        vertical-align: middle;\n",
       "    }\n",
       "\n",
       "    .dataframe tbody tr th {\n",
       "        vertical-align: top;\n",
       "    }\n",
       "\n",
       "    .dataframe thead th {\n",
       "        text-align: right;\n",
       "    }\n",
       "</style>\n",
       "<table border=\"1\" class=\"dataframe\">\n",
       "  <thead>\n",
       "    <tr style=\"text-align: right;\">\n",
       "      <th></th>\n",
       "      <th>Wikipedia movie ID</th>\n",
       "      <th>Freebase movie ID</th>\n",
       "      <th>Movie release date</th>\n",
       "      <th>Character name</th>\n",
       "      <th>Actor date of birth</th>\n",
       "      <th>Actor gender</th>\n",
       "      <th>Actor height (in meters)</th>\n",
       "      <th>Actor ethnicity (Freebase ID)</th>\n",
       "      <th>Actor name</th>\n",
       "      <th>Actor age at movie release</th>\n",
       "      <th>Freebase character/actor map ID</th>\n",
       "      <th>Freebase character ID</th>\n",
       "      <th>Freebase actor ID</th>\n",
       "    </tr>\n",
       "  </thead>\n",
       "  <tbody>\n",
       "    <tr>\n",
       "      <th>0</th>\n",
       "      <td>975900</td>\n",
       "      <td>/m/03vyhn</td>\n",
       "      <td>2001-08-24</td>\n",
       "      <td>Akooshay</td>\n",
       "      <td>1958-08-26</td>\n",
       "      <td>F</td>\n",
       "      <td>1.620</td>\n",
       "      <td>NaN</td>\n",
       "      <td>Wanda De Jesus</td>\n",
       "      <td>42.0</td>\n",
       "      <td>/m/0bgchxw</td>\n",
       "      <td>/m/0bgcj3x</td>\n",
       "      <td>/m/03wcfv7</td>\n",
       "    </tr>\n",
       "    <tr>\n",
       "      <th>1</th>\n",
       "      <td>975900</td>\n",
       "      <td>/m/03vyhn</td>\n",
       "      <td>2001-08-24</td>\n",
       "      <td>Lieutenant Melanie Ballard</td>\n",
       "      <td>1974-08-15</td>\n",
       "      <td>F</td>\n",
       "      <td>1.780</td>\n",
       "      <td>/m/044038p</td>\n",
       "      <td>Natasha Henstridge</td>\n",
       "      <td>27.0</td>\n",
       "      <td>/m/0jys3m</td>\n",
       "      <td>/m/0bgchn4</td>\n",
       "      <td>/m/0346l4</td>\n",
       "    </tr>\n",
       "    <tr>\n",
       "      <th>2</th>\n",
       "      <td>975900</td>\n",
       "      <td>/m/03vyhn</td>\n",
       "      <td>2001-08-24</td>\n",
       "      <td>Desolation Williams</td>\n",
       "      <td>1969-06-15</td>\n",
       "      <td>M</td>\n",
       "      <td>1.727</td>\n",
       "      <td>/m/0x67</td>\n",
       "      <td>Ice Cube</td>\n",
       "      <td>32.0</td>\n",
       "      <td>/m/0jys3g</td>\n",
       "      <td>/m/0bgchn_</td>\n",
       "      <td>/m/01vw26l</td>\n",
       "    </tr>\n",
       "    <tr>\n",
       "      <th>3</th>\n",
       "      <td>975900</td>\n",
       "      <td>/m/03vyhn</td>\n",
       "      <td>2001-08-24</td>\n",
       "      <td>Sgt Jericho Butler</td>\n",
       "      <td>1967-09-12</td>\n",
       "      <td>M</td>\n",
       "      <td>1.750</td>\n",
       "      <td>NaN</td>\n",
       "      <td>Jason Statham</td>\n",
       "      <td>33.0</td>\n",
       "      <td>/m/02vchl6</td>\n",
       "      <td>/m/0bgchnq</td>\n",
       "      <td>/m/034hyc</td>\n",
       "    </tr>\n",
       "    <tr>\n",
       "      <th>4</th>\n",
       "      <td>975900</td>\n",
       "      <td>/m/03vyhn</td>\n",
       "      <td>2001-08-24</td>\n",
       "      <td>Bashira Kincaid</td>\n",
       "      <td>1977-09-25</td>\n",
       "      <td>F</td>\n",
       "      <td>1.650</td>\n",
       "      <td>NaN</td>\n",
       "      <td>Clea DuVall</td>\n",
       "      <td>23.0</td>\n",
       "      <td>/m/02vbb3r</td>\n",
       "      <td>/m/0bgchp9</td>\n",
       "      <td>/m/01y9xg</td>\n",
       "    </tr>\n",
       "  </tbody>\n",
       "</table>\n",
       "</div>"
      ],
      "text/plain": [
       "   Wikipedia movie ID Freebase movie ID Movie release date  \\\n",
       "0              975900         /m/03vyhn         2001-08-24   \n",
       "1              975900         /m/03vyhn         2001-08-24   \n",
       "2              975900         /m/03vyhn         2001-08-24   \n",
       "3              975900         /m/03vyhn         2001-08-24   \n",
       "4              975900         /m/03vyhn         2001-08-24   \n",
       "\n",
       "               Character name Actor date of birth Actor gender  \\\n",
       "0                    Akooshay          1958-08-26            F   \n",
       "1  Lieutenant Melanie Ballard          1974-08-15            F   \n",
       "2         Desolation Williams          1969-06-15            M   \n",
       "3          Sgt Jericho Butler          1967-09-12            M   \n",
       "4             Bashira Kincaid          1977-09-25            F   \n",
       "\n",
       "   Actor height (in meters) Actor ethnicity (Freebase ID)          Actor name  \\\n",
       "0                     1.620                           NaN      Wanda De Jesus   \n",
       "1                     1.780                    /m/044038p  Natasha Henstridge   \n",
       "2                     1.727                       /m/0x67            Ice Cube   \n",
       "3                     1.750                           NaN       Jason Statham   \n",
       "4                     1.650                           NaN         Clea DuVall   \n",
       "\n",
       "   Actor age at movie release Freebase character/actor map ID  \\\n",
       "0                        42.0                      /m/0bgchxw   \n",
       "1                        27.0                       /m/0jys3m   \n",
       "2                        32.0                       /m/0jys3g   \n",
       "3                        33.0                      /m/02vchl6   \n",
       "4                        23.0                      /m/02vbb3r   \n",
       "\n",
       "  Freebase character ID Freebase actor ID  \n",
       "0            /m/0bgcj3x        /m/03wcfv7  \n",
       "1            /m/0bgchn4         /m/0346l4  \n",
       "2            /m/0bgchn_        /m/01vw26l  \n",
       "3            /m/0bgchnq         /m/034hyc  \n",
       "4            /m/0bgchp9         /m/01y9xg  "
      ]
     },
     "execution_count": 32,
     "metadata": {},
     "output_type": "execute_result"
    }
   ],
   "source": [
    "character_df.head()"
   ]
  },
  {
   "cell_type": "code",
   "execution_count": 33,
   "metadata": {},
   "outputs": [],
   "source": [
    "# we wont use Freebase character/actor map ID, Freebase character ID, Freebase actor ID, so they are dropped\n",
    "character_df = character_df.drop(['Freebase character ID', 'Freebase actor ID'], axis=1)"
   ]
  },
  {
   "cell_type": "code",
   "execution_count": 34,
   "metadata": {},
   "outputs": [],
   "source": [
    "character_df['Movie release year'] = character_df['Movie release date'].str[:4]"
   ]
  },
  {
   "cell_type": "code",
   "execution_count": 35,
   "metadata": {},
   "outputs": [],
   "source": [
    "# convert the json parts into list of values (since we wont use the freebase ids)\n",
    "def extract_values(str_list):\n",
    "    return [list(ast.literal_eval(d).values()) if isinstance(d, str) else [] for d in str_list]\n",
    "\n",
    "\n",
    "# Apply the function to the specific columns\n",
    "movie_df['Movie languages'] = extract_values(movie_df['Movie languages'])\n",
    "movie_df['Movie countries'] = extract_values(movie_df['Movie countries'])\n",
    "movie_df['Movie genres'] = extract_values(movie_df['Movie genres'])\n",
    "\n",
    "\n",
    "#first 4 characters from each release date - only year\n",
    "movie_df['Movie release year'] = movie_df['Movie release date'].str[:4]"
   ]
  },
  {
   "cell_type": "code",
   "execution_count": 36,
   "metadata": {},
   "outputs": [
    {
     "data": {
      "text/html": [
       "<div>\n",
       "<style scoped>\n",
       "    .dataframe tbody tr th:only-of-type {\n",
       "        vertical-align: middle;\n",
       "    }\n",
       "\n",
       "    .dataframe tbody tr th {\n",
       "        vertical-align: top;\n",
       "    }\n",
       "\n",
       "    .dataframe thead th {\n",
       "        text-align: right;\n",
       "    }\n",
       "</style>\n",
       "<table border=\"1\" class=\"dataframe\">\n",
       "  <thead>\n",
       "    <tr style=\"text-align: right;\">\n",
       "      <th></th>\n",
       "      <th>Wikipedia movie ID</th>\n",
       "      <th>Freebase movie ID</th>\n",
       "      <th>Movie name</th>\n",
       "      <th>Movie release date</th>\n",
       "      <th>Movie box office revenue</th>\n",
       "      <th>Movie runtime</th>\n",
       "      <th>Movie languages</th>\n",
       "      <th>Movie countries</th>\n",
       "      <th>Movie genres</th>\n",
       "      <th>Movie release year</th>\n",
       "    </tr>\n",
       "  </thead>\n",
       "  <tbody>\n",
       "    <tr>\n",
       "      <th>0</th>\n",
       "      <td>975900</td>\n",
       "      <td>/m/03vyhn</td>\n",
       "      <td>Ghosts of Mars</td>\n",
       "      <td>2001-08-24</td>\n",
       "      <td>14010832.0</td>\n",
       "      <td>98.0</td>\n",
       "      <td>[English Language]</td>\n",
       "      <td>[United States of America]</td>\n",
       "      <td>[Thriller, Science Fiction, Horror, Adventure,...</td>\n",
       "      <td>2001</td>\n",
       "    </tr>\n",
       "    <tr>\n",
       "      <th>1</th>\n",
       "      <td>3196793</td>\n",
       "      <td>/m/08yl5d</td>\n",
       "      <td>Getting Away with Murder: The JonBenét Ramsey ...</td>\n",
       "      <td>2000-02-16</td>\n",
       "      <td>NaN</td>\n",
       "      <td>95.0</td>\n",
       "      <td>[English Language]</td>\n",
       "      <td>[United States of America]</td>\n",
       "      <td>[Mystery, Biographical film, Drama, Crime Drama]</td>\n",
       "      <td>2000</td>\n",
       "    </tr>\n",
       "    <tr>\n",
       "      <th>2</th>\n",
       "      <td>28463795</td>\n",
       "      <td>/m/0crgdbh</td>\n",
       "      <td>Brun bitter</td>\n",
       "      <td>1988</td>\n",
       "      <td>NaN</td>\n",
       "      <td>83.0</td>\n",
       "      <td>[Norwegian Language]</td>\n",
       "      <td>[Norway]</td>\n",
       "      <td>[Crime Fiction, Drama]</td>\n",
       "      <td>1988</td>\n",
       "    </tr>\n",
       "    <tr>\n",
       "      <th>3</th>\n",
       "      <td>9363483</td>\n",
       "      <td>/m/0285_cd</td>\n",
       "      <td>White Of The Eye</td>\n",
       "      <td>1987</td>\n",
       "      <td>NaN</td>\n",
       "      <td>110.0</td>\n",
       "      <td>[English Language]</td>\n",
       "      <td>[United Kingdom]</td>\n",
       "      <td>[Thriller, Erotic thriller, Psychological thri...</td>\n",
       "      <td>1987</td>\n",
       "    </tr>\n",
       "    <tr>\n",
       "      <th>4</th>\n",
       "      <td>261236</td>\n",
       "      <td>/m/01mrr1</td>\n",
       "      <td>A Woman in Flames</td>\n",
       "      <td>1983</td>\n",
       "      <td>NaN</td>\n",
       "      <td>106.0</td>\n",
       "      <td>[German Language]</td>\n",
       "      <td>[Germany]</td>\n",
       "      <td>[Drama]</td>\n",
       "      <td>1983</td>\n",
       "    </tr>\n",
       "  </tbody>\n",
       "</table>\n",
       "</div>"
      ],
      "text/plain": [
       "   Wikipedia movie ID Freebase movie ID  \\\n",
       "0              975900         /m/03vyhn   \n",
       "1             3196793         /m/08yl5d   \n",
       "2            28463795        /m/0crgdbh   \n",
       "3             9363483        /m/0285_cd   \n",
       "4              261236         /m/01mrr1   \n",
       "\n",
       "                                          Movie name Movie release date  \\\n",
       "0                                     Ghosts of Mars         2001-08-24   \n",
       "1  Getting Away with Murder: The JonBenét Ramsey ...         2000-02-16   \n",
       "2                                        Brun bitter               1988   \n",
       "3                                   White Of The Eye               1987   \n",
       "4                                  A Woman in Flames               1983   \n",
       "\n",
       "   Movie box office revenue  Movie runtime       Movie languages  \\\n",
       "0                14010832.0           98.0    [English Language]   \n",
       "1                       NaN           95.0    [English Language]   \n",
       "2                       NaN           83.0  [Norwegian Language]   \n",
       "3                       NaN          110.0    [English Language]   \n",
       "4                       NaN          106.0     [German Language]   \n",
       "\n",
       "              Movie countries  \\\n",
       "0  [United States of America]   \n",
       "1  [United States of America]   \n",
       "2                    [Norway]   \n",
       "3            [United Kingdom]   \n",
       "4                   [Germany]   \n",
       "\n",
       "                                        Movie genres Movie release year  \n",
       "0  [Thriller, Science Fiction, Horror, Adventure,...               2001  \n",
       "1   [Mystery, Biographical film, Drama, Crime Drama]               2000  \n",
       "2                             [Crime Fiction, Drama]               1988  \n",
       "3  [Thriller, Erotic thriller, Psychological thri...               1987  \n",
       "4                                            [Drama]               1983  "
      ]
     },
     "execution_count": 36,
     "metadata": {},
     "output_type": "execute_result"
    }
   ],
   "source": [
    "movie_df.head()"
   ]
  },
  {
   "cell_type": "code",
   "execution_count": 37,
   "metadata": {},
   "outputs": [
    {
     "data": {
      "text/html": [
       "<div>\n",
       "<style scoped>\n",
       "    .dataframe tbody tr th:only-of-type {\n",
       "        vertical-align: middle;\n",
       "    }\n",
       "\n",
       "    .dataframe tbody tr th {\n",
       "        vertical-align: top;\n",
       "    }\n",
       "\n",
       "    .dataframe thead th {\n",
       "        text-align: right;\n",
       "    }\n",
       "</style>\n",
       "<table border=\"1\" class=\"dataframe\">\n",
       "  <thead>\n",
       "    <tr style=\"text-align: right;\">\n",
       "      <th></th>\n",
       "      <th>Character Type</th>\n",
       "      <th>Info</th>\n",
       "    </tr>\n",
       "  </thead>\n",
       "  <tbody>\n",
       "    <tr>\n",
       "      <th>0</th>\n",
       "      <td>absent_minded_professor</td>\n",
       "      <td>{\"char\": \"Professor Philip Brainard\", \"movie\":...</td>\n",
       "    </tr>\n",
       "    <tr>\n",
       "      <th>1</th>\n",
       "      <td>absent_minded_professor</td>\n",
       "      <td>{\"char\": \"Professor Keenbean\", \"movie\": \"Richi...</td>\n",
       "    </tr>\n",
       "    <tr>\n",
       "      <th>2</th>\n",
       "      <td>absent_minded_professor</td>\n",
       "      <td>{\"char\": \"Dr. Reinhardt Lane\", \"movie\": \"The S...</td>\n",
       "    </tr>\n",
       "    <tr>\n",
       "      <th>3</th>\n",
       "      <td>absent_minded_professor</td>\n",
       "      <td>{\"char\": \"Dr. Harold Medford\", \"movie\": \"Them!...</td>\n",
       "    </tr>\n",
       "    <tr>\n",
       "      <th>4</th>\n",
       "      <td>absent_minded_professor</td>\n",
       "      <td>{\"char\": \"Daniel Jackson\", \"movie\": \"Stargate\"...</td>\n",
       "    </tr>\n",
       "  </tbody>\n",
       "</table>\n",
       "</div>"
      ],
      "text/plain": [
       "            Character Type                                               Info\n",
       "0  absent_minded_professor  {\"char\": \"Professor Philip Brainard\", \"movie\":...\n",
       "1  absent_minded_professor  {\"char\": \"Professor Keenbean\", \"movie\": \"Richi...\n",
       "2  absent_minded_professor  {\"char\": \"Dr. Reinhardt Lane\", \"movie\": \"The S...\n",
       "3  absent_minded_professor  {\"char\": \"Dr. Harold Medford\", \"movie\": \"Them!...\n",
       "4  absent_minded_professor  {\"char\": \"Daniel Jackson\", \"movie\": \"Stargate\"..."
      ]
     },
     "execution_count": 37,
     "metadata": {},
     "output_type": "execute_result"
    }
   ],
   "source": [
    "tvtropes_data.head()"
   ]
  },
  {
   "cell_type": "code",
   "execution_count": 38,
   "metadata": {},
   "outputs": [
    {
     "data": {
      "text/html": [
       "<div>\n",
       "<style scoped>\n",
       "    .dataframe tbody tr th:only-of-type {\n",
       "        vertical-align: middle;\n",
       "    }\n",
       "\n",
       "    .dataframe tbody tr th {\n",
       "        vertical-align: top;\n",
       "    }\n",
       "\n",
       "    .dataframe thead th {\n",
       "        text-align: right;\n",
       "    }\n",
       "</style>\n",
       "<table border=\"1\" class=\"dataframe\">\n",
       "  <thead>\n",
       "    <tr style=\"text-align: right;\">\n",
       "      <th></th>\n",
       "      <th>Character Type</th>\n",
       "      <th>char</th>\n",
       "      <th>movie</th>\n",
       "      <th>id</th>\n",
       "      <th>actor</th>\n",
       "    </tr>\n",
       "  </thead>\n",
       "  <tbody>\n",
       "    <tr>\n",
       "      <th>0</th>\n",
       "      <td>absent_minded_professor</td>\n",
       "      <td>Professor Philip Brainard</td>\n",
       "      <td>Flubber</td>\n",
       "      <td>/m/0jy9q0</td>\n",
       "      <td>Robin Williams</td>\n",
       "    </tr>\n",
       "    <tr>\n",
       "      <th>1</th>\n",
       "      <td>absent_minded_professor</td>\n",
       "      <td>Professor Keenbean</td>\n",
       "      <td>Richie Rich</td>\n",
       "      <td>/m/02vchl3</td>\n",
       "      <td>Michael McShane</td>\n",
       "    </tr>\n",
       "    <tr>\n",
       "      <th>2</th>\n",
       "      <td>absent_minded_professor</td>\n",
       "      <td>Dr. Reinhardt Lane</td>\n",
       "      <td>The Shadow</td>\n",
       "      <td>/m/0k6fkc</td>\n",
       "      <td>Ian McKellen</td>\n",
       "    </tr>\n",
       "    <tr>\n",
       "      <th>3</th>\n",
       "      <td>absent_minded_professor</td>\n",
       "      <td>Dr. Harold Medford</td>\n",
       "      <td>Them!</td>\n",
       "      <td>/m/0k6_br</td>\n",
       "      <td>Edmund Gwenn</td>\n",
       "    </tr>\n",
       "    <tr>\n",
       "      <th>4</th>\n",
       "      <td>absent_minded_professor</td>\n",
       "      <td>Daniel Jackson</td>\n",
       "      <td>Stargate</td>\n",
       "      <td>/m/0k3rhh</td>\n",
       "      <td>James Spader</td>\n",
       "    </tr>\n",
       "  </tbody>\n",
       "</table>\n",
       "</div>"
      ],
      "text/plain": [
       "            Character Type                       char        movie  \\\n",
       "0  absent_minded_professor  Professor Philip Brainard      Flubber   \n",
       "1  absent_minded_professor         Professor Keenbean  Richie Rich   \n",
       "2  absent_minded_professor         Dr. Reinhardt Lane   The Shadow   \n",
       "3  absent_minded_professor         Dr. Harold Medford        Them!   \n",
       "4  absent_minded_professor             Daniel Jackson     Stargate   \n",
       "\n",
       "           id            actor  \n",
       "0   /m/0jy9q0   Robin Williams  \n",
       "1  /m/02vchl3  Michael McShane  \n",
       "2   /m/0k6fkc     Ian McKellen  \n",
       "3   /m/0k6_br     Edmund Gwenn  \n",
       "4   /m/0k3rhh     James Spader  "
      ]
     },
     "execution_count": 38,
     "metadata": {},
     "output_type": "execute_result"
    }
   ],
   "source": [
    "# open the values in Info section of tvtropes\n",
    "tvtropes_data = pd.concat([tvtropes_data['Character Type'], tvtropes_data['Info'].apply(lambda x: pd.Series(json.loads(x)))], axis=1)\n",
    "tvtropes_data.head()"
   ]
  },
  {
   "cell_type": "code",
   "execution_count": 39,
   "metadata": {},
   "outputs": [
    {
     "data": {
      "text/html": [
       "<div>\n",
       "<style scoped>\n",
       "    .dataframe tbody tr th:only-of-type {\n",
       "        vertical-align: middle;\n",
       "    }\n",
       "\n",
       "    .dataframe tbody tr th {\n",
       "        vertical-align: top;\n",
       "    }\n",
       "\n",
       "    .dataframe thead th {\n",
       "        text-align: right;\n",
       "    }\n",
       "</style>\n",
       "<table border=\"1\" class=\"dataframe\">\n",
       "  <thead>\n",
       "    <tr style=\"text-align: right;\">\n",
       "      <th></th>\n",
       "      <th>Character Name</th>\n",
       "      <th>ID</th>\n",
       "    </tr>\n",
       "  </thead>\n",
       "  <tbody>\n",
       "    <tr>\n",
       "      <th>0</th>\n",
       "      <td>Stuart Little</td>\n",
       "      <td>/m/0k3w9c</td>\n",
       "    </tr>\n",
       "    <tr>\n",
       "      <th>1</th>\n",
       "      <td>Stuart Little</td>\n",
       "      <td>/m/0k3wcx</td>\n",
       "    </tr>\n",
       "    <tr>\n",
       "      <th>2</th>\n",
       "      <td>Stuart Little</td>\n",
       "      <td>/m/0k3wbn</td>\n",
       "    </tr>\n",
       "    <tr>\n",
       "      <th>3</th>\n",
       "      <td>John Doe</td>\n",
       "      <td>/m/0jyg35</td>\n",
       "    </tr>\n",
       "    <tr>\n",
       "      <th>4</th>\n",
       "      <td>John Doe</td>\n",
       "      <td>/m/0k2_zn</td>\n",
       "    </tr>\n",
       "  </tbody>\n",
       "</table>\n",
       "</div>"
      ],
      "text/plain": [
       "  Character Name         ID\n",
       "0  Stuart Little  /m/0k3w9c\n",
       "1  Stuart Little  /m/0k3wcx\n",
       "2  Stuart Little  /m/0k3wbn\n",
       "3       John Doe  /m/0jyg35\n",
       "4       John Doe  /m/0k2_zn"
      ]
     },
     "execution_count": 39,
     "metadata": {},
     "output_type": "execute_result"
    }
   ],
   "source": [
    "name_data.head()"
   ]
  },
  {
   "cell_type": "code",
   "execution_count": 40,
   "metadata": {},
   "outputs": [
    {
     "data": {
      "text/html": [
       "<div>\n",
       "<style scoped>\n",
       "    .dataframe tbody tr th:only-of-type {\n",
       "        vertical-align: middle;\n",
       "    }\n",
       "\n",
       "    .dataframe tbody tr th {\n",
       "        vertical-align: top;\n",
       "    }\n",
       "\n",
       "    .dataframe thead th {\n",
       "        text-align: right;\n",
       "    }\n",
       "</style>\n",
       "<table border=\"1\" class=\"dataframe\">\n",
       "  <thead>\n",
       "    <tr style=\"text-align: right;\">\n",
       "      <th></th>\n",
       "      <th>ID</th>\n",
       "      <th>summary</th>\n",
       "    </tr>\n",
       "  </thead>\n",
       "  <tbody>\n",
       "    <tr>\n",
       "      <th>0</th>\n",
       "      <td>23890098</td>\n",
       "      <td>Shlykov, a hard-working taxi driver and Lyosha...</td>\n",
       "    </tr>\n",
       "    <tr>\n",
       "      <th>1</th>\n",
       "      <td>31186339</td>\n",
       "      <td>The nation of Panem consists of a wealthy Capi...</td>\n",
       "    </tr>\n",
       "    <tr>\n",
       "      <th>2</th>\n",
       "      <td>20663735</td>\n",
       "      <td>Poovalli Induchoodan  is sentenced for six yea...</td>\n",
       "    </tr>\n",
       "    <tr>\n",
       "      <th>3</th>\n",
       "      <td>2231378</td>\n",
       "      <td>The Lemon Drop Kid , a New York City swindler,...</td>\n",
       "    </tr>\n",
       "    <tr>\n",
       "      <th>4</th>\n",
       "      <td>595909</td>\n",
       "      <td>Seventh-day Adventist Church pastor Michael Ch...</td>\n",
       "    </tr>\n",
       "  </tbody>\n",
       "</table>\n",
       "</div>"
      ],
      "text/plain": [
       "         ID                                            summary\n",
       "0  23890098  Shlykov, a hard-working taxi driver and Lyosha...\n",
       "1  31186339  The nation of Panem consists of a wealthy Capi...\n",
       "2  20663735  Poovalli Induchoodan  is sentenced for six yea...\n",
       "3   2231378  The Lemon Drop Kid , a New York City swindler,...\n",
       "4    595909  Seventh-day Adventist Church pastor Michael Ch..."
      ]
     },
     "execution_count": 40,
     "metadata": {},
     "output_type": "execute_result"
    }
   ],
   "source": [
    "summary_data.head()"
   ]
  },
  {
   "cell_type": "code",
   "execution_count": 41,
   "metadata": {},
   "outputs": [],
   "source": [
    "# change the naming for consistency\n",
    "summary_data = summary_data.rename(columns={'ID': 'Wikipedia movie ID'})"
   ]
  },
  {
   "cell_type": "markdown",
   "metadata": {},
   "source": [
    "Evaluate the Missing Data"
   ]
  },
  {
   "cell_type": "code",
   "execution_count": 42,
   "metadata": {},
   "outputs": [
    {
     "data": {
      "image/png": "[encoded data removed]",
      "text/plain": [
       "<Figure size 800x500 with 2 Axes>"
      ]
     },
     "metadata": {},
     "output_type": "display_data"
    }
   ],
   "source": [
    "missing_percentage_character_df = (character_df.isnull().sum() / len(character_df)) * 100\n",
    "missing_percentage_movie_df = (movie_df.isnull().sum() / len(movie_df)) * 100\n",
    "\n",
    "plt.figure(figsize=(8, 5))\n",
    "\n",
    "plt.subplot(1, 2, 1)  \n",
    "missing_percentage_character_df.plot(kind='bar', color='skyblue')\n",
    "plt.title('Missing Data Percentage in Character Dataset')\n",
    "plt.ylabel('Percentage')\n",
    "plt.xticks(rotation=45, ha='right')\n",
    "\n",
    "plt.subplot(1, 2, 2)  \n",
    "missing_percentage_movie_df.plot(kind='bar', color='coral')\n",
    "plt.title('Missing Data Percentage in Movie Dataset')\n",
    "plt.ylabel('Percentage')\n",
    "plt.xticks(rotation=45, ha='right')\n",
    "\n",
    "plt.tight_layout()  \n",
    "plt.show()\n"
   ]
  },
  {
   "cell_type": "markdown",
   "metadata": {},
   "source": [
    "It is clearly observed that there are lots of missing values in box office revenue. For this reason, we decided not to use that feature in our project since it can lead some wrong interpretations."
   ]
  },
  {
   "cell_type": "markdown",
   "metadata": {},
   "source": [
    "Decision for the Analysis Time Interval"
   ]
  },
  {
   "cell_type": "code",
   "execution_count": 43,
   "metadata": {},
   "outputs": [
    {
     "data": {
      "image/png": "[encoded data removed]",
      "text/plain": [
       "<Figure size 800x600 with 1 Axes>"
      ]
     },
     "metadata": {},
     "output_type": "display_data"
    }
   ],
   "source": [
    "movie_df['Movie release year'] = pd.to_numeric(movie_df['Movie release year'], errors='coerce')\n",
    "movie_df = movie_df.dropna(subset=['Movie release year'])\n",
    "\n",
    "movie_df['Movie release year'] = movie_df['Movie release year'].astype(int)\n",
    "min_year = 1900  # before that there are less number of movies, discarded.\n",
    "max_year = movie_df['Movie release year'].max()\n",
    "year_bins = np.arange(min_year, max_year + 5, 5)\n",
    "year_labels = [f'{int(y)}-{int(y+5)}' for y in year_bins[:-1]]\n",
    "\n",
    "# Categorize each row into a 20-year interval\n",
    "movie_df['Year Interval'] = pd.cut(movie_df['Movie release year'], bins=year_bins, labels=year_labels, right=False)\n",
    "movies_over_intervals = movie_df.groupby('Year Interval').size()\n",
    "\n",
    "plt.figure(figsize=(8, 6))\n",
    "movies_over_intervals.plot(kind='bar', color='skyblue')\n",
    "plt.title('Number of Movies Released Over 5-Year Intervals')\n",
    "plt.xlabel('Movie Release Year Interval')\n",
    "plt.ylabel('Number of Movies')\n",
    "plt.xticks(rotation=45)\n",
    "plt.show()\n"
   ]
  },
  {
   "cell_type": "markdown",
   "metadata": {},
   "source": [
    "It is seen that there are movies between 1900 to 2016. However, between 2010 and 2015 it is observed that there is less value in contrast to the increasing trend in time. So, we decided to use the data which we have found more reliable which is 1900 to 2010."
   ]
  },
  {
   "cell_type": "markdown",
   "metadata": {},
   "source": [
    "**Additional data generation**\n",
    "\n",
    "We collected additional data by following the below steps:\n",
    "* Dataset creation using Freebase IDs and Wikidata API to extract IMDb IDs.\n",
    "* Utilization of the TMDB API for acquiring gender information of cast and crew members.\n",
    "\n",
    "The results are stored in movie_with_gender_info.csv file.\n",
    "\n",
    "**The analysis**\n",
    "1) Cast & Crew Gender Distribution\n",
    "2) Gender Diversity and Film Performance\n",
    "3) Temporal Trends in Gender Representation"
   ]
  },
  {
   "cell_type": "code",
   "execution_count": 44,
   "metadata": {},
   "outputs": [
    {
     "data": {
      "text/html": [
       "<div>\n",
       "<style scoped>\n",
       "    .dataframe tbody tr th:only-of-type {\n",
       "        vertical-align: middle;\n",
       "    }\n",
       "\n",
       "    .dataframe tbody tr th {\n",
       "        vertical-align: top;\n",
       "    }\n",
       "\n",
       "    .dataframe thead th {\n",
       "        text-align: right;\n",
       "    }\n",
       "</style>\n",
       "<table border=\"1\" class=\"dataframe\">\n",
       "  <thead>\n",
       "    <tr style=\"text-align: right;\">\n",
       "      <th></th>\n",
       "      <th>title</th>\n",
       "      <th>cast</th>\n",
       "      <th>crew</th>\n",
       "      <th>cast_gender</th>\n",
       "      <th>crew_gender</th>\n",
       "      <th>combined_genders</th>\n",
       "      <th>all_gender_percentages</th>\n",
       "      <th>cast_gender_percentages</th>\n",
       "      <th>crew_gender_percentages</th>\n",
       "    </tr>\n",
       "  </thead>\n",
       "  <tbody>\n",
       "    <tr>\n",
       "      <th>0</th>\n",
       "      <td>Ghosts of Mars</td>\n",
       "      <td>[{'adult': False, 'gender': 1, 'id': 57395, 'k...</td>\n",
       "      <td>[{'adult': False, 'gender': 2, 'id': 8340, 'kn...</td>\n",
       "      <td>[1, 2, 1, 2, 1, 1, 2, 1, 2, 2, 2, 2, 1, 2, 2, ...</td>\n",
       "      <td>[2, 0, 2, 2, 2, 2, 2, 2, 2, 2, 2, 1, 0, 0, 2, ...</td>\n",
       "      <td>[1, 2, 1, 2, 1, 1, 2, 1, 2, 2, 2, 2, 1, 2, 2, ...</td>\n",
       "      <td>{1: 38.46153846153847, 2: 47.43589743589743, 0...</td>\n",
       "      <td>{1: 40.74074074074074, 2: 55.55555555555556, 0...</td>\n",
       "      <td>{2: 43.13725490196079, 0: 19.607843137254903, ...</td>\n",
       "    </tr>\n",
       "    <tr>\n",
       "      <th>1</th>\n",
       "      <td>Getting Away with Murder: The JonBenét Ramsey ...</td>\n",
       "      <td>[]</td>\n",
       "      <td>[{'adult': False, 'gender': 0, 'id': 2929954, ...</td>\n",
       "      <td>[]</td>\n",
       "      <td>[0]</td>\n",
       "      <td>[0]</td>\n",
       "      <td>{0: 100.0}</td>\n",
       "      <td>{}</td>\n",
       "      <td>{0: 100.0}</td>\n",
       "    </tr>\n",
       "  </tbody>\n",
       "</table>\n",
       "</div>"
      ],
      "text/plain": [
       "                                               title  \\\n",
       "0                                     Ghosts of Mars   \n",
       "1  Getting Away with Murder: The JonBenét Ramsey ...   \n",
       "\n",
       "                                                cast  \\\n",
       "0  [{'adult': False, 'gender': 1, 'id': 57395, 'k...   \n",
       "1                                                 []   \n",
       "\n",
       "                                                crew  \\\n",
       "0  [{'adult': False, 'gender': 2, 'id': 8340, 'kn...   \n",
       "1  [{'adult': False, 'gender': 0, 'id': 2929954, ...   \n",
       "\n",
       "                                         cast_gender  \\\n",
       "0  [1, 2, 1, 2, 1, 1, 2, 1, 2, 2, 2, 2, 1, 2, 2, ...   \n",
       "1                                                 []   \n",
       "\n",
       "                                         crew_gender  \\\n",
       "0  [2, 0, 2, 2, 2, 2, 2, 2, 2, 2, 2, 1, 0, 0, 2, ...   \n",
       "1                                                [0]   \n",
       "\n",
       "                                    combined_genders  \\\n",
       "0  [1, 2, 1, 2, 1, 1, 2, 1, 2, 2, 2, 2, 1, 2, 2, ...   \n",
       "1                                                [0]   \n",
       "\n",
       "                              all_gender_percentages  \\\n",
       "0  {1: 38.46153846153847, 2: 47.43589743589743, 0...   \n",
       "1                                         {0: 100.0}   \n",
       "\n",
       "                             cast_gender_percentages  \\\n",
       "0  {1: 40.74074074074074, 2: 55.55555555555556, 0...   \n",
       "1                                                 {}   \n",
       "\n",
       "                             crew_gender_percentages  \n",
       "0  {2: 43.13725490196079, 0: 19.607843137254903, ...  \n",
       "1                                         {0: 100.0}  "
      ]
     },
     "execution_count": 44,
     "metadata": {},
     "output_type": "execute_result"
    }
   ],
   "source": [
    "TMDB_data_path = \"./additional_dataset/movie_with_gender_info.csv\"\n",
    "movie_with_gender_info= pd.read_csv(TMDB_data_path, index_col=0)\n",
    "movie_with_gender_info.head(2)"
   ]
  },
  {
   "cell_type": "markdown",
   "metadata": {},
   "source": [
    "Additional Dataset from Kaggle\n",
    "\n",
    "Oscar Awards: \n",
    "\n",
    "Analyzing Oscar awards data by gender, focusing on nominee and winner gender proportions, revealing industry gender biases and progress towards equality in film awards.\n",
    "\n",
    "The data is taken from [Oscar Awards](https://www.kaggle.com/datasets/unanimad/the-oscar-award/data?select=the_oscar_award.csv)"
   ]
  },
  {
   "cell_type": "code",
   "execution_count": 45,
   "metadata": {},
   "outputs": [
    {
     "data": {
      "text/html": [
       "<div>\n",
       "<style scoped>\n",
       "    .dataframe tbody tr th:only-of-type {\n",
       "        vertical-align: middle;\n",
       "    }\n",
       "\n",
       "    .dataframe tbody tr th {\n",
       "        vertical-align: top;\n",
       "    }\n",
       "\n",
       "    .dataframe thead th {\n",
       "        text-align: right;\n",
       "    }\n",
       "</style>\n",
       "<table border=\"1\" class=\"dataframe\">\n",
       "  <thead>\n",
       "    <tr style=\"text-align: right;\">\n",
       "      <th></th>\n",
       "      <th>year_film</th>\n",
       "      <th>year_ceremony</th>\n",
       "      <th>ceremony</th>\n",
       "      <th>category</th>\n",
       "      <th>name</th>\n",
       "      <th>film</th>\n",
       "      <th>winner</th>\n",
       "    </tr>\n",
       "  </thead>\n",
       "  <tbody>\n",
       "    <tr>\n",
       "      <th>0</th>\n",
       "      <td>1927</td>\n",
       "      <td>1928</td>\n",
       "      <td>1</td>\n",
       "      <td>ACTOR</td>\n",
       "      <td>Richard Barthelmess</td>\n",
       "      <td>The Noose</td>\n",
       "      <td>False</td>\n",
       "    </tr>\n",
       "    <tr>\n",
       "      <th>1</th>\n",
       "      <td>1927</td>\n",
       "      <td>1928</td>\n",
       "      <td>1</td>\n",
       "      <td>ACTOR</td>\n",
       "      <td>Emil Jannings</td>\n",
       "      <td>The Last Command</td>\n",
       "      <td>True</td>\n",
       "    </tr>\n",
       "  </tbody>\n",
       "</table>\n",
       "</div>"
      ],
      "text/plain": [
       "   year_film  year_ceremony  ceremony category                 name  \\\n",
       "0       1927           1928         1    ACTOR  Richard Barthelmess   \n",
       "1       1927           1928         1    ACTOR        Emil Jannings   \n",
       "\n",
       "               film  winner  \n",
       "0         The Noose   False  \n",
       "1  The Last Command    True  "
      ]
     },
     "execution_count": 45,
     "metadata": {},
     "output_type": "execute_result"
    }
   ],
   "source": [
    "oscars_df=pd.read_csv(\"./additional_dataset/the_oscar_award.csv\")\n",
    "oscars_df.head(2)"
   ]
  },
  {
   "cell_type": "markdown",
   "metadata": {},
   "source": [
    "Handling Missing Values and Organizing Additional Dataset to Align with Main Dataset"
   ]
  },
  {
   "cell_type": "markdown",
   "metadata": {},
   "source": [
    "Since the generated data is created by us it obeys the existing films in the main dataset. However, for the oscars dataset we need to match them with the CMU Movie Dataset."
   ]
  },
  {
   "cell_type": "code",
   "execution_count": 46,
   "metadata": {},
   "outputs": [
    {
     "data": {
      "text/html": [
       "<div>\n",
       "<style scoped>\n",
       "    .dataframe tbody tr th:only-of-type {\n",
       "        vertical-align: middle;\n",
       "    }\n",
       "\n",
       "    .dataframe tbody tr th {\n",
       "        vertical-align: top;\n",
       "    }\n",
       "\n",
       "    .dataframe thead th {\n",
       "        text-align: right;\n",
       "    }\n",
       "</style>\n",
       "<table border=\"1\" class=\"dataframe\">\n",
       "  <thead>\n",
       "    <tr style=\"text-align: right;\">\n",
       "      <th></th>\n",
       "      <th>year_film</th>\n",
       "      <th>year_ceremony</th>\n",
       "      <th>ceremony</th>\n",
       "      <th>category</th>\n",
       "      <th>name</th>\n",
       "      <th>film</th>\n",
       "      <th>winner</th>\n",
       "    </tr>\n",
       "  </thead>\n",
       "  <tbody>\n",
       "    <tr>\n",
       "      <th>0</th>\n",
       "      <td>1927</td>\n",
       "      <td>1928</td>\n",
       "      <td>1</td>\n",
       "      <td>ACTOR</td>\n",
       "      <td>Richard Barthelmess</td>\n",
       "      <td>The Noose</td>\n",
       "      <td>False</td>\n",
       "    </tr>\n",
       "    <tr>\n",
       "      <th>1</th>\n",
       "      <td>1927</td>\n",
       "      <td>1928</td>\n",
       "      <td>1</td>\n",
       "      <td>ACTOR</td>\n",
       "      <td>Emil Jannings</td>\n",
       "      <td>The Last Command</td>\n",
       "      <td>True</td>\n",
       "    </tr>\n",
       "  </tbody>\n",
       "</table>\n",
       "</div>"
      ],
      "text/plain": [
       "   year_film  year_ceremony  ceremony category                 name  \\\n",
       "0       1927           1928         1    ACTOR  Richard Barthelmess   \n",
       "1       1927           1928         1    ACTOR        Emil Jannings   \n",
       "\n",
       "               film  winner  \n",
       "0         The Noose   False  \n",
       "1  The Last Command    True  "
      ]
     },
     "execution_count": 46,
     "metadata": {},
     "output_type": "execute_result"
    }
   ],
   "source": [
    "# Eliminate rows in Oscars dataset where film names do not match with movie_df\n",
    "oscars_df = oscars_df[oscars_df['film'].str.lower().isin(movie_df['Movie name'].str.lower())]\n",
    "oscars_df.head(2)"
   ]
  },
  {
   "cell_type": "code",
   "execution_count": 48,
   "metadata": {},
   "outputs": [],
   "source": [
    "#handle nan values in character df\n",
    "character_df= character_df.dropna(subset=['Character name', 'Actor gender', 'Actor age at movie release'])\n",
    "\n",
    "#handle nan values in oscars\n",
    "oscars_df = oscars_df.dropna(subset=['category', 'winner'])\n"
   ]
  },
  {
   "cell_type": "markdown",
   "metadata": {},
   "source": [
    "Conducting Analysis to Address Research Questions"
   ]
  },
  {
   "cell_type": "markdown",
   "metadata": {},
   "source": [
    "Our research questions are:\n",
    "\n",
    "1) How does gender impact actors' career opportunities, collaborations and success, particularly in terms of the types of role and reward opportunities offered? \n",
    "2) Do plot summaries contain any gender stereotypes, and if so, in what manner? \n",
    "3) Does semantic analysis of character types reveal any distinct differences in the assignment of roles based on gender? \n",
    "4) Does the gender composition of cast and crew causally influence the critical success of films, evaluated by IMDb ratings?\n",
    "5) Are there specific movie genres that demonstrate a minimal or no gender gap in terms of character representation?\n",
    "\n",
    "We will provide the charts and analysis results along with our interpretations step by step."
   ]
  },
  {
   "cell_type": "markdown",
   "metadata": {},
   "source": [
    "**Analysis for Reward Opportunities based on Gender**"
   ]
  },
  {
   "cell_type": "code",
   "execution_count": 76,
   "metadata": {},
   "outputs": [
    {
     "data": {
      "text/html": [
       "<div>\n",
       "<style scoped>\n",
       "    .dataframe tbody tr th:only-of-type {\n",
       "        vertical-align: middle;\n",
       "    }\n",
       "\n",
       "    .dataframe tbody tr th {\n",
       "        vertical-align: top;\n",
       "    }\n",
       "\n",
       "    .dataframe thead th {\n",
       "        text-align: right;\n",
       "    }\n",
       "</style>\n",
       "<table border=\"1\" class=\"dataframe\">\n",
       "  <thead>\n",
       "    <tr style=\"text-align: right;\">\n",
       "      <th></th>\n",
       "      <th>Wikipedia movie ID</th>\n",
       "      <th>Freebase movie ID</th>\n",
       "      <th>Movie release date_x</th>\n",
       "      <th>Character name</th>\n",
       "      <th>Actor date of birth</th>\n",
       "      <th>Actor gender</th>\n",
       "      <th>Actor height (in meters)</th>\n",
       "      <th>Actor ethnicity (Freebase ID)</th>\n",
       "      <th>Actor name</th>\n",
       "      <th>Actor age at movie release</th>\n",
       "      <th>...</th>\n",
       "      <th>Movie release year_x</th>\n",
       "      <th>Movie name</th>\n",
       "      <th>Movie release date_y</th>\n",
       "      <th>Movie box office revenue</th>\n",
       "      <th>Movie runtime</th>\n",
       "      <th>Movie languages</th>\n",
       "      <th>Movie countries</th>\n",
       "      <th>Movie genres</th>\n",
       "      <th>Movie release year_y</th>\n",
       "      <th>Year Interval</th>\n",
       "    </tr>\n",
       "  </thead>\n",
       "  <tbody>\n",
       "    <tr>\n",
       "      <th>0</th>\n",
       "      <td>975900</td>\n",
       "      <td>/m/03vyhn</td>\n",
       "      <td>2001-08-24</td>\n",
       "      <td>Akooshay</td>\n",
       "      <td>1958-08-26</td>\n",
       "      <td>F</td>\n",
       "      <td>1.62</td>\n",
       "      <td>NaN</td>\n",
       "      <td>Wanda De Jesus</td>\n",
       "      <td>42.0</td>\n",
       "      <td>...</td>\n",
       "      <td>2001</td>\n",
       "      <td>Ghosts of Mars</td>\n",
       "      <td>2001-08-24</td>\n",
       "      <td>14010832.0</td>\n",
       "      <td>98.0</td>\n",
       "      <td>[English Language]</td>\n",
       "      <td>[United States of America]</td>\n",
       "      <td>[Thriller, Science Fiction, Horror, Adventure,...</td>\n",
       "      <td>2001</td>\n",
       "      <td>2000-2005</td>\n",
       "    </tr>\n",
       "    <tr>\n",
       "      <th>1</th>\n",
       "      <td>975900</td>\n",
       "      <td>/m/03vyhn</td>\n",
       "      <td>2001-08-24</td>\n",
       "      <td>Lieutenant Melanie Ballard</td>\n",
       "      <td>1974-08-15</td>\n",
       "      <td>F</td>\n",
       "      <td>1.78</td>\n",
       "      <td>/m/044038p</td>\n",
       "      <td>Natasha Henstridge</td>\n",
       "      <td>27.0</td>\n",
       "      <td>...</td>\n",
       "      <td>2001</td>\n",
       "      <td>Ghosts of Mars</td>\n",
       "      <td>2001-08-24</td>\n",
       "      <td>14010832.0</td>\n",
       "      <td>98.0</td>\n",
       "      <td>[English Language]</td>\n",
       "      <td>[United States of America]</td>\n",
       "      <td>[Thriller, Science Fiction, Horror, Adventure,...</td>\n",
       "      <td>2001</td>\n",
       "      <td>2000-2005</td>\n",
       "    </tr>\n",
       "  </tbody>\n",
       "</table>\n",
       "<p>2 rows × 21 columns</p>\n",
       "</div>"
      ],
      "text/plain": [
       "   Wikipedia movie ID Freebase movie ID Movie release date_x  \\\n",
       "0              975900         /m/03vyhn           2001-08-24   \n",
       "1              975900         /m/03vyhn           2001-08-24   \n",
       "\n",
       "               Character name Actor date of birth Actor gender  \\\n",
       "0                    Akooshay          1958-08-26            F   \n",
       "1  Lieutenant Melanie Ballard          1974-08-15            F   \n",
       "\n",
       "   Actor height (in meters) Actor ethnicity (Freebase ID)          Actor name  \\\n",
       "0                      1.62                           NaN      Wanda De Jesus   \n",
       "1                      1.78                    /m/044038p  Natasha Henstridge   \n",
       "\n",
       "   Actor age at movie release  ... Movie release year_x      Movie name  \\\n",
       "0                        42.0  ...                 2001  Ghosts of Mars   \n",
       "1                        27.0  ...                 2001  Ghosts of Mars   \n",
       "\n",
       "  Movie release date_y Movie box office revenue  Movie runtime  \\\n",
       "0           2001-08-24               14010832.0           98.0   \n",
       "1           2001-08-24               14010832.0           98.0   \n",
       "\n",
       "      Movie languages             Movie countries  \\\n",
       "0  [English Language]  [United States of America]   \n",
       "1  [English Language]  [United States of America]   \n",
       "\n",
       "                                        Movie genres Movie release year_y  \\\n",
       "0  [Thriller, Science Fiction, Horror, Adventure,...                 2001   \n",
       "1  [Thriller, Science Fiction, Horror, Adventure,...                 2001   \n",
       "\n",
       "   Year Interval  \n",
       "0      2000-2005  \n",
       "1      2000-2005  \n",
       "\n",
       "[2 rows x 21 columns]"
      ]
     },
     "execution_count": 76,
     "metadata": {},
     "output_type": "execute_result"
    }
   ],
   "source": [
    "# Merge character_df and movie_df based on Wikipedia movie ID and Freebase movie ID\n",
    "merged_movie_character = pd.merge(character_df, movie_df, on=['Wikipedia movie ID', 'Freebase movie ID'], how='left')\n",
    "merged_movie_character.head(2)"
   ]
  },
  {
   "cell_type": "code",
   "execution_count": 77,
   "metadata": {},
   "outputs": [],
   "source": [
    "oscars_actor_actress = oscars_df[oscars_df['category'].isin(['ACTOR', 'ACTRESS'])]"
   ]
  },
  {
   "cell_type": "code",
   "execution_count": 78,
   "metadata": {},
   "outputs": [
    {
     "name": "stderr",
     "output_type": "stream",
     "text": [
      "C:\\Users\\zeyne\\AppData\\Local\\Temp\\ipykernel_1848\\1173242580.py:2: SettingWithCopyWarning: \n",
      "A value is trying to be set on a copy of a slice from a DataFrame.\n",
      "Try using .loc[row_indexer,col_indexer] = value instead\n",
      "\n",
      "See the caveats in the documentation: https://pandas.pydata.org/pandas-docs/stable/user_guide/indexing.html#returning-a-view-versus-a-copy\n",
      "  oscars_actor_actress['film'] = oscars_actor_actress['film'].str.lower()\n",
      "C:\\Users\\zeyne\\AppData\\Local\\Temp\\ipykernel_1848\\1173242580.py:5: SettingWithCopyWarning: \n",
      "A value is trying to be set on a copy of a slice from a DataFrame.\n",
      "Try using .loc[row_indexer,col_indexer] = value instead\n",
      "\n",
      "See the caveats in the documentation: https://pandas.pydata.org/pandas-docs/stable/user_guide/indexing.html#returning-a-view-versus-a-copy\n",
      "  oscars_actor_actress['name'] = oscars_actor_actress['name'].str.lower()\n"
     ]
    },
    {
     "data": {
      "text/html": [
       "<div>\n",
       "<style scoped>\n",
       "    .dataframe tbody tr th:only-of-type {\n",
       "        vertical-align: middle;\n",
       "    }\n",
       "\n",
       "    .dataframe tbody tr th {\n",
       "        vertical-align: top;\n",
       "    }\n",
       "\n",
       "    .dataframe thead th {\n",
       "        text-align: right;\n",
       "    }\n",
       "</style>\n",
       "<table border=\"1\" class=\"dataframe\">\n",
       "  <thead>\n",
       "    <tr style=\"text-align: right;\">\n",
       "      <th></th>\n",
       "      <th>Wikipedia movie ID</th>\n",
       "      <th>Freebase movie ID</th>\n",
       "      <th>Movie release date_x</th>\n",
       "      <th>Character name</th>\n",
       "      <th>Actor date of birth</th>\n",
       "      <th>Actor gender</th>\n",
       "      <th>Actor height (in meters)</th>\n",
       "      <th>Actor ethnicity (Freebase ID)</th>\n",
       "      <th>Actor name</th>\n",
       "      <th>Actor age at movie release</th>\n",
       "      <th>...</th>\n",
       "      <th>Movie genres</th>\n",
       "      <th>Movie release year_y</th>\n",
       "      <th>Year Interval</th>\n",
       "      <th>year_film</th>\n",
       "      <th>year_ceremony</th>\n",
       "      <th>ceremony</th>\n",
       "      <th>category</th>\n",
       "      <th>name</th>\n",
       "      <th>film</th>\n",
       "      <th>winner</th>\n",
       "    </tr>\n",
       "  </thead>\n",
       "  <tbody>\n",
       "    <tr>\n",
       "      <th>0</th>\n",
       "      <td>975900</td>\n",
       "      <td>/m/03vyhn</td>\n",
       "      <td>2001-08-24</td>\n",
       "      <td>Akooshay</td>\n",
       "      <td>1958-08-26</td>\n",
       "      <td>F</td>\n",
       "      <td>1.62</td>\n",
       "      <td>NaN</td>\n",
       "      <td>wanda de jesus</td>\n",
       "      <td>42.0</td>\n",
       "      <td>...</td>\n",
       "      <td>[Thriller, Science Fiction, Horror, Adventure,...</td>\n",
       "      <td>2001</td>\n",
       "      <td>2000-2005</td>\n",
       "      <td>NaN</td>\n",
       "      <td>NaN</td>\n",
       "      <td>NaN</td>\n",
       "      <td>NaN</td>\n",
       "      <td>NaN</td>\n",
       "      <td>NaN</td>\n",
       "      <td>NaN</td>\n",
       "    </tr>\n",
       "    <tr>\n",
       "      <th>1</th>\n",
       "      <td>975900</td>\n",
       "      <td>/m/03vyhn</td>\n",
       "      <td>2001-08-24</td>\n",
       "      <td>Lieutenant Melanie Ballard</td>\n",
       "      <td>1974-08-15</td>\n",
       "      <td>F</td>\n",
       "      <td>1.78</td>\n",
       "      <td>/m/044038p</td>\n",
       "      <td>natasha henstridge</td>\n",
       "      <td>27.0</td>\n",
       "      <td>...</td>\n",
       "      <td>[Thriller, Science Fiction, Horror, Adventure,...</td>\n",
       "      <td>2001</td>\n",
       "      <td>2000-2005</td>\n",
       "      <td>NaN</td>\n",
       "      <td>NaN</td>\n",
       "      <td>NaN</td>\n",
       "      <td>NaN</td>\n",
       "      <td>NaN</td>\n",
       "      <td>NaN</td>\n",
       "      <td>NaN</td>\n",
       "    </tr>\n",
       "  </tbody>\n",
       "</table>\n",
       "<p>2 rows × 28 columns</p>\n",
       "</div>"
      ],
      "text/plain": [
       "   Wikipedia movie ID Freebase movie ID Movie release date_x  \\\n",
       "0              975900         /m/03vyhn           2001-08-24   \n",
       "1              975900         /m/03vyhn           2001-08-24   \n",
       "\n",
       "               Character name Actor date of birth Actor gender  \\\n",
       "0                    Akooshay          1958-08-26            F   \n",
       "1  Lieutenant Melanie Ballard          1974-08-15            F   \n",
       "\n",
       "   Actor height (in meters) Actor ethnicity (Freebase ID)          Actor name  \\\n",
       "0                      1.62                           NaN      wanda de jesus   \n",
       "1                      1.78                    /m/044038p  natasha henstridge   \n",
       "\n",
       "   Actor age at movie release  ...  \\\n",
       "0                        42.0  ...   \n",
       "1                        27.0  ...   \n",
       "\n",
       "                                        Movie genres Movie release year_y  \\\n",
       "0  [Thriller, Science Fiction, Horror, Adventure,...                 2001   \n",
       "1  [Thriller, Science Fiction, Horror, Adventure,...                 2001   \n",
       "\n",
       "  Year Interval year_film  year_ceremony  ceremony category name film  winner  \n",
       "0     2000-2005       NaN            NaN       NaN      NaN  NaN  NaN     NaN  \n",
       "1     2000-2005       NaN            NaN       NaN      NaN  NaN  NaN     NaN  \n",
       "\n",
       "[2 rows x 28 columns]"
      ]
     },
     "execution_count": 78,
     "metadata": {},
     "output_type": "execute_result"
    }
   ],
   "source": [
    "merged_movie_character['Movie name'] = merged_movie_character['Movie name'].str.lower()\n",
    "oscars_actor_actress['film'] = oscars_actor_actress['film'].str.lower()\n",
    "\n",
    "merged_movie_character['Actor name'] = merged_movie_character['Actor name'].str.lower()\n",
    "oscars_actor_actress['name'] = oscars_actor_actress['name'].str.lower()\n",
    "\n",
    "# Merge character_df and oscars_df based on the lowercase versions of \"Movie name\" and \"film\"\n",
    "merged_oscars_character = pd.merge(merged_movie_character, oscars_actor_actress, left_on=['Movie name','Actor name'], right_on=['film','name'], how='left')\n",
    "\n",
    "merged_oscars_character.head(2)"
   ]
  },
  {
   "cell_type": "code",
   "execution_count": 79,
   "metadata": {},
   "outputs": [],
   "source": [
    "merged_oscars_character['Oscar Status'] = 'Not Nominated'  # Initialize with 'Not Nominated'\n",
    "merged_oscars_character.loc[merged_oscars_character['winner'] == False, 'Oscar Status'] = 'Nominated'\n",
    "merged_oscars_character.loc[merged_oscars_character['winner'] == True, 'Oscar Status'] = 'Winner'"
   ]
  },
  {
   "cell_type": "code",
   "execution_count": 82,
   "metadata": {},
   "outputs": [
    {
     "name": "stdout",
     "output_type": "stream",
     "text": [
      "Number of females not nominated in our dataset:  48374 ,males not nominated:  84692\n",
      "Number of females nominated in our dataset:  124 ,males nominated:  118\n",
      "Number of females win in our dataset:  38 ,males win:  33\n"
     ]
    }
   ],
   "source": [
    "num_female_not_nominated = (merged_oscars_character[(merged_oscars_character['Actor gender'] == \"F\") & (merged_oscars_character['Oscar Status'] == 'Not Nominated')]).shape[0]\n",
    "num_male_not_nominated = (merged_oscars_character[(merged_oscars_character['Actor gender'] == \"M\") & (merged_oscars_character['Oscar Status'] == 'Not Nominated')]).shape[0]\n",
    "\n",
    "\n",
    "num_female_nominated = (merged_oscars_character[(merged_oscars_character['Actor gender'] == \"F\") & (merged_oscars_character['Oscar Status'] == 'Nominated')]).shape[0]\n",
    "num_male_nominated = (merged_oscars_character[(merged_oscars_character['Actor gender'] == \"M\") & (merged_oscars_character['Oscar Status'] == 'Nominated')]).shape[0]\n",
    "\n",
    "num_female_win= (merged_oscars_character[(merged_oscars_character['Actor gender'] == \"F\") & (merged_oscars_character['Oscar Status'] == 'Winner')]).shape[0]\n",
    "num_male_win = (merged_oscars_character[(merged_oscars_character['Actor gender'] == \"M\") & (merged_oscars_character['Oscar Status'] == 'Winner')]).shape[0]\n",
    "\n",
    "\n",
    "print(\"Number of females not nominated in our dataset: \",num_female_not_nominated, \",males not nominated: \", num_male_not_nominated )\n",
    "print(\"Number of females nominated in our dataset: \",num_female_nominated, \",males nominated: \", num_male_nominated )\n",
    "print(\"Number of females win in our dataset: \",num_female_win, \",males win: \", num_male_win )"
   ]
  },
  {
   "cell_type": "code",
   "execution_count": 85,
   "metadata": {},
   "outputs": [
    {
     "data": {
      "text/plain": [
       "Index(['Wikipedia movie ID', 'Freebase movie ID', 'Movie release date_x',\n",
       "       'Character name', 'Actor date of birth', 'Actor gender',\n",
       "       'Actor height (in meters)', 'Actor ethnicity (Freebase ID)',\n",
       "       'Actor name', 'Actor age at movie release',\n",
       "       'Freebase character/actor map ID', 'Movie release year_x', 'Movie name',\n",
       "       'Movie release date_y', 'Movie box office revenue', 'Movie runtime',\n",
       "       'Movie languages', 'Movie countries', 'Movie genres',\n",
       "       'Movie release year_y', 'Year Interval', 'year_film', 'year_ceremony',\n",
       "       'ceremony', 'category', 'name', 'film', 'winner', 'Oscar Status'],\n",
       "      dtype='object')"
      ]
     },
     "execution_count": 85,
     "metadata": {},
     "output_type": "execute_result"
    }
   ],
   "source": [
    "merged_oscars_character.columns"
   ]
  },
  {
   "cell_type": "code",
   "execution_count": 92,
   "metadata": {},
   "outputs": [
    {
     "name": "stdout",
     "output_type": "stream",
     "text": [
      "Number of actors that nominated/win Oscars at least once: 151\n"
     ]
    }
   ],
   "source": [
    "#for the ones that receive the nominee\n",
    "nominated_merged_oscars_character= merged_oscars_character[merged_oscars_character['Oscar Status'] != 'Not Nominated'] \n",
    "\n",
    "unique_actors = nominated_merged_oscars_character[\"Actor name\"].unique()\n",
    "\n",
    "print(\"Number of actors that nominated/win Oscars at least once:\",unique_actors.shape[0])"
   ]
  },
  {
   "cell_type": "code",
   "execution_count": 96,
   "metadata": {},
   "outputs": [
    {
     "name": "stdout",
     "output_type": "stream",
     "text": [
      "               Actor name Actor gender  year_nomination\n",
      "1233     rosalind russell            F           1943.0\n",
      "1622           art carney            M           1975.0\n",
      "1927        spencer tracy            M           1956.0\n",
      "2000       ingrid bergman            F           1957.0\n",
      "2436     laurence olivier            M           1966.0\n",
      "...                   ...          ...              ...\n",
      "121447        grace kelly            F           1955.0\n",
      "121885  dorothy dandridge            F           1955.0\n",
      "124465        larry parks            M           1947.0\n",
      "125130    cliff robertson            M           1969.0\n",
      "125354      frank sinatra            M           1956.0\n",
      "\n",
      "[151 rows x 3 columns]\n"
     ]
    }
   ],
   "source": [
    "# Step 1: Filter for the first occurrence of each unique Actor name\n",
    "first_occurrences = nominated_merged_oscars_character.drop_duplicates(subset='Actor name', keep='first')\n",
    "\n",
    "# Step 2: Extract unique Actor names and their corresponding year_ceremony information\n",
    "unique_actors_and_years = first_occurrences[['Actor name','Actor gender', 'year_ceremony']]\n",
    "unique_actors_and_years = unique_actors_and_years.rename(columns={'year_ceremony': 'year_nomination'})\n",
    "\n",
    "# Display the updated DataFrame\n",
    "print(unique_actors_and_years)\n"
   ]
  },
  {
   "cell_type": "code",
   "execution_count": 109,
   "metadata": {},
   "outputs": [],
   "source": [
    "merged_with_year_ceremony = pd.merge(unique_actors_and_years, merged_oscars_character, on='Actor name', how='left')\n",
    "merged_with_year_ceremony['year_nomination'] = merged_with_year_ceremony['year_nomination'].astype(int)\n",
    "merged_with_year_ceremony = merged_with_year_ceremony.rename(columns={'Movie release year_x': 'Movie release year', 'Actor gender_x':\"Actor gender\"})\n",
    "\n",
    "merged_with_year_ceremony['Movie release year'] = merged_with_year_ceremony['Movie release year'].astype(int)"
   ]
  },
  {
   "cell_type": "code",
   "execution_count": 110,
   "metadata": {},
   "outputs": [
    {
     "data": {
      "text/plain": [
       "Actor gender\n",
       "F     9.469136\n",
       "M    12.382353\n",
       "Name: Film Count, dtype: float64"
      ]
     },
     "execution_count": 110,
     "metadata": {},
     "output_type": "execute_result"
    }
   ],
   "source": [
    "# Filtering movies that were released before the nomination year\n",
    "merged_with_year_ceremony_before = merged_with_year_ceremony[merged_with_year_ceremony['Movie release year'] < merged_with_year_ceremony['year_nomination']]\n",
    "\n",
    "# Calculating the total number of films each actor has acted in before their nomination\n",
    "actor_film_counts_before_nomination = merged_with_year_ceremony_before.groupby(['Actor name', 'Actor gender'])['Movie name'].count().reset_index(name='Film Count')\n",
    "\n",
    "# Calculating the average number of films for each gender\n",
    "average_films_before_nomination = actor_film_counts_before_nomination.groupby('Actor gender')['Film Count'].mean()\n",
    "\n",
    "average_films_before_nomination"
   ]
  },
  {
   "cell_type": "code",
   "execution_count": 112,
   "metadata": {},
   "outputs": [
    {
     "data": {
      "text/plain": [
       "Actor gender\n",
       "F    12.958904\n",
       "M    21.088235\n",
       "Name: Film Count, dtype: float64"
      ]
     },
     "execution_count": 112,
     "metadata": {},
     "output_type": "execute_result"
    }
   ],
   "source": [
    "# Filtering movies that were released after the nomination year\n",
    "merged_with_year_ceremony_after = merged_with_year_ceremony[merged_with_year_ceremony['Movie release year'] >= merged_with_year_ceremony['year_nomination']]\n",
    "\n",
    "# Calculating the total number of films each actor has acted in after their nomination\n",
    "actor_film_counts_after_nomination = merged_with_year_ceremony_after.groupby(['Actor name', 'Actor gender'])['Movie name'].count().reset_index(name='Film Count')\n",
    "\n",
    "# Calculating the average number of films for each gender after their Oscar nomination or win\n",
    "average_films_after_nomination = actor_film_counts_after_nomination.groupby('Actor gender')['Film Count'].mean()\n",
    "\n",
    "average_films_after_nomination"
   ]
  },
  {
   "cell_type": "markdown",
   "metadata": {},
   "source": [
    "**Observation** Based on the averages, it is seen that male actors have higher average of apperances with 12.38 films whereas the female actors have the apparence in 9.47 film on average before their first Oscar nomination or win. After the award nomination or win, it is observed that the average gap of appearances between actors and actresses has increased, since the male actors significantly increase their average film count to 21.09 films."
   ]
  },
  {
   "cell_type": "markdown",
   "metadata": {},
   "source": [
    "**Hypothesis Testing - The effect of receiving Oscar nominee/win on the career paths based on appearances**\n",
    "\n",
    "\n",
    "*1)Before Nomination/Win*\n",
    "\n",
    "Null Hypothesis (H0): There is no difference in the number of films acted in by male and female actors before receiving an Oscar nomination or win.\n",
    "Alternative Hypothesis (H1): There is a difference in the number of films acted in by male and female actors before receiving an Oscar nomination or win."
   ]
  },
  {
   "cell_type": "code",
   "execution_count": 127,
   "metadata": {},
   "outputs": [
    {
     "data": {
      "text/plain": [
       "(-1.1532306692076066, 0.2511955733509432)"
      ]
     },
     "execution_count": 127,
     "metadata": {},
     "output_type": "execute_result"
    }
   ],
   "source": [
    "import scipy.stats as stats\n",
    "\n",
    "film_counts_before = merged_with_year_ceremony_before.groupby(['Actor name', 'Actor gender'])['Movie name'].nunique().reset_index(name='Film Count')\n",
    "\n",
    "# Aggregating the counts for male and female actors\n",
    "film_counts_before_male = film_counts_before[film_counts_before['Actor gender'] == 'M']['Film Count']\n",
    "film_counts_before_female = film_counts_before[film_counts_before['Actor gender'] == 'F']['Film Count']\n",
    "\n",
    "# Performing Independent Samples T-tests\n",
    "t_stat_before, p_value_before = stats.ttest_ind(film_counts_before_female, film_counts_before_male, equal_var=False)\n",
    "t_stat_before, p_value_before\n"
   ]
  },
  {
   "cell_type": "markdown",
   "metadata": {},
   "source": [
    "**Observation** The p value shows that there is no statistically significant difference in the number of films acted in by male and female actors before Oscar nomination/win. In other words, we do not have enough evidence to say that the gender has an influence over the career paths on the film appearances before Oscar recognition in the dataset. The negative and low t value shows that male average is higher than female and this difference is not large enough."
   ]
  },
  {
   "cell_type": "markdown",
   "metadata": {},
   "source": [
    "*2)After Nomination/Win*\n",
    "\n",
    "Null Hypothesis (H0): There is no difference in the number of films acted in by male and female actors after receiving an Oscar nomination or win.\n",
    "Alternative Hypothesis (H1): There is a difference in the number of films acted in by male and female actors after receiving an Oscar nomination or win."
   ]
  },
  {
   "cell_type": "code",
   "execution_count": 125,
   "metadata": {},
   "outputs": [
    {
     "data": {
      "text/plain": [
       "(-2.975786940391648, 0.0035086238044952757)"
      ]
     },
     "execution_count": 125,
     "metadata": {},
     "output_type": "execute_result"
    }
   ],
   "source": [
    "film_counts_after = merged_with_year_ceremony_after.groupby(['Actor name', 'Actor gender'])['Movie name'].nunique().reset_index(name='Film Count')\n",
    "\n",
    "film_counts_after_male = film_counts_after[film_counts_after['Actor gender'] == 'M']['Film Count']\n",
    "film_counts_after_female = film_counts_after[film_counts_after['Actor gender'] == 'F']['Film Count']\n",
    "\n",
    "# Performing Independent Samples T-tests\n",
    "t_stat_after, p_value_after = stats.ttest_ind(film_counts_after_female, film_counts_after_male, equal_var=False)\n",
    "t_stat_after, p_value_after\n"
   ]
  },
  {
   "cell_type": "markdown",
   "metadata": {},
   "source": [
    "**Observation** Based on the result, we have a statistical evidence to reject the null hypothesis. As a result, the p value was found to be 0.003, which is less than 0.05, which shows that there is a statistically significant difference in the number of films released by male and female actors. Female actors tend to act in fewer films than male actors after receiving their Oscar nomination/win on average. \n",
    "\n",
    "This conclusion points out that Oscar nomination/win can have a significant impact on the career paths of male and female actors. Female actors potentially have fewer film opportunities following the nomination/win."
   ]
  },
  {
   "cell_type": "markdown",
   "metadata": {},
   "source": [
    "**Hypothesis Testing - Genre Preference**\n",
    "\n",
    "In this section, we will evaluate the existence of a specific genre that specifically provides nominations to men and women when receiving nominations.\n",
    "\n",
    "Null Hypothesis (H0): There is no significant difference in the genre preferences of male and female actors in the movies that they obtained nominees/wins.\n",
    "Alternative Hypothesis (H1): There is a difference in the genre preferences of male and female actors in the movies that they obtained nominees/wins."
   ]
  },
  {
   "cell_type": "code",
   "execution_count": 134,
   "metadata": {},
   "outputs": [
    {
     "data": {
      "text/html": [
       "<div>\n",
       "<style scoped>\n",
       "    .dataframe tbody tr th:only-of-type {\n",
       "        vertical-align: middle;\n",
       "    }\n",
       "\n",
       "    .dataframe tbody tr th {\n",
       "        vertical-align: top;\n",
       "    }\n",
       "\n",
       "    .dataframe thead th {\n",
       "        text-align: right;\n",
       "    }\n",
       "</style>\n",
       "<table border=\"1\" class=\"dataframe\">\n",
       "  <thead>\n",
       "    <tr style=\"text-align: right;\">\n",
       "      <th></th>\n",
       "      <th>Actor gender</th>\n",
       "      <th>Movie genres</th>\n",
       "    </tr>\n",
       "  </thead>\n",
       "  <tbody>\n",
       "    <tr>\n",
       "      <th>1233</th>\n",
       "      <td>F</td>\n",
       "      <td>Musical</td>\n",
       "    </tr>\n",
       "    <tr>\n",
       "      <th>1233</th>\n",
       "      <td>F</td>\n",
       "      <td>Comedy</td>\n",
       "    </tr>\n",
       "    <tr>\n",
       "      <th>1233</th>\n",
       "      <td>F</td>\n",
       "      <td>Black-and-white</td>\n",
       "    </tr>\n",
       "    <tr>\n",
       "      <th>1622</th>\n",
       "      <td>M</td>\n",
       "      <td>Road movie</td>\n",
       "    </tr>\n",
       "    <tr>\n",
       "      <th>1622</th>\n",
       "      <td>M</td>\n",
       "      <td>Americana</td>\n",
       "    </tr>\n",
       "    <tr>\n",
       "      <th>...</th>\n",
       "      <td>...</td>\n",
       "      <td>...</td>\n",
       "    </tr>\n",
       "    <tr>\n",
       "      <th>133214</th>\n",
       "      <td>M</td>\n",
       "      <td>Action/Adventure</td>\n",
       "    </tr>\n",
       "    <tr>\n",
       "      <th>133214</th>\n",
       "      <td>M</td>\n",
       "      <td>Drama</td>\n",
       "    </tr>\n",
       "    <tr>\n",
       "      <th>133214</th>\n",
       "      <td>M</td>\n",
       "      <td>War film</td>\n",
       "    </tr>\n",
       "    <tr>\n",
       "      <th>133214</th>\n",
       "      <td>M</td>\n",
       "      <td>Biographical film</td>\n",
       "    </tr>\n",
       "    <tr>\n",
       "      <th>133214</th>\n",
       "      <td>M</td>\n",
       "      <td>Action</td>\n",
       "    </tr>\n",
       "  </tbody>\n",
       "</table>\n",
       "<p>1548 rows × 2 columns</p>\n",
       "</div>"
      ],
      "text/plain": [
       "       Actor gender       Movie genres\n",
       "1233              F            Musical\n",
       "1233              F             Comedy\n",
       "1233              F    Black-and-white\n",
       "1622              M         Road movie\n",
       "1622              M          Americana\n",
       "...             ...                ...\n",
       "133214            M   Action/Adventure\n",
       "133214            M              Drama\n",
       "133214            M           War film\n",
       "133214            M  Biographical film\n",
       "133214            M             Action\n",
       "\n",
       "[1548 rows x 2 columns]"
      ]
     },
     "execution_count": 134,
     "metadata": {},
     "output_type": "execute_result"
    }
   ],
   "source": [
    "df = nominated_merged_oscars_character[['Actor gender', 'Movie genres']]\n",
    "\n",
    "# Explode 'Movie genres' so each genre is in a separate row\n",
    "df_exploded = df.explode('Movie genres')\n",
    "df_exploded"
   ]
  },
  {
   "cell_type": "code",
   "execution_count": 140,
   "metadata": {},
   "outputs": [
    {
     "data": {
      "text/plain": [
       "120"
      ]
     },
     "execution_count": 140,
     "metadata": {},
     "output_type": "execute_result"
    }
   ],
   "source": [
    "len(df_exploded['Movie genres'].unique())"
   ]
  },
  {
   "cell_type": "code",
   "execution_count": 135,
   "metadata": {},
   "outputs": [
    {
     "name": "stdout",
     "output_type": "stream",
     "text": [
      "Chi-squared: 161.49794130884214, p-value: 0.005804501440821372\n"
     ]
    }
   ],
   "source": [
    "# Create a contingency table\n",
    "contingency_table = pd.crosstab(df_exploded['Actor gender'], df_exploded['Movie genres'])\n",
    "\n",
    "# Conduct Chi-squared test\n",
    "chi2, p, dof, expected = stats.chi2_contingency(contingency_table)\n",
    "\n",
    "# Interpret results\n",
    "print(f\"Chi-squared: {chi2}, p-value: {p}\")"
   ]
  },
  {
   "cell_type": "markdown",
   "metadata": {},
   "source": [
    "**Observation**  The larger the Chi-square value, the greater the probability that there really is a significant difference. In this case, it is found as 161.49. The p value is found as 0.0058 which is less than 0.05, which shows that we reject the null hypothesis. It means that there is a statistically significant difference which suggest that the distribution of film genres is not independent from the actors gender.\n",
    "\n",
    "Given that the p-value (0.0058) is less than the conventional alpha level of 0.05, we reject the null hypothesis. This means there is statistically significant evidence to suggest that the distribution of film genres is not independent of the actor's gender. So, the fact that male and female actors who receive Oscar nominations tend to star in different genres of films indicates a potential gender-based genre preference or bias."
   ]
  },
  {
   "cell_type": "code",
   "execution_count": 145,
   "metadata": {},
   "outputs": [
    {
     "data": {
      "image/png": "[encoded data removed]",
      "text/plain": [
       "<Figure size 1000x1200 with 2 Axes>"
      ]
     },
     "metadata": {},
     "output_type": "display_data"
    }
   ],
   "source": [
    "genre_counts = df_exploded.groupby(['Actor gender', 'Movie genres']).size().unstack(fill_value=0)\n",
    "\n",
    "# Sum the genre counts for each gender and sort in descending order\n",
    "female_counts = genre_counts.loc['F'].sort_values(ascending=False)\n",
    "male_counts = genre_counts.loc['M'].sort_values(ascending=False)\n",
    "\n",
    "# Select the top 10 genres for each gender\n",
    "top_female_genres = female_counts.head(10)\n",
    "top_male_genres = male_counts.head(10)\n",
    "\n",
    "# Create bar charts for the top 10 genres for Female and Male actors\n",
    "fig, (ax1, ax2) = plt.subplots(2, 1, figsize=(10, 12))\n",
    "\n",
    "# Plot for Female actors\n",
    "ax1.bar(top_female_genres.index, top_female_genres, color='pink')\n",
    "ax1.set_xlabel('Movie Genres')\n",
    "ax1.set_ylabel('Count')\n",
    "ax1.set_title('Top 10 Genres for Female Actors')\n",
    "ax1.tick_params(axis='x', rotation=45)  # Rotate x-axis labels\n",
    "\n",
    "\n",
    "# Plot for Male actors\n",
    "ax2.bar(top_male_genres.index, top_male_genres, color='blue')\n",
    "ax2.set_xlabel('Movie Genres')\n",
    "ax2.set_ylabel('Count')\n",
    "ax2.set_title('Top 10 Genres for Male Actors')\n",
    "ax2.tick_params(axis='x', rotation=45)  # Rotate x-axis labels\n",
    "\n",
    "\n",
    "# Adjust spacing between subplots\n",
    "plt.tight_layout()\n",
    "\n",
    "# Show the plots\n",
    "plt.show()"
   ]
  },
  {
   "cell_type": "markdown",
   "metadata": {},
   "source": [
    "**Observation** Based on top 10 genres that the actors got nomination from, it is seen that there are some overlaps in genre choices between female and male actors, however, there are some specific distinctions like romantic drama for females and war film for males."
   ]
  },
  {
   "cell_type": "markdown",
   "metadata": {},
   "source": [
    "**Hypothesis Testing - Age at First Nomination/Win**"
   ]
  },
  {
   "cell_type": "code",
   "execution_count": 162,
   "metadata": {},
   "outputs": [
    {
     "name": "stdout",
     "output_type": "stream",
     "text": [
      "T-statistic: 4.902699583208093, P-value: 2.9554973762104967e-06\n"
     ]
    }
   ],
   "source": [
    "# Assuming 'df' is your DataFrame\n",
    "\n",
    "columns_of_interest = ['Actor date of birth', 'Actor gender', 'Oscar Status', 'year_ceremony', 'Actor name'] #already not nominated discarded in nominated_merged_oscars_character\n",
    "df_subset = nominated_merged_oscars_character[columns_of_interest]\n",
    "\n",
    "df_subset['Actor date of birth'] = pd.to_datetime(df_subset['Actor date of birth'])\n",
    "df_subset['year_ceremony'] = pd.to_datetime(df_subset['year_ceremony'], format='%Y').dt.year\n",
    "\n",
    "# Calculate age at the time of the ceremony\n",
    "df_subset['Age at Nomination/Win'] = df_subset['year_ceremony'] - df_subset['Actor date of birth'].dt.year\n",
    "\n",
    "# Filter for first nominations/wins\n",
    "df_first_nomination = df_subset.sort_values(by=['Actor name', 'year_ceremony']).drop_duplicates(subset=['Actor name'])\n",
    "\n",
    "# Group by gender and calculate average age\n",
    "avg_age_by_gender = df_first_nomination.groupby('Actor gender')['Age at Nomination/Win'].mean()\n",
    "\n",
    "# Perform T-test\n",
    "t_stat, p_value = stats.ttest_ind(\n",
    "    df_first_nomination[df_first_nomination['Actor gender'] == 'M']['Age at Nomination/Win'],\n",
    "    df_first_nomination[df_first_nomination['Actor gender'] == 'F']['Age at Nomination/Win'],\n",
    "    equal_var=False\n",
    ")\n",
    "\n",
    "# Interpret results\n",
    "print(f\"T-statistic: {t_stat}, P-value: {p_value}\")\n"
   ]
  },
  {
   "cell_type": "code",
   "execution_count": 163,
   "metadata": {},
   "outputs": [
    {
     "data": {
      "text/plain": [
       "Actor gender\n",
       "F    31.170732\n",
       "M    36.507246\n",
       "Name: Age at Nomination/Win, dtype: float64"
      ]
     },
     "execution_count": 163,
     "metadata": {},
     "output_type": "execute_result"
    }
   ],
   "source": [
    "avg_age_by_gender"
   ]
  },
  {
   "cell_type": "markdown",
   "metadata": {},
   "source": [
    "**Observation** The p value less than 0.05 shows that we reject the null hypothesis. The positive t-value shows that male actors tend to be older than female actors at the time of their first Oscar nomination or win.\n",
    "\n",
    "Note that although the test indicates a significant difference, it does not explain the reasons/ causality behind this difference.\n"
   ]
  },
  {
   "cell_type": "code",
   "execution_count": 165,
   "metadata": {},
   "outputs": [
    {
     "data": {
      "image/png": "[encoded data removed]",
      "text/plain": [
       "<Figure size 1400x700 with 2 Axes>"
      ]
     },
     "metadata": {},
     "output_type": "display_data"
    }
   ],
   "source": [
    "def str_to_dict(string):\n",
    "    try:\n",
    "        return ast.literal_eval(string)\n",
    "    except ValueError:\n",
    "        return {}\n",
    "    \n",
    "df=movie_with_gender_info.copy()\n",
    "df['cast_gender_percentages'] = df['cast_gender_percentages'].apply(str_to_dict)\n",
    "df['crew_gender_percentages'] = df['crew_gender_percentages'].apply(str_to_dict)\n",
    "\n",
    "mean_cast_gender = df['cast_gender_percentages'].apply(pd.Series).mean()\n",
    "mean_crew_gender = df['crew_gender_percentages'].apply(pd.Series).mean()\n",
    "\n",
    "cast_sizes = [mean_cast_gender.get(1, 0), mean_cast_gender.get(2, 0), 100 - (mean_cast_gender.get(1, 0) + mean_cast_gender.get(2, 0))]\n",
    "crew_sizes = [mean_crew_gender.get(1, 0), mean_crew_gender.get(2, 0), 100 - (mean_crew_gender.get(1, 0) + mean_crew_gender.get(2, 0))]\n",
    "labels = ['Female', 'Male', 'Non-binary/Unspecified']\n",
    "\n",
    "fig, ax = plt.subplots(1, 2, figsize=(14, 7))\n",
    "ax[0].pie(cast_sizes, labels=labels, autopct='%1.1f%%')\n",
    "ax[0].set_title('Average Cast Gender Distribution')\n",
    "ax[0].axis('equal') \n",
    "\n",
    "ax[1].pie(crew_sizes, labels=labels, autopct='%1.1f%%')\n",
    "ax[1].set_title('Average Crew Gender Distribution')\n",
    "ax[1].axis('equal')  \n",
    "\n",
    "plt.tight_layout()\n",
    "plt.show()"
   ]
  },
  {
   "cell_type": "code",
   "execution_count": 168,
   "metadata": {},
   "outputs": [
    {
     "name": "stderr",
     "output_type": "stream",
     "text": [
      "C:\\Users\\zeyne\\AppData\\Local\\Temp\\ipykernel_1848\\295154952.py:1: DtypeWarning: Columns (3) have mixed types. Specify dtype option on import or set low_memory=False.\n",
      "  imdb_movies= pd.read_csv(\"./additional_dataset/IMDb movies.csv\")\n"
     ]
    },
    {
     "data": {
      "text/html": [
       "<div>\n",
       "<style scoped>\n",
       "    .dataframe tbody tr th:only-of-type {\n",
       "        vertical-align: middle;\n",
       "    }\n",
       "\n",
       "    .dataframe tbody tr th {\n",
       "        vertical-align: top;\n",
       "    }\n",
       "\n",
       "    .dataframe thead th {\n",
       "        text-align: right;\n",
       "    }\n",
       "</style>\n",
       "<table border=\"1\" class=\"dataframe\">\n",
       "  <thead>\n",
       "    <tr style=\"text-align: right;\">\n",
       "      <th></th>\n",
       "      <th>imdb_title_id</th>\n",
       "      <th>title</th>\n",
       "      <th>original_title</th>\n",
       "      <th>year</th>\n",
       "      <th>date_published</th>\n",
       "      <th>genre</th>\n",
       "      <th>duration</th>\n",
       "      <th>country</th>\n",
       "      <th>language</th>\n",
       "      <th>director</th>\n",
       "      <th>...</th>\n",
       "      <th>actors</th>\n",
       "      <th>description</th>\n",
       "      <th>avg_vote</th>\n",
       "      <th>votes</th>\n",
       "      <th>budget</th>\n",
       "      <th>usa_gross_income</th>\n",
       "      <th>worlwide_gross_income</th>\n",
       "      <th>metascore</th>\n",
       "      <th>reviews_from_users</th>\n",
       "      <th>reviews_from_critics</th>\n",
       "    </tr>\n",
       "  </thead>\n",
       "  <tbody>\n",
       "    <tr>\n",
       "      <th>0</th>\n",
       "      <td>tt0000009</td>\n",
       "      <td>Miss Jerry</td>\n",
       "      <td>Miss Jerry</td>\n",
       "      <td>1894</td>\n",
       "      <td>1894-10-09</td>\n",
       "      <td>Romance</td>\n",
       "      <td>45</td>\n",
       "      <td>USA</td>\n",
       "      <td>NaN</td>\n",
       "      <td>Alexander Black</td>\n",
       "      <td>...</td>\n",
       "      <td>Blanche Bayliss, William Courtenay, Chauncey D...</td>\n",
       "      <td>The adventures of a female reporter in the 1890s.</td>\n",
       "      <td>5.9</td>\n",
       "      <td>154</td>\n",
       "      <td>NaN</td>\n",
       "      <td>NaN</td>\n",
       "      <td>NaN</td>\n",
       "      <td>NaN</td>\n",
       "      <td>1.0</td>\n",
       "      <td>2.0</td>\n",
       "    </tr>\n",
       "    <tr>\n",
       "      <th>1</th>\n",
       "      <td>tt0000574</td>\n",
       "      <td>The Story of the Kelly Gang</td>\n",
       "      <td>The Story of the Kelly Gang</td>\n",
       "      <td>1906</td>\n",
       "      <td>1906-12-26</td>\n",
       "      <td>Biography, Crime, Drama</td>\n",
       "      <td>70</td>\n",
       "      <td>Australia</td>\n",
       "      <td>NaN</td>\n",
       "      <td>Charles Tait</td>\n",
       "      <td>...</td>\n",
       "      <td>Elizabeth Tait, John Tait, Norman Campbell, Be...</td>\n",
       "      <td>True story of notorious Australian outlaw Ned ...</td>\n",
       "      <td>6.1</td>\n",
       "      <td>589</td>\n",
       "      <td>$ 2250</td>\n",
       "      <td>NaN</td>\n",
       "      <td>NaN</td>\n",
       "      <td>NaN</td>\n",
       "      <td>7.0</td>\n",
       "      <td>7.0</td>\n",
       "    </tr>\n",
       "  </tbody>\n",
       "</table>\n",
       "<p>2 rows × 22 columns</p>\n",
       "</div>"
      ],
      "text/plain": [
       "  imdb_title_id                        title               original_title  \\\n",
       "0     tt0000009                   Miss Jerry                   Miss Jerry   \n",
       "1     tt0000574  The Story of the Kelly Gang  The Story of the Kelly Gang   \n",
       "\n",
       "   year date_published                    genre  duration    country language  \\\n",
       "0  1894     1894-10-09                  Romance        45        USA      NaN   \n",
       "1  1906     1906-12-26  Biography, Crime, Drama        70  Australia      NaN   \n",
       "\n",
       "          director  ...                                             actors  \\\n",
       "0  Alexander Black  ...  Blanche Bayliss, William Courtenay, Chauncey D...   \n",
       "1     Charles Tait  ...  Elizabeth Tait, John Tait, Norman Campbell, Be...   \n",
       "\n",
       "                                         description avg_vote votes  budget  \\\n",
       "0  The adventures of a female reporter in the 1890s.      5.9   154     NaN   \n",
       "1  True story of notorious Australian outlaw Ned ...      6.1   589  $ 2250   \n",
       "\n",
       "   usa_gross_income worlwide_gross_income metascore reviews_from_users  \\\n",
       "0               NaN                   NaN       NaN                1.0   \n",
       "1               NaN                   NaN       NaN                7.0   \n",
       "\n",
       "   reviews_from_critics  \n",
       "0                   2.0  \n",
       "1                   7.0  \n",
       "\n",
       "[2 rows x 22 columns]"
      ]
     },
     "execution_count": 168,
     "metadata": {},
     "output_type": "execute_result"
    }
   ],
   "source": [
    "imdb_movies= pd.read_csv(\"./additional_dataset/IMDb movies.csv\")\n",
    "imdb_movies.head(2)"
   ]
  },
  {
   "cell_type": "code",
   "execution_count": 169,
   "metadata": {},
   "outputs": [
    {
     "data": {
      "text/plain": [
       "31307"
      ]
     },
     "execution_count": 169,
     "metadata": {},
     "output_type": "execute_result"
    }
   ],
   "source": [
    "imdb_movies = imdb_movies[imdb_movies['original_title'].str.lower().isin(movie_df['Movie name'].str.lower())]\n",
    "len(imdb_movies)"
   ]
  },
  {
   "cell_type": "code",
   "execution_count": 179,
   "metadata": {},
   "outputs": [
    {
     "data": {
      "text/html": [
       "<div>\n",
       "<style scoped>\n",
       "    .dataframe tbody tr th:only-of-type {\n",
       "        vertical-align: middle;\n",
       "    }\n",
       "\n",
       "    .dataframe tbody tr th {\n",
       "        vertical-align: top;\n",
       "    }\n",
       "\n",
       "    .dataframe thead th {\n",
       "        text-align: right;\n",
       "    }\n",
       "</style>\n",
       "<table border=\"1\" class=\"dataframe\">\n",
       "  <thead>\n",
       "    <tr style=\"text-align: right;\">\n",
       "      <th></th>\n",
       "      <th>tconst</th>\n",
       "      <th>averageRating</th>\n",
       "      <th>numVotes</th>\n",
       "    </tr>\n",
       "  </thead>\n",
       "  <tbody>\n",
       "    <tr>\n",
       "      <th>0</th>\n",
       "      <td>tt0000001</td>\n",
       "      <td>5.7</td>\n",
       "      <td>2008</td>\n",
       "    </tr>\n",
       "    <tr>\n",
       "      <th>1</th>\n",
       "      <td>tt0000002</td>\n",
       "      <td>5.8</td>\n",
       "      <td>270</td>\n",
       "    </tr>\n",
       "    <tr>\n",
       "      <th>2</th>\n",
       "      <td>tt0000003</td>\n",
       "      <td>6.5</td>\n",
       "      <td>1923</td>\n",
       "    </tr>\n",
       "    <tr>\n",
       "      <th>3</th>\n",
       "      <td>tt0000004</td>\n",
       "      <td>5.5</td>\n",
       "      <td>178</td>\n",
       "    </tr>\n",
       "    <tr>\n",
       "      <th>4</th>\n",
       "      <td>tt0000005</td>\n",
       "      <td>6.2</td>\n",
       "      <td>2698</td>\n",
       "    </tr>\n",
       "    <tr>\n",
       "      <th>...</th>\n",
       "      <td>...</td>\n",
       "      <td>...</td>\n",
       "      <td>...</td>\n",
       "    </tr>\n",
       "    <tr>\n",
       "      <th>1378280</th>\n",
       "      <td>tt9916730</td>\n",
       "      <td>7.6</td>\n",
       "      <td>11</td>\n",
       "    </tr>\n",
       "    <tr>\n",
       "      <th>1378281</th>\n",
       "      <td>tt9916766</td>\n",
       "      <td>7.0</td>\n",
       "      <td>22</td>\n",
       "    </tr>\n",
       "    <tr>\n",
       "      <th>1378282</th>\n",
       "      <td>tt9916778</td>\n",
       "      <td>7.2</td>\n",
       "      <td>36</td>\n",
       "    </tr>\n",
       "    <tr>\n",
       "      <th>1378283</th>\n",
       "      <td>tt9916840</td>\n",
       "      <td>8.8</td>\n",
       "      <td>6</td>\n",
       "    </tr>\n",
       "    <tr>\n",
       "      <th>1378284</th>\n",
       "      <td>tt9916880</td>\n",
       "      <td>8.2</td>\n",
       "      <td>6</td>\n",
       "    </tr>\n",
       "  </tbody>\n",
       "</table>\n",
       "<p>1378285 rows × 3 columns</p>\n",
       "</div>"
      ],
      "text/plain": [
       "            tconst  averageRating  numVotes\n",
       "0        tt0000001            5.7      2008\n",
       "1        tt0000002            5.8       270\n",
       "2        tt0000003            6.5      1923\n",
       "3        tt0000004            5.5       178\n",
       "4        tt0000005            6.2      2698\n",
       "...            ...            ...       ...\n",
       "1378280  tt9916730            7.6        11\n",
       "1378281  tt9916766            7.0        22\n",
       "1378282  tt9916778            7.2        36\n",
       "1378283  tt9916840            8.8         6\n",
       "1378284  tt9916880            8.2         6\n",
       "\n",
       "[1378285 rows x 3 columns]"
      ]
     },
     "execution_count": 179,
     "metadata": {},
     "output_type": "execute_result"
    }
   ],
   "source": [
    "df_imdb"
   ]
  },
  {
   "cell_type": "code",
   "execution_count": 182,
   "metadata": {},
   "outputs": [
    {
     "name": "stderr",
     "output_type": "stream",
     "text": [
      "C:\\Users\\zeyne\\AppData\\Local\\Temp\\ipykernel_1848\\88434223.py:4: DtypeWarning: Columns (4) have mixed types. Specify dtype option on import or set low_memory=False.\n",
      "  df_imdb_title = pd.read_csv('./additional_dataset/title_data.tsv', delimiter='\\t')\n"
     ]
    }
   ],
   "source": [
    "import pandas as pd\n",
    "# Read the TSV file into a DataFrame\n",
    "df_imdb = pd.read_csv('./additional_dataset/data.tsv', delimiter='\\t')\n",
    "df_imdb_title = pd.read_csv('./additional_dataset/title_data.tsv', delimiter='\\t')\n"
   ]
  },
  {
   "cell_type": "code",
   "execution_count": 183,
   "metadata": {},
   "outputs": [],
   "source": [
    "df_imdb_info = df_imdb.merge(df_imdb_title, on='tconst', how='inner')"
   ]
  },
  {
   "cell_type": "code",
   "execution_count": 191,
   "metadata": {},
   "outputs": [
    {
     "data": {
      "text/html": [
       "<div>\n",
       "<style scoped>\n",
       "    .dataframe tbody tr th:only-of-type {\n",
       "        vertical-align: middle;\n",
       "    }\n",
       "\n",
       "    .dataframe tbody tr th {\n",
       "        vertical-align: top;\n",
       "    }\n",
       "\n",
       "    .dataframe thead th {\n",
       "        text-align: right;\n",
       "    }\n",
       "</style>\n",
       "<table border=\"1\" class=\"dataframe\">\n",
       "  <thead>\n",
       "    <tr style=\"text-align: right;\">\n",
       "      <th></th>\n",
       "      <th>tconst</th>\n",
       "      <th>averageRating</th>\n",
       "      <th>numVotes</th>\n",
       "      <th>titleType</th>\n",
       "      <th>primaryTitle</th>\n",
       "      <th>originalTitle</th>\n",
       "      <th>isAdult</th>\n",
       "      <th>startYear</th>\n",
       "      <th>endYear</th>\n",
       "      <th>runtimeMinutes</th>\n",
       "      <th>genres</th>\n",
       "    </tr>\n",
       "  </thead>\n",
       "  <tbody>\n",
       "    <tr>\n",
       "      <th>0</th>\n",
       "      <td>tt0000001</td>\n",
       "      <td>5.7</td>\n",
       "      <td>2008</td>\n",
       "      <td>short</td>\n",
       "      <td>Carmencita</td>\n",
       "      <td>Carmencita</td>\n",
       "      <td>0</td>\n",
       "      <td>1894</td>\n",
       "      <td>\\N</td>\n",
       "      <td>1</td>\n",
       "      <td>Documentary,Short</td>\n",
       "    </tr>\n",
       "    <tr>\n",
       "      <th>1</th>\n",
       "      <td>tt0000002</td>\n",
       "      <td>5.8</td>\n",
       "      <td>270</td>\n",
       "      <td>short</td>\n",
       "      <td>Le clown et ses chiens</td>\n",
       "      <td>Le clown et ses chiens</td>\n",
       "      <td>0</td>\n",
       "      <td>1892</td>\n",
       "      <td>\\N</td>\n",
       "      <td>5</td>\n",
       "      <td>Animation,Short</td>\n",
       "    </tr>\n",
       "  </tbody>\n",
       "</table>\n",
       "</div>"
      ],
      "text/plain": [
       "      tconst  averageRating  numVotes titleType            primaryTitle  \\\n",
       "0  tt0000001            5.7      2008     short              Carmencita   \n",
       "1  tt0000002            5.8       270     short  Le clown et ses chiens   \n",
       "\n",
       "            originalTitle isAdult startYear endYear runtimeMinutes  \\\n",
       "0              Carmencita       0      1894      \\N              1   \n",
       "1  Le clown et ses chiens       0      1892      \\N              5   \n",
       "\n",
       "              genres  \n",
       "0  Documentary,Short  \n",
       "1    Animation,Short  "
      ]
     },
     "execution_count": 191,
     "metadata": {},
     "output_type": "execute_result"
    }
   ],
   "source": [
    "df_imdb_info.head(2)"
   ]
  },
  {
   "cell_type": "code",
   "execution_count": 198,
   "metadata": {},
   "outputs": [],
   "source": [
    "df_imdb_info.drop_duplicates(subset=['originalTitle'], inplace=True)"
   ]
  },
  {
   "cell_type": "code",
   "execution_count": 199,
   "metadata": {},
   "outputs": [],
   "source": [
    "merged_movie_info = pd.merge(movie_df, df_imdb_info, right_on=df_imdb_info['originalTitle'].str.lower(), left_on=movie_df['Movie name'].str.lower(), how='inner')"
   ]
  },
  {
   "cell_type": "code",
   "execution_count": 200,
   "metadata": {},
   "outputs": [
    {
     "data": {
      "text/plain": [
       "54466"
      ]
     },
     "execution_count": 200,
     "metadata": {},
     "output_type": "execute_result"
    }
   ],
   "source": [
    "len(merged_movie_info)"
   ]
  },
  {
   "cell_type": "code",
   "execution_count": 202,
   "metadata": {},
   "outputs": [
    {
     "data": {
      "text/plain": [
       "0"
      ]
     },
     "execution_count": 202,
     "metadata": {},
     "output_type": "execute_result"
    }
   ],
   "source": [
    "merged_movie_info[\"averageRating\"].isnull().sum()"
   ]
  },
  {
   "cell_type": "code",
   "execution_count": 177,
   "metadata": {},
   "outputs": [
    {
     "data": {
      "text/html": [
       "<div>\n",
       "<style scoped>\n",
       "    .dataframe tbody tr th:only-of-type {\n",
       "        vertical-align: middle;\n",
       "    }\n",
       "\n",
       "    .dataframe tbody tr th {\n",
       "        vertical-align: top;\n",
       "    }\n",
       "\n",
       "    .dataframe thead th {\n",
       "        text-align: right;\n",
       "    }\n",
       "</style>\n",
       "<table border=\"1\" class=\"dataframe\">\n",
       "  <thead>\n",
       "    <tr style=\"text-align: right;\">\n",
       "      <th></th>\n",
       "      <th>Wikipedia movie ID</th>\n",
       "      <th>Freebase movie ID</th>\n",
       "      <th>Movie name</th>\n",
       "      <th>Movie release date</th>\n",
       "      <th>Movie box office revenue</th>\n",
       "      <th>Movie runtime</th>\n",
       "      <th>Movie languages</th>\n",
       "      <th>Movie countries</th>\n",
       "      <th>Movie genres</th>\n",
       "      <th>Movie release year</th>\n",
       "      <th>Year Interval</th>\n",
       "    </tr>\n",
       "  </thead>\n",
       "  <tbody>\n",
       "    <tr>\n",
       "      <th>0</th>\n",
       "      <td>975900</td>\n",
       "      <td>/m/03vyhn</td>\n",
       "      <td>Ghosts of Mars</td>\n",
       "      <td>2001-08-24</td>\n",
       "      <td>14010832.0</td>\n",
       "      <td>98.0</td>\n",
       "      <td>[English Language]</td>\n",
       "      <td>[United States of America]</td>\n",
       "      <td>[Thriller, Science Fiction, Horror, Adventure,...</td>\n",
       "      <td>2001</td>\n",
       "      <td>2000-2005</td>\n",
       "    </tr>\n",
       "    <tr>\n",
       "      <th>1</th>\n",
       "      <td>3196793</td>\n",
       "      <td>/m/08yl5d</td>\n",
       "      <td>Getting Away with Murder: The JonBenét Ramsey ...</td>\n",
       "      <td>2000-02-16</td>\n",
       "      <td>NaN</td>\n",
       "      <td>95.0</td>\n",
       "      <td>[English Language]</td>\n",
       "      <td>[United States of America]</td>\n",
       "      <td>[Mystery, Biographical film, Drama, Crime Drama]</td>\n",
       "      <td>2000</td>\n",
       "      <td>2000-2005</td>\n",
       "    </tr>\n",
       "    <tr>\n",
       "      <th>2</th>\n",
       "      <td>28463795</td>\n",
       "      <td>/m/0crgdbh</td>\n",
       "      <td>Brun bitter</td>\n",
       "      <td>1988</td>\n",
       "      <td>NaN</td>\n",
       "      <td>83.0</td>\n",
       "      <td>[Norwegian Language]</td>\n",
       "      <td>[Norway]</td>\n",
       "      <td>[Crime Fiction, Drama]</td>\n",
       "      <td>1988</td>\n",
       "      <td>1985-1990</td>\n",
       "    </tr>\n",
       "    <tr>\n",
       "      <th>3</th>\n",
       "      <td>9363483</td>\n",
       "      <td>/m/0285_cd</td>\n",
       "      <td>White Of The Eye</td>\n",
       "      <td>1987</td>\n",
       "      <td>NaN</td>\n",
       "      <td>110.0</td>\n",
       "      <td>[English Language]</td>\n",
       "      <td>[United Kingdom]</td>\n",
       "      <td>[Thriller, Erotic thriller, Psychological thri...</td>\n",
       "      <td>1987</td>\n",
       "      <td>1985-1990</td>\n",
       "    </tr>\n",
       "    <tr>\n",
       "      <th>4</th>\n",
       "      <td>261236</td>\n",
       "      <td>/m/01mrr1</td>\n",
       "      <td>A Woman in Flames</td>\n",
       "      <td>1983</td>\n",
       "      <td>NaN</td>\n",
       "      <td>106.0</td>\n",
       "      <td>[German Language]</td>\n",
       "      <td>[Germany]</td>\n",
       "      <td>[Drama]</td>\n",
       "      <td>1983</td>\n",
       "      <td>1980-1985</td>\n",
       "    </tr>\n",
       "    <tr>\n",
       "      <th>...</th>\n",
       "      <td>...</td>\n",
       "      <td>...</td>\n",
       "      <td>...</td>\n",
       "      <td>...</td>\n",
       "      <td>...</td>\n",
       "      <td>...</td>\n",
       "      <td>...</td>\n",
       "      <td>...</td>\n",
       "      <td>...</td>\n",
       "      <td>...</td>\n",
       "      <td>...</td>\n",
       "    </tr>\n",
       "    <tr>\n",
       "      <th>81736</th>\n",
       "      <td>35228177</td>\n",
       "      <td>/m/0j7hxnt</td>\n",
       "      <td>Mermaids: The Body Found</td>\n",
       "      <td>2011-03-19</td>\n",
       "      <td>NaN</td>\n",
       "      <td>120.0</td>\n",
       "      <td>[English Language]</td>\n",
       "      <td>[United States of America]</td>\n",
       "      <td>[Drama]</td>\n",
       "      <td>2011</td>\n",
       "      <td>2010-2015</td>\n",
       "    </tr>\n",
       "    <tr>\n",
       "      <th>81737</th>\n",
       "      <td>34980460</td>\n",
       "      <td>/m/0g4pl34</td>\n",
       "      <td>Knuckle</td>\n",
       "      <td>2011-01-21</td>\n",
       "      <td>NaN</td>\n",
       "      <td>96.0</td>\n",
       "      <td>[English Language]</td>\n",
       "      <td>[Ireland, United Kingdom]</td>\n",
       "      <td>[Biographical film, Drama, Documentary]</td>\n",
       "      <td>2011</td>\n",
       "      <td>2010-2015</td>\n",
       "    </tr>\n",
       "    <tr>\n",
       "      <th>81738</th>\n",
       "      <td>9971909</td>\n",
       "      <td>/m/02pygw1</td>\n",
       "      <td>Another Nice Mess</td>\n",
       "      <td>1972-09-22</td>\n",
       "      <td>NaN</td>\n",
       "      <td>66.0</td>\n",
       "      <td>[English Language]</td>\n",
       "      <td>[United States of America]</td>\n",
       "      <td>[Satire, Comedy]</td>\n",
       "      <td>1972</td>\n",
       "      <td>1970-1975</td>\n",
       "    </tr>\n",
       "    <tr>\n",
       "      <th>81739</th>\n",
       "      <td>913762</td>\n",
       "      <td>/m/03pcrp</td>\n",
       "      <td>The Super Dimension Fortress Macross II: Lover...</td>\n",
       "      <td>1992-05-21</td>\n",
       "      <td>NaN</td>\n",
       "      <td>150.0</td>\n",
       "      <td>[Japanese Language]</td>\n",
       "      <td>[Japan]</td>\n",
       "      <td>[Science Fiction, Japanese Movies, Adventure, ...</td>\n",
       "      <td>1992</td>\n",
       "      <td>1990-1995</td>\n",
       "    </tr>\n",
       "    <tr>\n",
       "      <th>81740</th>\n",
       "      <td>12476867</td>\n",
       "      <td>/m/02w7zz8</td>\n",
       "      <td>Spliced</td>\n",
       "      <td>2002</td>\n",
       "      <td>NaN</td>\n",
       "      <td>86.0</td>\n",
       "      <td>[English Language]</td>\n",
       "      <td>[Canada]</td>\n",
       "      <td>[Thriller, Horror, Slasher, Teen]</td>\n",
       "      <td>2002</td>\n",
       "      <td>2000-2005</td>\n",
       "    </tr>\n",
       "  </tbody>\n",
       "</table>\n",
       "<p>74839 rows × 11 columns</p>\n",
       "</div>"
      ],
      "text/plain": [
       "       Wikipedia movie ID Freebase movie ID  \\\n",
       "0                  975900         /m/03vyhn   \n",
       "1                 3196793         /m/08yl5d   \n",
       "2                28463795        /m/0crgdbh   \n",
       "3                 9363483        /m/0285_cd   \n",
       "4                  261236         /m/01mrr1   \n",
       "...                   ...               ...   \n",
       "81736            35228177        /m/0j7hxnt   \n",
       "81737            34980460        /m/0g4pl34   \n",
       "81738             9971909        /m/02pygw1   \n",
       "81739              913762         /m/03pcrp   \n",
       "81740            12476867        /m/02w7zz8   \n",
       "\n",
       "                                              Movie name Movie release date  \\\n",
       "0                                         Ghosts of Mars         2001-08-24   \n",
       "1      Getting Away with Murder: The JonBenét Ramsey ...         2000-02-16   \n",
       "2                                            Brun bitter               1988   \n",
       "3                                       White Of The Eye               1987   \n",
       "4                                      A Woman in Flames               1983   \n",
       "...                                                  ...                ...   \n",
       "81736                           Mermaids: The Body Found         2011-03-19   \n",
       "81737                                            Knuckle         2011-01-21   \n",
       "81738                                  Another Nice Mess         1972-09-22   \n",
       "81739  The Super Dimension Fortress Macross II: Lover...         1992-05-21   \n",
       "81740                                            Spliced               2002   \n",
       "\n",
       "       Movie box office revenue  Movie runtime       Movie languages  \\\n",
       "0                    14010832.0           98.0    [English Language]   \n",
       "1                           NaN           95.0    [English Language]   \n",
       "2                           NaN           83.0  [Norwegian Language]   \n",
       "3                           NaN          110.0    [English Language]   \n",
       "4                           NaN          106.0     [German Language]   \n",
       "...                         ...            ...                   ...   \n",
       "81736                       NaN          120.0    [English Language]   \n",
       "81737                       NaN           96.0    [English Language]   \n",
       "81738                       NaN           66.0    [English Language]   \n",
       "81739                       NaN          150.0   [Japanese Language]   \n",
       "81740                       NaN           86.0    [English Language]   \n",
       "\n",
       "                  Movie countries  \\\n",
       "0      [United States of America]   \n",
       "1      [United States of America]   \n",
       "2                        [Norway]   \n",
       "3                [United Kingdom]   \n",
       "4                       [Germany]   \n",
       "...                           ...   \n",
       "81736  [United States of America]   \n",
       "81737   [Ireland, United Kingdom]   \n",
       "81738  [United States of America]   \n",
       "81739                     [Japan]   \n",
       "81740                    [Canada]   \n",
       "\n",
       "                                            Movie genres  Movie release year  \\\n",
       "0      [Thriller, Science Fiction, Horror, Adventure,...                2001   \n",
       "1       [Mystery, Biographical film, Drama, Crime Drama]                2000   \n",
       "2                                 [Crime Fiction, Drama]                1988   \n",
       "3      [Thriller, Erotic thriller, Psychological thri...                1987   \n",
       "4                                                [Drama]                1983   \n",
       "...                                                  ...                 ...   \n",
       "81736                                            [Drama]                2011   \n",
       "81737            [Biographical film, Drama, Documentary]                2011   \n",
       "81738                                   [Satire, Comedy]                1972   \n",
       "81739  [Science Fiction, Japanese Movies, Adventure, ...                1992   \n",
       "81740                  [Thriller, Horror, Slasher, Teen]                2002   \n",
       "\n",
       "      Year Interval  \n",
       "0         2000-2005  \n",
       "1         2000-2005  \n",
       "2         1985-1990  \n",
       "3         1985-1990  \n",
       "4         1980-1985  \n",
       "...             ...  \n",
       "81736     2010-2015  \n",
       "81737     2010-2015  \n",
       "81738     1970-1975  \n",
       "81739     1990-1995  \n",
       "81740     2000-2005  \n",
       "\n",
       "[74839 rows x 11 columns]"
      ]
     },
     "execution_count": 177,
     "metadata": {},
     "output_type": "execute_result"
    }
   ],
   "source": [
    "movie_df"
   ]
  },
  {
   "cell_type": "code",
   "execution_count": null,
   "metadata": {},
   "outputs": [],
   "source": []
  }
 ],
 "metadata": {
  "kernelspec": {
   "display_name": "Python 3.12.0 64-bit",
   "language": "python",
   "name": "python3"
  },
  "language_info": {
   "codemirror_mode": {
    "name": "ipython",
    "version": 3
   },
   "file_extension": ".py",
   "mimetype": "text/x-python",
   "name": "python",
   "nbconvert_exporter": "python",
   "pygments_lexer": "ipython3",
   "version": "3.8.0"
  },
  "vscode": {
   "interpreter": {
    "hash": "e5caea6d12d409e581fb1b4c47b14818d1747468cda300b0567b052faa310528"
   }
  }
 },
 "nbformat": 4,
 "nbformat_minor": 2
}
