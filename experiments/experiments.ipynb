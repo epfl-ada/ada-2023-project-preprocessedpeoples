{
 "cells": [
  {
   "cell_type": "code",
   "execution_count": 1,
   "id": "initial_id",
   "metadata": {
    "collapsed": true,
    "ExecuteTime": {
     "end_time": "2023-11-16T17:46:38.749242Z",
     "start_time": "2023-11-16T17:46:38.724788Z"
    }
   },
   "outputs": [
    {
     "name": "stdout",
     "output_type": "stream",
     "text": [
      "InlineBackend(InlineBackendConfig) options\n",
      "----------------------------------------\n",
      "InlineBackend.close_figures=<Bool>\n",
      "    Close all figures at the end of each cell.\n",
      "            When True, ensures that each cell starts with no active figures, but it\n",
      "            also means that one must keep track of references in order to edit or\n",
      "            redraw figures in subsequent cells. This mode is ideal for the notebook,\n",
      "            where residual plots from other cells might be surprising.\n",
      "            When False, one must call figure() to create new figures. This means\n",
      "            that gcf() and getfigs() can reference figures created in other cells,\n",
      "            and the active figure can continue to be edited with pylab/pyplot\n",
      "            methods that reference the current active figure. This mode facilitates\n",
      "            iterative editing of figures, and behaves most consistently with\n",
      "            other matplotlib backends, but figure barriers between cells must\n",
      "            be explicit.\n",
      "    Current: True\n",
      "InlineBackend.figure_format=<Unicode>\n",
      "    The figure format to enable (deprecated\n",
      "                                             use `figure_formats` instead)\n",
      "    Current: 'retina'\n",
      "InlineBackend.figure_formats=<set-item-1>...\n",
      "    A set of figure formats to enable: 'png',\n",
      "                    'retina', 'jpeg', 'svg', 'pdf'.\n",
      "    Current: {'retina'}\n",
      "InlineBackend.print_figure_kwargs=<key-1>=<value-1>...\n",
      "    Extra kwargs to be passed to fig.canvas.print_figure.\n",
      "            Logical examples include: bbox_inches, quality (for jpeg figures),\n",
      "    etc.\n",
      "    Current: {'bbox_inches': 'tight'}\n",
      "InlineBackend.rc=<key-1>=<value-1>...\n",
      "    Dict to manage matplotlib configuration defaults in the inline\n",
      "            backend. As of v0.1.4 IPython/Jupyter do not override defaults out of\n",
      "            the box, but third-party tools may use it to manage rc data. To change\n",
      "            personal defaults for matplotlib,  use matplotlib's configuration\n",
      "            tools, or customize this class in your `ipython_config.py` file for\n",
      "            IPython/Jupyter-specific usage.\n",
      "    Current: {}\n"
     ]
    }
   ],
   "source": [
    "import numpy as np\n",
    "import pandas as pd\n",
    "import seaborn as sns\n",
    "import matplotlib.pyplot as plt\n",
    "\n",
    "%matplotlib inline\n",
    "%config InlineBackend.figure_format = 'retina'\n",
    "%config InlineBackend\n",
    "%load_ext autoreload\n",
    "%autoreload 2"
   ]
  },
  {
   "cell_type": "code",
   "execution_count": 2,
   "outputs": [
    {
     "data": {
      "text/plain": "   wiki_movie_id freebase_movie_id movie_release_date  \\\n0         975900         /m/03vyhn         2001-08-24   \n1         975900         /m/03vyhn         2001-08-24   \n2         975900         /m/03vyhn         2001-08-24   \n3         975900         /m/03vyhn         2001-08-24   \n4         975900         /m/03vyhn         2001-08-24   \n\n               character_name actor_date_of_birth actor_gender  actor_height  \\\n0                    Akooshay          1958-08-26            F         1.620   \n1  Lieutenant Melanie Ballard          1974-08-15            F         1.780   \n2         Desolation Williams          1969-06-15            M         1.727   \n3          Sgt Jericho Butler          1967-09-12            M         1.750   \n4             Bashira Kincaid          1977-09-25            F         1.650   \n\n  actor_ethnicity          actor_name  actor_age_at_release  \\\n0             NaN      Wanda De Jesus                  42.0   \n1      /m/044038p  Natasha Henstridge                  27.0   \n2         /m/0x67            Ice Cube                  32.0   \n3             NaN       Jason Statham                  33.0   \n4             NaN         Clea DuVall                  23.0   \n\n  freebase_character_actor_map_id freebase_character_id freebase_actor_id  \n0                      /m/0bgchxw            /m/0bgcj3x        /m/03wcfv7  \n1                       /m/0jys3m            /m/0bgchn4         /m/0346l4  \n2                       /m/0jys3g            /m/0bgchn_        /m/01vw26l  \n3                      /m/02vchl6            /m/0bgchnq         /m/034hyc  \n4                      /m/02vbb3r            /m/0bgchp9         /m/01y9xg  ",
      "text/html": "<div>\n<style scoped>\n    .dataframe tbody tr th:only-of-type {\n        vertical-align: middle;\n    }\n\n    .dataframe tbody tr th {\n        vertical-align: top;\n    }\n\n    .dataframe thead th {\n        text-align: right;\n    }\n</style>\n<table border=\"1\" class=\"dataframe\">\n  <thead>\n    <tr style=\"text-align: right;\">\n      <th></th>\n      <th>wiki_movie_id</th>\n      <th>freebase_movie_id</th>\n      <th>movie_release_date</th>\n      <th>character_name</th>\n      <th>actor_date_of_birth</th>\n      <th>actor_gender</th>\n      <th>actor_height</th>\n      <th>actor_ethnicity</th>\n      <th>actor_name</th>\n      <th>actor_age_at_release</th>\n      <th>freebase_character_actor_map_id</th>\n      <th>freebase_character_id</th>\n      <th>freebase_actor_id</th>\n    </tr>\n  </thead>\n  <tbody>\n    <tr>\n      <th>0</th>\n      <td>975900</td>\n      <td>/m/03vyhn</td>\n      <td>2001-08-24</td>\n      <td>Akooshay</td>\n      <td>1958-08-26</td>\n      <td>F</td>\n      <td>1.620</td>\n      <td>NaN</td>\n      <td>Wanda De Jesus</td>\n      <td>42.0</td>\n      <td>/m/0bgchxw</td>\n      <td>/m/0bgcj3x</td>\n      <td>/m/03wcfv7</td>\n    </tr>\n    <tr>\n      <th>1</th>\n      <td>975900</td>\n      <td>/m/03vyhn</td>\n      <td>2001-08-24</td>\n      <td>Lieutenant Melanie Ballard</td>\n      <td>1974-08-15</td>\n      <td>F</td>\n      <td>1.780</td>\n      <td>/m/044038p</td>\n      <td>Natasha Henstridge</td>\n      <td>27.0</td>\n      <td>/m/0jys3m</td>\n      <td>/m/0bgchn4</td>\n      <td>/m/0346l4</td>\n    </tr>\n    <tr>\n      <th>2</th>\n      <td>975900</td>\n      <td>/m/03vyhn</td>\n      <td>2001-08-24</td>\n      <td>Desolation Williams</td>\n      <td>1969-06-15</td>\n      <td>M</td>\n      <td>1.727</td>\n      <td>/m/0x67</td>\n      <td>Ice Cube</td>\n      <td>32.0</td>\n      <td>/m/0jys3g</td>\n      <td>/m/0bgchn_</td>\n      <td>/m/01vw26l</td>\n    </tr>\n    <tr>\n      <th>3</th>\n      <td>975900</td>\n      <td>/m/03vyhn</td>\n      <td>2001-08-24</td>\n      <td>Sgt Jericho Butler</td>\n      <td>1967-09-12</td>\n      <td>M</td>\n      <td>1.750</td>\n      <td>NaN</td>\n      <td>Jason Statham</td>\n      <td>33.0</td>\n      <td>/m/02vchl6</td>\n      <td>/m/0bgchnq</td>\n      <td>/m/034hyc</td>\n    </tr>\n    <tr>\n      <th>4</th>\n      <td>975900</td>\n      <td>/m/03vyhn</td>\n      <td>2001-08-24</td>\n      <td>Bashira Kincaid</td>\n      <td>1977-09-25</td>\n      <td>F</td>\n      <td>1.650</td>\n      <td>NaN</td>\n      <td>Clea DuVall</td>\n      <td>23.0</td>\n      <td>/m/02vbb3r</td>\n      <td>/m/0bgchp9</td>\n      <td>/m/01y9xg</td>\n    </tr>\n  </tbody>\n</table>\n</div>"
     },
     "execution_count": 2,
     "metadata": {},
     "output_type": "execute_result"
    }
   ],
   "source": [
    "header = ['wiki_movie_id', 'freebase_movie_id', 'movie_release_date', 'character_name', 'actor_date_of_birth',\n",
    "          'actor_gender', 'actor_height', 'actor_ethnicity', 'actor_name', 'actor_age_at_release',\n",
    "          'freebase_character_actor_map_id', 'freebase_character_id', 'freebase_actor_id']\n",
    "df = pd.read_csv('dataset/character.metadata.tsv', sep='\\t', names=header)\n",
    "df.head()"
   ],
   "metadata": {
    "collapsed": false,
    "ExecuteTime": {
     "end_time": "2023-11-16T17:46:39.588225Z",
     "start_time": "2023-11-16T17:46:38.749814Z"
    }
   },
   "id": "9fe8744546d1e90e"
  },
  {
   "cell_type": "code",
   "execution_count": 16,
   "outputs": [],
   "source": [
    "import xml.etree.ElementTree as ET\n",
    "import gzip\n",
    "import xmltodict\n",
    "\n",
    "movie_id = '23270459'\n",
    "# Load and parse the XML file\n",
    "directory = 'dataset/corenlp_plot_summaries/'\n",
    "file_path = directory + movie_id + '.xml.gz'"
   ],
   "metadata": {
    "collapsed": false,
    "ExecuteTime": {
     "end_time": "2023-11-16T17:54:44.146646Z",
     "start_time": "2023-11-16T17:54:44.130603Z"
    }
   },
   "id": "ac94ddf79c8618b2"
  },
  {
   "cell_type": "code",
   "execution_count": 4,
   "outputs": [],
   "source": [
    "def extract_corenlp_xml(filename):\n",
    "    tree = ET.parse(gzip.open(filename))\n",
    "    #xml to json\n",
    "    xmlstr = ET.tostring(tree.getroot(), encoding='utf8', method='xml')\n",
    "    data_dict = xmltodict.parse(xmlstr)\n",
    "    return data_dict"
   ],
   "metadata": {
    "collapsed": false,
    "ExecuteTime": {
     "end_time": "2023-11-16T17:46:39.634404Z",
     "start_time": "2023-11-16T17:46:39.605298Z"
    }
   },
   "id": "85e0bca1f0cb0b22"
  },
  {
   "cell_type": "code",
   "execution_count": 5,
   "outputs": [],
   "source": [
    "file = extract_corenlp_xml(file_path)"
   ],
   "metadata": {
    "collapsed": false,
    "ExecuteTime": {
     "end_time": "2023-11-16T17:46:39.790488Z",
     "start_time": "2023-11-16T17:46:39.618816Z"
    }
   },
   "id": "897d8320a07d51fd"
  },
  {
   "cell_type": "code",
   "execution_count": null,
   "outputs": [],
   "source": [
    "file"
   ],
   "metadata": {
    "collapsed": false,
    "is_executing": true,
    "ExecuteTime": {
     "start_time": "2023-11-16T18:26:23.150708Z"
    }
   },
   "id": "49a77ecab5e02f9a"
  },
  {
   "cell_type": "code",
   "execution_count": 6,
   "outputs": [
    {
     "data": {
      "text/plain": "{'Dominick': {},\n 'Cobb': {},\n 'Arthur': {},\n 'Saito': {},\n 'Mallorie': {},\n 'Maurice': {},\n 'Fischer': {},\n 'Robert': {},\n 'Yusuf': {},\n 'Eames': {},\n 'Peter': {},\n 'Browning': {},\n 'Mal': {}}"
     },
     "execution_count": 6,
     "metadata": {},
     "output_type": "execute_result"
    }
   ],
   "source": [
    "characters = {}  # Dictionary to hold character information\n",
    "for sentence in file['root']['document']['sentences']['sentence']:\n",
    "    entities = sentence.get('tokens', {}).get('token', [])\n",
    "    tokens = sentence['tokens']['token']\n",
    "\n",
    "    # Extract entities and classify them as characters\n",
    "    for entity in entities:\n",
    "        if type(entity) is dict and entity.get('NER') is not None and entity[\n",
    "            'NER'] == 'PERSON':  # Assuming 'type' is the correct key for entity type\n",
    "            char_name = entity['word']\n",
    "            if char_name not in characters:\n",
    "                characters[char_name] = {}\n",
    "characters"
   ],
   "metadata": {
    "collapsed": false,
    "ExecuteTime": {
     "end_time": "2023-11-16T17:46:39.795918Z",
     "start_time": "2023-11-16T17:46:39.771994Z"
    }
   },
   "id": "b4b5bd2beab61008"
  },
  {
   "cell_type": "code",
   "execution_count": 7,
   "outputs": [
    {
     "data": {
      "text/plain": "{'Dominick': {},\n 'Cobb': {'mentions': [{'@representative': 'true',\n    'sentence': '1',\n    'start': '1',\n    'end': '9',\n    'head': '8'},\n   {'sentence': '1', 'start': '8', 'end': '9', 'head': '8'},\n   {'sentence': '5', 'start': '1', 'end': '3', 'head': '1'},\n   {'sentence': '6', 'start': '6', 'end': '23', 'head': '10'},\n   {'sentence': '6', 'start': '6', 'end': '11', 'head': '10'},\n   {'sentence': '6', 'start': '10', 'end': '11', 'head': '10'},\n   {'sentence': '6', 'start': '12', 'end': '14', 'head': '12'},\n   {'sentence': '7', 'start': '6', 'end': '8', 'head': '6'},\n   {'sentence': '9', 'start': '2', 'end': '3', 'head': '2'},\n   {'sentence': '9', 'start': '8', 'end': '9', 'head': '8'},\n   {'sentence': '9', 'start': '16', 'end': '17', 'head': '16'},\n   {'sentence': '9', 'start': '19', 'end': '20', 'head': '19'},\n   {'sentence': '9', 'start': '26', 'end': '27', 'head': '26'},\n   {'sentence': '10', 'start': '1', 'end': '2', 'head': '1'},\n   {'sentence': '10', 'start': '7', 'end': '8', 'head': '7'},\n   {'sentence': '11', 'start': '10', 'end': '11', 'head': '10'},\n   {'sentence': '11', 'start': '12', 'end': '13', 'head': '12'},\n   {'sentence': '12', 'start': '27', 'end': '28', 'head': '27'},\n   {'sentence': '23', 'start': '1', 'end': '2', 'head': '1'},\n   {'sentence': '23', 'start': '6', 'end': '7', 'head': '6'},\n   {'sentence': '24', 'start': '25', 'end': '26', 'head': '25'},\n   {'sentence': '24', 'start': '32', 'end': '33', 'head': '32'},\n   {'sentence': '25', 'start': '1', 'end': '2', 'head': '1'},\n   {'sentence': '25', 'start': '8', 'end': '9', 'head': '8'},\n   {'sentence': '25', 'start': '17', 'end': '18', 'head': '17'},\n   {'sentence': '26', 'start': '9', 'end': '11', 'head': '9'},\n   {'sentence': '31', 'start': '1', 'end': '4', 'head': '1'},\n   {'sentence': '31', 'start': '1', 'end': '2', 'head': '1'},\n   {'sentence': '32', 'start': '1', 'end': '2', 'head': '1'},\n   {'sentence': '32', 'start': '3', 'end': '4', 'head': '3'},\n   {'sentence': '32', 'start': '12', 'end': '13', 'head': '12'},\n   {'sentence': '33', 'start': '1', 'end': '2', 'head': '1'},\n   {'sentence': '33', 'start': '6', 'end': '7', 'head': '6'},\n   {'sentence': '34', 'start': '3', 'end': '6', 'head': '3'},\n   {'sentence': '34', 'start': '3', 'end': '4', 'head': '3'},\n   {'sentence': '35', 'start': '2', 'end': '3', 'head': '2'},\n   {'sentence': '35', 'start': '5', 'end': '6', 'head': '5'},\n   {'sentence': '37', 'start': '7', 'end': '8', 'head': '7'},\n   {'sentence': '39', 'start': '1', 'end': '2', 'head': '1'},\n   {'sentence': '40', 'start': '6', 'end': '7', 'head': '6'},\n   {'sentence': '41', 'start': '8', 'end': '9', 'head': '8'},\n   {'sentence': '41', 'start': '12', 'end': '13', 'head': '12'},\n   {'@representative': 'true',\n    'sentence': '1',\n    'start': '1',\n    'end': '44',\n    'head': '8'},\n   {'sentence': '37', 'start': '7', 'end': '10', 'head': '7'}]},\n 'Arthur': {'mentions': [{'@representative': 'true',\n    'sentence': '7',\n    'start': '9',\n    'end': '11',\n    'head': '9'},\n   {'sentence': '1', 'start': '12', 'end': '13', 'head': '12'},\n   {'sentence': '10', 'start': '53', 'end': '54', 'head': '53'},\n   {'sentence': '17', 'start': '13', 'end': '15', 'head': '13'},\n   {'sentence': '19', 'start': '21', 'end': '23', 'head': '21'},\n   {'sentence': '20', 'start': '1', 'end': '2', 'head': '1'},\n   {'sentence': '37', 'start': '35', 'end': '36', 'head': '35'}]},\n 'Saito': {'mentions': [{'@representative': 'true',\n    'sentence': '1',\n    'start': '39',\n    'end': '43',\n    'head': '42'},\n   {'sentence': '7', 'start': '1', 'end': '2', 'head': '1'},\n   {'sentence': '7', 'start': '17', 'end': '18', 'head': '17'},\n   {'sentence': '8', 'start': '1', 'end': '2', 'head': '1'},\n   {'sentence': '8', 'start': '10', 'end': '11', 'head': '10'},\n   {'sentence': '9', 'start': '5', 'end': '6', 'head': '5'},\n   {'sentence': '11', 'start': '1', 'end': '2', 'head': '1'},\n   {'sentence': '11', 'start': '5', 'end': '6', 'head': '5'},\n   {'sentence': '15', 'start': '12', 'end': '13', 'head': '12'},\n   {'sentence': '26', 'start': '1', 'end': '2', 'head': '1'},\n   {'sentence': '26', 'start': '5', 'end': '6', 'head': '5'},\n   {'sentence': '31', 'start': '10', 'end': '11', 'head': '10'},\n   {'sentence': '35', 'start': '17', 'end': '18', 'head': '17'},\n   {'sentence': '37', 'start': '9', 'end': '10', 'head': '9'},\n   {'sentence': '38', 'start': '1', 'end': '16', 'head': '1'},\n   {'sentence': '38', 'start': '1', 'end': '2', 'head': '1'},\n   {'sentence': '39', 'start': '6', 'end': '7', 'head': '6'},\n   {'sentence': '40', 'start': '1', 'end': '2', 'head': '1'},\n   {'sentence': '41', 'start': '5', 'end': '6', 'head': '5'},\n   {'sentence': '41', 'start': '17', 'end': '18', 'head': '17'},\n   {'sentence': '41', 'start': '22', 'end': '23', 'head': '22'},\n   {'sentence': '42', 'start': '2', 'end': '3', 'head': '2'},\n   {'sentence': '42', 'start': '5', 'end': '6', 'head': '5'}]},\n 'Mallorie': {},\n 'Maurice': {},\n 'Fischer': {'mentions': [{'@representative': 'true',\n    'sentence': '8',\n    'start': '24',\n    'end': '27',\n    'head': '26'},\n   {'sentence': '8', 'start': '13', 'end': '15', 'head': '14'},\n   {'sentence': '12', 'start': '4', 'end': '5', 'head': '4'},\n   {'sentence': '12', 'start': '9', 'end': '10', 'head': '9'},\n   {'sentence': '12', 'start': '24', 'end': '26', 'head': '25'},\n   {'sentence': '14', 'start': '15', 'end': '16', 'head': '15'},\n   {'sentence': '15', 'start': '2', 'end': '4', 'head': '2'},\n   {'sentence': '16', 'start': '7', 'end': '9', 'head': '7'},\n   {'sentence': '16', 'start': '16', 'end': '17', 'head': '16'},\n   {'sentence': '16', 'start': '18', 'end': '19', 'head': '18'},\n   {'sentence': '17', 'start': '24', 'end': '28', 'head': '24'},\n   {'sentence': '17', 'start': '24', 'end': '25', 'head': '24'},\n   {'sentence': '17', 'start': '27', 'end': '28', 'head': '27'},\n   {'sentence': '18', 'start': '15', 'end': '16', 'head': '15'},\n   {'sentence': '18', 'start': '36', 'end': '38', 'head': '36'},\n   {'sentence': '26', 'start': '19', 'end': '20', 'head': '19'},\n   {'sentence': '31', 'start': '8', 'end': '9', 'head': '8'},\n   {'sentence': '36', 'start': '3', 'end': '4', 'head': '3'},\n   {'sentence': '36', 'start': '9', 'end': '10', 'head': '9'},\n   {'sentence': '36', 'start': '18', 'end': '19', 'head': '18'},\n   {'sentence': '36', 'start': '32', 'end': '33', 'head': '32'},\n   {'sentence': '36', 'start': '35', 'end': '36', 'head': '35'},\n   {'sentence': '36', 'start': '38', 'end': '41', 'head': '40'},\n   {'sentence': '36', 'start': '38', 'end': '39', 'head': '38'}]},\n 'Robert': {},\n 'Yusuf': {'mentions': [{'@representative': 'true',\n    'sentence': '10',\n    'start': '18',\n    'end': '54',\n    'head': '18'},\n   {'sentence': '10', 'start': '18', 'end': '19', 'head': '18'},\n   {'sentence': '10', 'start': '20', 'end': '54', 'head': '21'},\n   {'sentence': '14', 'start': '6', 'end': '8', 'head': '6'},\n   {'sentence': '17', 'start': '1', 'end': '2', 'head': '1'},\n   {'sentence': '17', 'start': '28', 'end': '29', 'head': '28'},\n   {'sentence': '19', 'start': '1', 'end': '2', 'head': '1'},\n   {'sentence': '19', 'start': '10', 'end': '11', 'head': '10'},\n   {'sentence': '37', 'start': '54', 'end': '56', 'head': '54'}]},\n 'Eames': {'mentions': [{'@representative': 'true',\n    'sentence': '10',\n    'start': '10',\n    'end': '54',\n    'head': '10'},\n   {'sentence': '10', 'start': '10', 'end': '11', 'head': '10'},\n   {'sentence': '10', 'start': '12', 'end': '14', 'head': '13'},\n   {'sentence': '10', 'start': '15', 'end': '17', 'head': '16'},\n   {'sentence': '16', 'start': '1', 'end': '2', 'head': '1'},\n   {'sentence': '18', 'start': '13', 'end': '14', 'head': '13'},\n   {'sentence': '19', 'start': '32', 'end': '34', 'head': '32'},\n   {'sentence': '20', 'start': '27', 'end': '29', 'head': '27'},\n   {'sentence': '31', 'start': '13', 'end': '14', 'head': '13'},\n   {'sentence': '31', 'start': '16', 'end': '17', 'head': '16'},\n   {'sentence': '37', 'start': '27', 'end': '28', 'head': '27'}]},\n 'Peter': {},\n 'Browning': {'mentions': [{'@representative': 'true',\n    'sentence': '16',\n    'start': '11',\n    'end': '13',\n    'head': '12'},\n   {'sentence': '16', 'start': '7', 'end': '13', 'head': '9'},\n   {'sentence': '16', 'start': '7', 'end': '10', 'head': '9'},\n   {'sentence': '17', 'start': '33', 'end': '34', 'head': '33'},\n   {'sentence': '18', 'start': '21', 'end': '23', 'head': '21'}]},\n 'Mal': {'mentions': [{'@representative': 'true',\n    'sentence': '32',\n    'start': '6',\n    'end': '17',\n    'head': '6'},\n   {'sentence': '23', 'start': '13', 'end': '14', 'head': '13'},\n   {'sentence': '24', 'start': '11', 'end': '12', 'head': '11'},\n   {'sentence': '24', 'start': '14', 'end': '15', 'head': '14'},\n   {'sentence': '24', 'start': '34', 'end': '35', 'head': '34'},\n   {'sentence': '26', 'start': '13', 'end': '14', 'head': '13'},\n   {'sentence': '32', 'start': '6', 'end': '7', 'head': '6'},\n   {'sentence': '33', 'start': '10', 'end': '12', 'head': '10'},\n   {'sentence': '33', 'start': '16', 'end': '17', 'head': '16'},\n   {'sentence': '33', 'start': '28', 'end': '29', 'head': '28'},\n   {'sentence': '33', 'start': '67', 'end': '68', 'head': '67'},\n   {'sentence': '33', 'start': '74', 'end': '75', 'head': '74'},\n   {'sentence': '34', 'start': '7', 'end': '8', 'head': '7'}]}}"
     },
     "execution_count": 7,
     "metadata": {},
     "output_type": "execute_result"
    }
   ],
   "source": [
    "# coreference to ida\n",
    "\n",
    "mentioned_characters = []\n",
    "mentioned_non_characters = []\n",
    "\n",
    "for coreference in file['root']['document']['coreference']['coreference']:\n",
    "    # find token\n",
    "    for mention in coreference['mention']:\n",
    "        # get sentence associated with the mention , -1 because sentence index in mention start from 1\n",
    "        sentence = file['root']['document']['sentences']['sentence'][int(mention['sentence']) - 1]\n",
    "\n",
    "        if mention.get('@representative') is not None and mention.get('@representative') == 'true':\n",
    "            # check if mention is a character\n",
    "            token = sentence['tokens']['token'][int(mention['head']) - 1]['word']\n",
    "            if token not in characters:\n",
    "                break\n",
    "\n",
    "        if characters[token].get('mentions') is None:\n",
    "            characters[token]['mentions'] = [mention]\n",
    "        else:\n",
    "            characters[token]['mentions'].append(mention)\n",
    "\n",
    "characters"
   ],
   "metadata": {
    "collapsed": false,
    "ExecuteTime": {
     "end_time": "2023-11-16T17:46:39.870820Z",
     "start_time": "2023-11-16T17:46:39.797149Z"
    }
   },
   "id": "24f8d3ba5008711a"
  },
  {
   "cell_type": "markdown",
   "source": [
    "Create [sentence][token] -> character (optional) map"
   ],
   "metadata": {
    "collapsed": false
   },
   "id": "cd7c98c7ae2bfb50"
  },
  {
   "cell_type": "code",
   "execution_count": 8,
   "outputs": [
    {
     "name": "stdout",
     "output_type": "stream",
     "text": [
      "Cobb\n",
      "None\n"
     ]
    },
    {
     "data": {
      "text/plain": "{1: {8: 'Cobb', 12: 'Arthur', 42: 'Saito'},\n 5: {1: 'Cobb'},\n 6: {10: 'Cobb', 12: 'Cobb'},\n 7: {6: 'Cobb', 9: 'Arthur', 1: 'Saito', 17: 'Saito'},\n 9: {2: 'Cobb', 8: 'Cobb', 16: 'Cobb', 19: 'Cobb', 26: 'Cobb', 5: 'Saito'},\n 10: {1: 'Cobb',\n  7: 'Cobb',\n  53: 'Arthur',\n  18: 'Yusuf',\n  21: 'Yusuf',\n  10: 'Eames',\n  13: 'Eames',\n  16: 'Eames'},\n 11: {10: 'Cobb', 12: 'Cobb', 1: 'Saito', 5: 'Saito'},\n 12: {27: 'Cobb', 4: 'Fischer', 9: 'Fischer', 25: 'Fischer'},\n 23: {1: 'Cobb', 6: 'Cobb', 13: 'Mal'},\n 24: {25: 'Cobb', 32: 'Cobb', 11: 'Mal', 14: 'Mal', 34: 'Mal'},\n 25: {1: 'Cobb', 8: 'Cobb', 17: 'Cobb'},\n 26: {9: 'Cobb', 1: 'Saito', 5: 'Saito', 19: 'Fischer', 13: 'Mal'},\n 31: {1: 'Cobb', 10: 'Saito', 8: 'Fischer', 13: 'Eames', 16: 'Eames'},\n 32: {1: 'Cobb', 3: 'Cobb', 12: 'Cobb', 6: 'Mal'},\n 33: {1: 'Cobb',\n  6: 'Cobb',\n  10: 'Mal',\n  16: 'Mal',\n  28: 'Mal',\n  67: 'Mal',\n  74: 'Mal'},\n 34: {3: 'Cobb', 7: 'Mal'},\n 35: {2: 'Cobb', 5: 'Cobb', 17: 'Saito'},\n 37: {7: 'Cobb', 35: 'Arthur', 9: 'Saito', 54: 'Yusuf', 27: 'Eames'},\n 39: {1: 'Cobb', 6: 'Saito'},\n 40: {6: 'Cobb', 1: 'Saito'},\n 41: {8: 'Cobb', 12: 'Cobb', 5: 'Saito', 17: 'Saito', 22: 'Saito'},\n 17: {13: 'Arthur',\n  24: 'Fischer',\n  27: 'Fischer',\n  1: 'Yusuf',\n  28: 'Yusuf',\n  33: 'Browning'},\n 19: {21: 'Arthur', 1: 'Yusuf', 10: 'Yusuf', 32: 'Eames'},\n 20: {1: 'Arthur', 27: 'Eames'},\n 8: {1: 'Saito', 10: 'Saito', 26: 'Fischer', 14: 'Fischer'},\n 15: {12: 'Saito', 2: 'Fischer'},\n 38: {1: 'Saito'},\n 42: {2: 'Saito', 5: 'Saito'},\n 14: {15: 'Fischer', 6: 'Yusuf'},\n 16: {7: 'Fischer',\n  16: 'Fischer',\n  18: 'Fischer',\n  1: 'Eames',\n  12: 'Browning',\n  9: 'Browning'},\n 18: {15: 'Fischer', 36: 'Fischer', 13: 'Eames', 21: 'Browning'},\n 36: {3: 'Fischer',\n  9: 'Fischer',\n  18: 'Fischer',\n  32: 'Fischer',\n  35: 'Fischer',\n  40: 'Fischer',\n  38: 'Fischer'}}"
     },
     "execution_count": 8,
     "metadata": {},
     "output_type": "execute_result"
    }
   ],
   "source": [
    "mention_inverse_map = {}\n",
    "\n",
    "for mention in characters:\n",
    "    if characters[mention].get('mentions') is None:\n",
    "        continue\n",
    "    for m in characters[mention]['mentions']:\n",
    "        if mention_inverse_map.get(int(m['sentence'])) is None:\n",
    "            mention_inverse_map[int(m['sentence'])] = {}\n",
    "        mention_inverse_map[int(m['sentence'])][int(m['head'])] = mention\n",
    "\n",
    "\n",
    "def get_mentioned_character(sentence_id, token_id):\n",
    "    if mention_inverse_map.get(sentence_id) is None:\n",
    "        return None\n",
    "    character = mention_inverse_map[sentence_id].get(token_id)\n",
    "    return character\n",
    "\n",
    "\n",
    "print(get_mentioned_character(1, 8))\n",
    "print(get_mentioned_character(1, 9))\n",
    "mention_inverse_map"
   ],
   "metadata": {
    "collapsed": false,
    "ExecuteTime": {
     "end_time": "2023-11-16T17:46:39.873713Z",
     "start_time": "2023-11-16T17:46:39.839308Z"
    }
   },
   "id": "4d0c5094dc74b457"
  },
  {
   "cell_type": "code",
   "execution_count": 9,
   "outputs": [
    {
     "data": {
      "text/plain": "{'@type': 'nn',\n 'governor': {'@idx': '8', '#text': 'Cobb'},\n 'dependent': {'@idx': '3', '#text': 'architect'}}"
     },
     "execution_count": 9,
     "metadata": {},
     "output_type": "execute_result"
    }
   ],
   "source": [
    "file['root']['document']['sentences']['sentence'][0]['basic-dependencies']['dep'][2]"
   ],
   "metadata": {
    "collapsed": false,
    "ExecuteTime": {
     "end_time": "2023-11-16T17:46:39.953211Z",
     "start_time": "2023-11-16T17:46:39.844585Z"
    }
   },
   "id": "8c506c462ebab813"
  },
  {
   "cell_type": "code",
   "execution_count": 10,
   "outputs": [],
   "source": [
    "def print_dep(sentence, character, other, is_dependent):\n",
    "    print(f\"{character} {'(dependant)' if is_dependent else '(governor)'} {'->' if is_dependent else '<-'} {other} {'(dependant)' if not is_dependent else '(governor)'}\")\n",
    "    for token in sentence['tokens']['token']:\n",
    "        print(token['word'], end=' ')\n",
    "    print(\"\\n\")\n",
    "\n",
    "\n",
    "def add_dep(dependencies, sentence, dep, type, character, other, is_dependent):\n",
    "    if dependencies.get(character) is None:\n",
    "        dependencies[character] = {}\n",
    "    if dependencies[character].get(type) is None:\n",
    "        dependencies[character][type] = {}\n",
    "    role = 'dependant' if is_dependent else 'governor'\n",
    "    if dependencies[character][type].get(role) is None:\n",
    "        dependencies[character][type][role] = []\n",
    "    dependencies[character][type][role].append(other)\n",
    "    # print_dep(sentence, character, other, is_dependent)"
   ],
   "metadata": {
    "collapsed": false,
    "ExecuteTime": {
     "end_time": "2023-11-16T17:46:39.970186Z",
     "start_time": "2023-11-16T17:46:39.866742Z"
    }
   },
   "id": "9fba9eedf93c3a60"
  },
  {
   "cell_type": "code",
   "execution_count": 11,
   "outputs": [],
   "source": [
    "dep_alg = 'collapsed-ccprocessed-dependencies'\n",
    "\n",
    "# get all types of dependencies\n",
    "types = set()\n",
    "for sentence in file['root']['document']['sentences']['sentence']:\n",
    "    if sentence.get(dep_alg) is None:\n",
    "        continue\n",
    "    for dep in sentence[dep_alg]['dep']:\n",
    "        types.add(dep['@type'])\n",
    "\n",
    "dependencies = {}\n",
    "\n",
    "for t in types:\n",
    "    # print(f\"\\n----\\n{t}\\n---\\n\")\n",
    "    for sentence in file['root']['document']['sentences']['sentence']:\n",
    "        if sentence.get(dep_alg) is None:\n",
    "            continue\n",
    "\n",
    "        for dep in sentence[dep_alg]['dep']:\n",
    "            if dep.get('@type') != t:\n",
    "                continue\n",
    "\n",
    "            character = get_mentioned_character(int(sentence['@id']), int(dep.get('dependent').get('@idx')))\n",
    "            if character is not None:\n",
    "                other = sentence['tokens']['token'][int(dep.get('governor').get('@idx')) - 1]['lemma']\n",
    "                if other in characters:\n",
    "                    continue\n",
    "                add_dep(dependencies, sentence, dep, t, character, other, True)\n",
    "\n",
    "            character = get_mentioned_character(int(sentence['@id']), int(dep.get('governor').get('@idx')))\n",
    "            if character is not None:\n",
    "                other = sentence['tokens']['token'][int(dep.get('dependent').get('@idx')) - 1]['lemma']\n",
    "                if other in characters:\n",
    "                    continue\n",
    "                add_dep(dependencies, sentence, dep, t, character, other, False)\n",
    "        # print(dep.get('dependent'))"
   ],
   "metadata": {
    "collapsed": false,
    "ExecuteTime": {
     "end_time": "2023-11-16T17:46:39.984542Z",
     "start_time": "2023-11-16T17:46:39.881702Z"
    }
   },
   "id": "80aa93c3348aba99"
  },
  {
   "cell_type": "code",
   "execution_count": 12,
   "outputs": [
    {
     "data": {
      "text/plain": "{'Saito': {'cop': {'governor': ['be']},\n  'nsubj': {'governor': ['target'],\n   'dependant': ['reveal',\n    'be',\n    'wish',\n    'use',\n    'accompany',\n    'know',\n    'succumb',\n    'enter',\n    'turn',\n    'play']},\n  'poss': {'dependant': ['competitor', 'wound', 'child', 'child', 'child']},\n  'prep_except': {'dependant': ['member']},\n  'amod': {'governor': ['powerful', 'japanese', 'aged']},\n  'rcmod': {'governor': ['die']},\n  'dep': {'dependant': ['wound']},\n  'nn': {'governor': ['businessman'], 'dependant': ['honor']},\n  'det': {'governor': ['a']},\n  'prep_for': {'dependant': ['search']},\n  'dobj': {'dependant': ['find', 'find']}},\n 'Fischer': {'cop': {'governor': ['be']},\n  'nsubj': {'dependant': ['die', 'reconsider', 'enter', 'man'],\n   'governor': ['he']},\n  'prep_in': {'dependant': ['plant']},\n  'conj_and': {'dependant': ['son']},\n  'xcomp': {'dependant': ['wish']},\n  'possessive': {'governor': [\"'s\"]},\n  'poss': {'dependant': ['body',\n    'attack',\n    'godfather',\n    'father',\n    'father',\n    'man'],\n   'governor': ['he']},\n  'aux': {'governor': ['to']},\n  'prep_into': {'dependant': ['go']},\n  'amod': {'governor': ['own']},\n  'dep': {'dependant': ['competitor']},\n  'partmod': {'governor': ['convince']},\n  'prep_with': {'dependant': ['flight']},\n  'nn': {'governor': ['heir']},\n  'dobj': {'dependant': ['abduct',\n    'recruit',\n    'convince',\n    'kill',\n    'find',\n    'kick',\n    'bring']},\n  'nsubjpass': {'dependant': ['tell']}},\n 'Arthur': {'nsubj': {'dependant': ['perform', 'sell']},\n  'conj_and': {'dependant': ['chemist']},\n  'poss': {'dependant': ['dream', 'world']},\n  'nn': {'dependant': ['blast']},\n  'nsubjpass': {'dependant': ['force']}},\n 'Cobb': {'nsubj': {'dependant': ['sell',\n    'succeed',\n    'return',\n    'accept',\n    'assemble',\n    'succeed',\n    'reveal',\n    'spend',\n    'do',\n    'flee',\n    'leave',\n    'enter',\n    'confront',\n    'stay',\n    'refuse',\n    'confess',\n    'responsible',\n    'attain',\n    'choose',\n    'find',\n    'pass']},\n  'conj_and': {'governor': ['partner', 'team', 'Ariadne'],\n   'dependant': ['honor']},\n  'prep_to': {'dependant': ['due']},\n  'possessive': {'governor': [\"'s\"]},\n  'poss': {'dependant': ['totem',\n    'wife',\n    'influence',\n    'child',\n    'team',\n    'team',\n    'child',\n    'father-in-law',\n    'projection',\n    'projection',\n    'confession']},\n  'appos': {'governor': ['wife']},\n  'conj_but': {'governor': ['Ariadne']},\n  'prep_except': {'dependant': ['member']},\n  'prep_against': {'dependant': ['clear']},\n  'amod': {'governor': ['former']},\n  'dep': {'governor': ['perform', 'sabotage', 'associate'],\n   'dependant': ['attack']},\n  'prep_with': {'dependant': ['flight', 'reality']},\n  'nn': {'governor': ['dream', 'architect', 'Dom'], 'dependant': ['reality']},\n  'dobj': {'dependant': ['incriminate']}},\n 'Eames': {'nsubj': {'dependant': ['take', 'remain', 'detonate']},\n  'agent': {'dependant': ['dream']},\n  'poss': {'dependant': ['dream', 'race', 'level']},\n  'dep': {'dependant': ['team', 'team', 'team']},\n  'nn': {'governor': ['identity']},\n  'det': {'governor': ['a']}},\n 'Yusuf': {'nsubj': {'dependant': ['drive', 'initiate']},\n  'conj_and': {'governor': ['Ariadne']},\n  'poss': {'dependant': ['dream', 'kidnapping', 'kick', 'dream']},\n  'appos': {'governor': ['Ariadne']},\n  'rcmod': {'governor': ['concoct']},\n  'det': {'governor': ['a']}},\n 'Mal': {'nsubj': {'dependant': ['convinced',\n    'dream',\n    'commit',\n    'leave',\n    'continue']},\n  'poss': {'dependant': ['death', 'suicide', 'mind']},\n  'prep_of': {'dependant': ['projection', 'projection']},\n  'rcmod': {'governor': ['try']},\n  'prep_with': {'dependant': ['year']},\n  'dobj': {'dependant': ['wake', 'shoot']}},\n 'Browning': {'agent': {'dependant': ['orchestrate']},\n  'poss': {'dependant': ['subconscious']},\n  'appos': {'dependant': ['godfather']},\n  'prep_of': {'dependant': ['appearance']}}}"
     },
     "execution_count": 12,
     "metadata": {},
     "output_type": "execute_result"
    }
   ],
   "source": [
    "dependencies"
   ],
   "metadata": {
    "collapsed": false,
    "ExecuteTime": {
     "end_time": "2023-11-16T17:46:40.057028Z",
     "start_time": "2023-11-16T17:46:39.903427Z"
    }
   },
   "id": "1539ad48dc07128c"
  },
  {
   "cell_type": "markdown",
   "source": [
    "Important dependencies:\n",
    "- __agent__ - An agent performing the action in a passive sentence, typically following \"by,\" like \"Browning (dependant) -> orchestrate (governor)\" in \"Kidnapping was orchestrated by Browning\"\n",
    "- __amod__ - Adjectival modifier. An adjective modifying a noun, like \"Saito (governor) <- japanese (dependant)\" in \"Japanese businessman Saito\"\n",
    "- __dobj__ - Direct object. A noun phrase receiving the action of a transitive verb, like \"Fischer (dependant) -> abduct (governor)\" in \"The team abducts Fischer \"\n",
    "- __nn__ - Noun compound modifier. A noun modifying another noun, like \"Saito (governor) <- businessman (dependant)\" in \"Japanese businessman Saito\"\n",
    "- __nsubj__ - Nominal subject. Nominal subject. The main noun or pronoun that the sentence is about, like \"Cobb (dependant) -> confront (governor)\" in \"Cobb confronts his projection\"\n",
    "- __nsubjpass__ - Passive nominal subject. The subject in a passive sentence, like \"Arthur (dependant) -> force (governor)\" in \"Arthur is forced to improvise\" \n",
    "- __poss__ - Possession modifier. A possessive noun or pronoun, like \"Arthur (dependant) -> dream (governor)\" in \"They are sedated into Arthur 's dream.\"\n",
    "\n",
    "Parsing dependencies to extract:\n",
    " - __actions_taken__ - agent, nsubj\n",
    " - __actions_received__ - dobj, nsubjpass, \n",
    " - __possessions__ - poss\n",
    " - __descriptions__ - amod, nn"
   ],
   "metadata": {
    "collapsed": false
   },
   "id": "5f049cd7dfc11ecb"
  },
  {
   "cell_type": "code",
   "execution_count": 13,
   "outputs": [
    {
     "data": {
      "text/plain": "{'Saito': {'actions_taken': ['reveal',\n   'be',\n   'wish',\n   'use',\n   'accompany',\n   'know',\n   'succumb',\n   'enter',\n   'turn',\n   'play'],\n  'actions_received': ['find', 'find'],\n  'possessions': ['competitor', 'wound', 'child', 'child', 'child'],\n  'descriptions': ['powerful', 'japanese', 'aged', 'businessman']},\n 'Fischer': {'actions_taken': ['die', 'reconsider', 'enter', 'man'],\n  'actions_received': ['abduct',\n   'recruit',\n   'convince',\n   'kill',\n   'find',\n   'kick',\n   'bring',\n   'tell'],\n  'possessions': ['body', 'attack', 'godfather', 'father', 'father', 'man'],\n  'descriptions': ['own', 'heir']},\n 'Arthur': {'actions_taken': ['perform', 'sell'],\n  'actions_received': ['force'],\n  'possessions': ['dream', 'world'],\n  'descriptions': []},\n 'Cobb': {'actions_taken': ['sell',\n   'succeed',\n   'return',\n   'accept',\n   'assemble',\n   'succeed',\n   'reveal',\n   'spend',\n   'do',\n   'flee',\n   'leave',\n   'enter',\n   'confront',\n   'stay',\n   'refuse',\n   'confess',\n   'responsible',\n   'attain',\n   'choose',\n   'find',\n   'pass'],\n  'actions_received': ['incriminate'],\n  'possessions': ['totem',\n   'wife',\n   'influence',\n   'child',\n   'team',\n   'team',\n   'child',\n   'father-in-law',\n   'projection',\n   'projection',\n   'confession'],\n  'descriptions': ['former', 'dream', 'architect', 'Dom']},\n 'Eames': {'actions_taken': ['take', 'remain', 'detonate', 'dream'],\n  'actions_received': [],\n  'possessions': ['dream', 'race', 'level'],\n  'descriptions': ['identity']},\n 'Yusuf': {'actions_taken': ['drive', 'initiate'],\n  'actions_received': [],\n  'possessions': ['dream', 'kidnapping', 'kick', 'dream'],\n  'descriptions': []},\n 'Mal': {'actions_taken': ['convinced',\n   'dream',\n   'commit',\n   'leave',\n   'continue'],\n  'actions_received': ['wake', 'shoot'],\n  'possessions': ['death', 'suicide', 'mind'],\n  'descriptions': []},\n 'Browning': {'actions_taken': ['orchestrate'],\n  'actions_received': [],\n  'possessions': ['subconscious'],\n  'descriptions': []}}"
     },
     "execution_count": 13,
     "metadata": {},
     "output_type": "execute_result"
    }
   ],
   "source": [
    "for character in dependencies:\n",
    "    actions_taken = []\n",
    "    actions_received = []\n",
    "    possessions = []\n",
    "    descriptions = []\n",
    "    \n",
    "    for type in dependencies[character]:\n",
    "        for role in dependencies[character][type]:\n",
    "            for other in dependencies[character][type][role]:\n",
    "                if type == 'agent' and role == 'dependant' or type == 'nsubj' and role == 'dependant':\n",
    "                    actions_taken.append(other)\n",
    "                if type == 'dobj' and role == 'dependant' or type == 'nsubjpass' and role == 'dependant':\n",
    "                    actions_received.append(other)\n",
    "                if type == 'poss' and role == 'dependant':\n",
    "                    possessions.append(other)\n",
    "                if type == 'amod' and role == 'governor' or type == 'nn' and role == 'governor':\n",
    "                    descriptions.append(other)\n",
    "    dependencies[character] = {\n",
    "        'actions_taken': actions_taken,\n",
    "        'actions_received': actions_received,\n",
    "        'possessions': possessions,\n",
    "        'descriptions': descriptions\n",
    "    }\n",
    "dependencies"
   ],
   "metadata": {
    "collapsed": false,
    "ExecuteTime": {
     "end_time": "2023-11-16T17:46:40.112126Z",
     "start_time": "2023-11-16T17:46:39.919296Z"
    }
   },
   "id": "15515ab7c62b2be4"
  },
  {
   "cell_type": "code",
   "execution_count": 18,
   "outputs": [],
   "source": [
    "#save dependencies to .json file with id of the movie as name\n",
    "import json\n",
    "\n",
    "# create directory if doesn't exist\n",
    "import os\n",
    "if not os.path.exists('dataset/characters'):\n",
    "    os.makedirs('dataset/characters')\n",
    "\n",
    "with open(f'dataset/characters/{movie_id}.json', 'w') as fp:\n",
    "    json.dump(dependencies, fp)"
   ],
   "metadata": {
    "collapsed": false,
    "ExecuteTime": {
     "end_time": "2023-11-16T17:55:20.248256Z",
     "start_time": "2023-11-16T17:55:20.232545Z"
    }
   },
   "id": "d4e679bb5815c5e1"
  },
  {
   "cell_type": "markdown",
   "source": [
    "__Character Frequency Analysis:__\n",
    "Count how often each character's name appears in the summary. More frequent mentions usually indicate a more central role in the narrative.\n",
    "\n",
    "__Sentiment Analysis:__\n",
    "Apply sentiment analysis to the sentences or phrases associated with each character. This can help you understand the narrative's emotional context around each character, indicating their role in the story's tone and themes.\n",
    "\n",
    "__Network Analysis__\n",
    "Create a network graph where nodes represent characters, and edges represent interactions or relationships between them. Analyzing this network can reveal central characters, isolated ones, or key relationships.\n",
    "\n",
    "Extracting Character Relationships from Plot Summaries by creating a network of interactions-dependencies between characters of any type or of a specific type target of an action, source of an action, etc.\n",
    "\n",
    "__Role Identification__\n",
    "Identify the verbs and actions associated with each character. For instance, a character frequently associated with verbs like 'lead', 'decide', or 'solve' might be a protagonist, while one associated with 'help' or 'support' might be a sidekick.\n",
    "\n",
    "__Topic Modeling__\n",
    "Use topic modeling to identify themes or topics in the movie summary and then see how each character is associated with these topics. This could provide insight into thematic significance.\n",
    "\n",
    "__Plot Point Association__\n",
    "Identify key plot points and see which characters are most involved in these. Characters central to major plot points are often more important to the narrative."
   ],
   "metadata": {
    "collapsed": false
   },
   "id": "d48e28c36ebe0c8"
  },
  {
   "cell_type": "code",
   "execution_count": 14,
   "outputs": [],
   "source": [],
   "metadata": {
    "collapsed": false,
    "ExecuteTime": {
     "end_time": "2023-11-16T17:46:40.146438Z",
     "start_time": "2023-11-16T17:46:39.956955Z"
    }
   },
   "id": "79772fe73ac3993a"
  },
  {
   "cell_type": "code",
   "execution_count": 14,
   "outputs": [],
   "source": [],
   "metadata": {
    "collapsed": false,
    "ExecuteTime": {
     "end_time": "2023-11-16T17:46:40.149116Z",
     "start_time": "2023-11-16T17:46:39.962623Z"
    }
   },
   "id": "62e15ee5b88c4e5c"
  },
  {
   "cell_type": "code",
   "execution_count": 14,
   "outputs": [],
   "source": [],
   "metadata": {
    "collapsed": false,
    "ExecuteTime": {
     "end_time": "2023-11-16T17:46:40.150035Z",
     "start_time": "2023-11-16T17:46:39.970687Z"
    }
   },
   "id": "5ae0d96506489ea2"
  }
 ],
 "metadata": {
  "kernelspec": {
   "display_name": "Python 3",
   "language": "python",
   "name": "python3"
  },
  "language_info": {
   "codemirror_mode": {
    "name": "ipython",
    "version": 2
   },
   "file_extension": ".py",
   "mimetype": "text/x-python",
   "name": "python",
   "nbconvert_exporter": "python",
   "pygments_lexer": "ipython2",
   "version": "2.7.6"
  }
 },
 "nbformat": 4,
 "nbformat_minor": 5
}
